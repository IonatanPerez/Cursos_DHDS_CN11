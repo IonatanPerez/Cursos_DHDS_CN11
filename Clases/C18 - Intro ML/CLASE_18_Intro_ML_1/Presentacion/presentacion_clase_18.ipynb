{
 "cells": [
  {
   "cell_type": "code",
   "execution_count": 1,
   "metadata": {
    "slideshow": {
     "slide_type": "skip"
    }
   },
   "outputs": [
    {
     "name": "stdout",
     "output_type": "stream",
     "text": [
      "/media/paulati/Nuevo vol/paula/dh/2021/dsad_2021_paula/common\n",
      "default checking\n",
      "Running command `conda list`... ok\n",
      "jupyterlab=2.2.6 already installed\n",
      "pandas=1.1.5 already installed\n",
      "bokeh=2.2.3 already installed\n",
      "seaborn=0.11.0 already installed\n",
      "matplotlib=3.3.2 already installed\n",
      "ipywidgets=7.5.1 already installed\n",
      "pytest=6.2.1 already installed\n",
      "chardet=4.0.0 already installed\n",
      "psutil=5.7.2 already installed\n",
      "scipy=1.5.2 already installed\n",
      "statsmodels=0.12.1 already installed\n",
      "scikit-learn=0.23.2 already installed\n",
      "xlrd=2.0.1 already installed\n",
      "Running command `conda install --yes nltk=3.5.0`... ok\n",
      "Collecting package metadata (current_repodata.json): ...working... done\n",
      "Solving environment: ...working... done\n",
      "\n",
      "# All requested packages already installed.\n",
      "\n",
      "\n",
      "unidecode=1.1.1 already installed\n",
      "pydotplus=2.0.2 already installed\n",
      "pandas-datareader=0.9.0 already installed\n",
      "flask=1.1.2 already installed\n"
     ]
    }
   ],
   "source": [
    "# initial setup\n",
    "%run \"../../../common/0_notebooks_base_setup.py\"\n"
   ]
  },
  {
   "cell_type": "code",
   "execution_count": 2,
   "metadata": {
    "slideshow": {
     "slide_type": "skip"
    }
   },
   "outputs": [],
   "source": [
    "# NOTA: Esta es la forma de armar html con algun contenido dinamico. No borrar porque sirve como ejemplo\n",
    "\n",
    "# cargo los estilos y la portada:\n",
    "\n",
    "#css_path = '../../../common/dhds.css'\n",
    "\n",
    "#raw_html = '<div class=\"Table\">' \\\n",
    "#    '<div class=\"Row\">' \\\n",
    "#        '<div class=\"Cell grey left\"> <img src=\"' + gs.images_base_url + 'M1/CLASE_02_Python1/Presentacion/img/M1_CLASE_02_portada.png\" align=\"center\" /></div>' \\\n",
    "#        '<div class=\"Cell right\">' \\\n",
    "#            '<div class=\"div-logo\"><img src=\"' + gs.images_base_url + 'common/logo_DH.png\" align=\"center\" width=70% /></div>' \\\n",
    "#            '<div class=\"div-curso\">DATA SCIENCE</div>' \\\n",
    "#            '<div class=\"div-modulo\">MÓDULO 1</div>' \\\n",
    "#            '<div class=\"div-contenido\">Entornos (Conda y Jupyter Notebooks) <br/> Repaso de Python</div>' \\\n",
    "#        '</div>' \\\n",
    "#    '</div>' \\\n",
    "#'</div>'        \n"
   ]
  },
  {
   "cell_type": "code",
   "execution_count": 3,
   "metadata": {
    "slideshow": {
     "slide_type": "skip"
    },
    "tags": [
     "to_remove"
    ]
   },
   "outputs": [],
   "source": [
    "# importante: tagear como slide to remove y generar por linea de comandos \n",
    "#from IPython.display import HTML as html\n",
    "#html(\"<link rel='stylesheet' href='\" + css_path + \"'>\" + raw_html)"
   ]
  },
  {
   "cell_type": "markdown",
   "metadata": {
    "slideshow": {
     "slide_type": "slide"
    }
   },
   "source": [
    "<link rel=\"stylesheet\" href='../../../common/dhds.css'>\n",
    "<div class=\"Table\">\n",
    "    <div class=\"Row\">\n",
    "        <div class=\"Cell grey left\"> <img src=\"https://raw.githubusercontent.com/Digital-House-DATA/ds_blend_2021_img/master/M3/CLASE_18_Intro_ML_1/Presentacion/img/M3_CLASE_18_portada.jpg\" align=\"center\" width=90% alt=\"Portada\"/> </div >                \n",
    "    <div class=\"Cell right\">\n",
    "            <div class=\"div-logo\"><img src=\"https://raw.githubusercontent.com/Digital-House-DATA/ds_blend_2021_img/master/common/logo_DH.png\" align=\"center\" width=70% /></div> \n",
    "            <div class=\"div-curso\">DATA SCIENCE</div>\n",
    "            <div class=\"div-modulo\">MÓDULO 3</div>            \n",
    "            <div class=\"div-contenido\">Introducción a Machine Learning 1</div>        \n",
    "        </div>\n",
    "    </div>    \n",
    "</div>        "
   ]
  },
  {
   "cell_type": "markdown",
   "metadata": {
    "slideshow": {
     "slide_type": "slide"
    }
   },
   "source": [
    "## Temas de la clase\n",
    "\n",
    "---\n",
    "\n",
    "- Concepto de Machine Learning. Tipos de aprendizaje.\n",
    "\n",
    "- Características principales de la biblioteca de Scikit-learn.\n",
    "\n",
    "- Metodología de trabajo para desarrollar modelos de aprendizaje automático.\n",
    "\n",
    "- Problemas de ajuste: Sesgo - Varianza. Underfitting y Overfitting.\n",
    "\n",
    "- Cross Validation.\n"
   ]
  },
  {
   "cell_type": "markdown",
   "metadata": {
    "slideshow": {
     "slide_type": "slide"
    }
   },
   "source": [
    "<div class=\"div-dhds-fondo-1\">  Introducción\n",
    "<img src=\"https://raw.githubusercontent.com/Digital-House-DATA/ds_blend_2021_img/master/M3/CLASE_18_Intro_ML_1/Presentacion/img/M3_CLASE_18_separador.png\" align=\"center\"></img>    \n",
    "</div>\n"
   ]
  },
  {
   "cell_type": "markdown",
   "metadata": {
    "slideshow": {
     "slide_type": "slide"
    }
   },
   "source": [
    "### Machine Learning\n",
    "\n",
    "---\n",
    "Una definición de *machine learning*, dada por Arthur Samuel (1959) dice que es  \n",
    "\n",
    "<h4><i>el campo de estudio que da a las computadoras la capacidad de aprender sin estar programado explícitamente</i></h4>\n",
    "\n",
    "También podemos definirlo como \n",
    "\n",
    "<h4><i>la forma de extraer conocimiento a partir de los datos</i></h4>\n",
    "\n",
    "Si bien las técnicas de aprendizaje automático existen desde hace varias décadas, en los últimos años se ha producido una verdadera explosión de estas tecnologías."
   ]
  },
  {
   "cell_type": "markdown",
   "metadata": {
    "slideshow": {
     "slide_type": "slide"
    }
   },
   "source": [
    "### Machine Learning\n",
    "\n",
    "---\n",
    "<div class=\"Table\">\n",
    "    <div class=\"Row Clase03\">\n",
    "        <div class=\"Cell\"><img src=\"https://raw.githubusercontent.com/Digital-House-DATA/ds_blend_2021_img/master/M3/CLASE_18_Intro_ML_1/Presentacion/img/M3_CLASE_18_ejemplos.PNG\" align=\"left\" alt=\"auto autonomo\" width=100% height=80%  /></div>\n",
    "    </div>\n",
    "</div>"
   ]
  },
  {
   "cell_type": "markdown",
   "metadata": {
    "slideshow": {
     "slide_type": "slide"
    }
   },
   "source": [
    "### Machine Learning\n",
    "\n",
    "---\n",
    "\n",
    "Otra definición, dada por Tom Mitchell (Machine Learning, 1998): \n",
    "\n",
    "<h4><i>Se dice que un programa de computadora aprende de la <b>experiencia E</b> con respecto a alguna <b>tarea T</b> y la <b>medida de rendimiento P</b>, si su desempeño en la tarea T, medido por P, mejora con la experiencia E</i></h4>\n",
    "\n"
   ]
  },
  {
   "cell_type": "markdown",
   "metadata": {
    "slideshow": {
     "slide_type": "subslide"
    }
   },
   "source": [
    "#### Por ejemplo:\n",
    "\n",
    "**tarea T**: reconocer y clasificar palabras escritas a mano \n",
    "\n",
    "**medida P**: cantidad de palabras correctamente clasificadas \n",
    "\n",
    "**experiencia E**: es una base de datos con las palabras escritas a mano y su clasificación\n",
    "\n",
    "\n",
    "<img src=\"https://raw.githubusercontent.com/Digital-House-DATA/ds_blend_2021_img/master/M3/CLASE_18_Intro_ML_1/Presentacion/img/M3_CLASE_18_definicion.PNG\" align=\"center\" alt=\"escritura\" width=110% height=90%  />"
   ]
  },
  {
   "cell_type": "markdown",
   "metadata": {
    "slideshow": {
     "slide_type": "slide"
    }
   },
   "source": [
    "### Machine Learning\n",
    "\n",
    "---\n",
    "\n",
    "#### Programación tradicional vs. Machine learning\n",
    "\n",
    "<img src=\"https://raw.githubusercontent.com/Digital-House-DATA/ds_blend_2021_img/master/M3/CLASE_18_Intro_ML_1/Presentacion/img/M3_CLASE_18_diferencias.png\" align=\"center\" alt=\"diferencias\" width=50% height=30% />\n",
    "\n",
    "Programación tradicional: los **sistemas son programados con las reglas (o instrucciones) necesarias para dar las respuestas según los datos ingresados**. Por ejemplo, cualquier sistema de cálculo, que debe contener las reglas de validación, consistencia y cálculo de los datos ingresados para emitir una respuesta.\n",
    "\n",
    "Machine learning: damos a estos modelos (o programas) los datos de entrada y las respuestas asociadas; de esta forma, puede considerarse que **el algoritmo *aprende de los datos*, generando las reglas que luego podemos aplicar a nuevos datos de entrada, para predecir la respuesta**."
   ]
  },
  {
   "cell_type": "markdown",
   "metadata": {
    "slideshow": {
     "slide_type": "slide"
    }
   },
   "source": [
    "<div class=\"div-dhds-fondo-1\">  Diseño de los sistemas de aprendizaje\n",
    "<img src=\"https://raw.githubusercontent.com/Digital-House-DATA/ds_blend_2021_img/master/M3/CLASE_18_Intro_ML_1/Presentacion/img/M3_CLASE_18_separador.png\" align=\"center\"></img>    \n",
    "</div>\n"
   ]
  },
  {
   "cell_type": "markdown",
   "metadata": {
    "slideshow": {
     "slide_type": "slide"
    }
   },
   "source": [
    "### Datasets\n",
    "\n",
    "---\n",
    "En los primeros dos Módulos del curso, incorporamos conceptos y herramientas para analizar los datos. \n",
    "\n",
    "* Aprendimos a programar en *Python*, conocimos sus *estructuras de datos*.\n",
    "\n",
    "* Sobre un dataset, *\"limpiamos\"* los datos recibidos, y mediante *data wrangling* generamos un dataset apto para ser analizado.\n",
    "\n",
    "* Realizamos el análisis exploratorio de los datos, usando tanto *estadística descriptiva* como *estadística inferencial* con el fin de comprender el contenido del dataset.\n",
    "\n",
    "<img src=\"https://raw.githubusercontent.com/Digital-House-DATA/ds_blend_2021_img/master/M3/CLASE_18_Intro_ML_1/Presentacion/img/M3_CLASE_18_proceso_dataset.PNG\" align=\"center\" alt=\"proceso_dataset\" width=80% height=50% />"
   ]
  },
  {
   "cell_type": "markdown",
   "metadata": {
    "slideshow": {
     "slide_type": "subslide"
    }
   },
   "source": [
    "El resultado de los pasos anteriores es un dataset validado y analizado.\n",
    "\n",
    "<img src=\"https://raw.githubusercontent.com/Digital-House-DATA/ds_blend_2021_img/master/M3/CLASE_18_Intro_ML_1/Presentacion/img/M3_CLASE_18_dataset.png\" align=\"center\" alt=\"tablon\" width=70% height=40% />\n",
    "\n",
    "Muestras u **observaciones** (*filas*): objetos individuales descriptos por el dataset.\n",
    "\n",
    "**Features** (*columnas*): características de las muestras. Por convención, el conjunto o matriz de features se suele referenciar con una variable llamada `X`. \n",
    "\n",
    "Se asume que la matriz de features tiene forma `[n_samples, m_features]`, y frecuentemente se almacena como un array de Numpy o un DataFrame de Pandas.\n",
    "\n",
    "En muchos casos, una de las features del dataset, tiene un significado especial: representa un valor que clasifica a cada observación. Por convención se la indica como `y`, es la variable **target u objetivo** porque puede ser predicha a partir de las otras features."
   ]
  },
  {
   "cell_type": "markdown",
   "metadata": {
    "slideshow": {
     "slide_type": "slide"
    }
   },
   "source": [
    "<div class=\"div-dhds-fondo-1\">  Tipos de aprendizaje\n",
    "<img src=\"https://raw.githubusercontent.com/Digital-House-DATA/ds_blend_2021_img/master/M3/CLASE_18_Intro_ML_1/Presentacion/img/M3_CLASE_18_separador.png\" align=\"center\"></img>    \n",
    "</div>\n"
   ]
  },
  {
   "cell_type": "markdown",
   "metadata": {
    "slideshow": {
     "slide_type": "slide"
    }
   },
   "source": [
    "### Tipos de aprendizaje\n",
    "---\n",
    "\n",
    "Podemos distinguir dos tipos de aprendizaje automático: \n",
    "\n",
    "* aprendizaje **supervisado** \n",
    "\n",
    "* aprendizaje **no supervisado**\n",
    "\n",
    "La diferencia entre ambos radica en la **existencia o no de una variable objetivo** para predecir.\n",
    "\n",
    "Ambos métodos deben ser testeados y validados en su performance:\n",
    "\n",
    "* Los métodos supervisados requieren tanto de datos de *input* como el *output* (o target) asociado para generar las reglas. \n",
    "\n",
    "* Los métodos no supervisados solo requieren datos de *input*."
   ]
  },
  {
   "cell_type": "markdown",
   "metadata": {
    "slideshow": {
     "slide_type": "slide"
    }
   },
   "source": [
    "###  Aprendizaje supervisado\n",
    "\n",
    "---\n",
    "\n",
    "Los algoritmos de aprendizaje supervisado usan tanto las **features** de las observaciones como la variable **target** asociada, creando así un modelo predictivo. \n",
    "\n",
    "Cuando llega una nueva observación (con sus features), el modelo *predice el valor del target asociado*.\n",
    "\n",
    "<img src=\"https://raw.githubusercontent.com/Digital-House-DATA/ds_blend_2021_img/master/M3/CLASE_18_Intro_ML_1/Presentacion/img/M3_CLASE_18_supervisado.jpg\" align=\"center\" alt=\"tablon\" width=70% height=40% />\n",
    "\n",
    "<a href=\"https://www.newtechdojo.com/list-machine-learning-algorithms/\" target=\"_blank\">https://www.newtechdojo.com/list-machine-learning-algorithms/</a>"
   ]
  },
  {
   "cell_type": "markdown",
   "metadata": {
    "slideshow": {
     "slide_type": "subslide"
    }
   },
   "source": [
    "###  Aprendizaje supervisado\n",
    "\n",
    "---\n",
    "\n",
    "La **supervisión** del aprendizaje se produce cuando usamos el modelo para predecir el target de determinada observación **basados en otras observaciones cuyo target conocemos de antemano**. \n",
    "\n",
    "Disponemos tanto del **valor real** del target como del **valor predicho** y los podemos comparar. \n",
    "\n",
    "Dependiendo del tipo de problema, existen distintas **métricas de *performance*** que podemos computar para saber cuán acertadas fueron las predicciones.\n",
    "\n",
    "Si la variable objetivo es una **variable continua (o cuantitativa)** se trata de un modelo de **regresión**. Por ejemplo, intentar predecir el monto consumido por un cliente.\n",
    "\n",
    "Si la variable objetivo es una **variable categórica (o cualitativa)**, nos encontramos ante un caso de **clasificación**. Por ejemplo, intentar predecir si un cliente se dará de baja de determinado servicio.\n",
    "\n"
   ]
  },
  {
   "cell_type": "markdown",
   "metadata": {
    "slideshow": {
     "slide_type": "slide"
    }
   },
   "source": [
    "###  Aprendizaje no supervisado\n",
    "\n",
    "---\n",
    "A diferencia de lo que ocurre en el caso de los algoritmos de regresión o clasificación, el aprendizaje no supervisado **se caracteriza por prescindir de una variable target**. \n",
    "\n",
    "El algoritmo genera los labels o target para cada observación. \n",
    "\n",
    "El foco está puesto en descubrir patrones o estructuras subyacentes en la información que a priori, no son evidentes.\n",
    "\n",
    "<img src=\"https://raw.githubusercontent.com/Digital-House-DATA/ds_blend_2021_img/master/M3/CLASE_18_Intro_ML_1/Presentacion/img/M3_CLASE_18_nosupervisado.jpg\" align=\"center\" alt=\"no supervisado\" width=70% height=40% />\n",
    "\n",
    "<a href=\"https://www.newtechdojo.com/list-machine-learning-algorithms/\" target=\"_blank\">https://www.newtechdojo.com/list-machine-learning-algorithms/</a>"
   ]
  },
  {
   "cell_type": "markdown",
   "metadata": {
    "slideshow": {
     "slide_type": "slide"
    }
   },
   "source": [
    "###  Tipos de aprendizaje. Modelos.\n",
    "\n",
    "---\n",
    "\n",
    "<img src=\"https://raw.githubusercontent.com/Digital-House-DATA/ds_blend_2021_img/master/M3/CLASE_18_Intro_ML_1/Presentacion/img/M3_CLASE_18_clasificacion.PNG\" align=\"center\" alt=\"clasificacion\" width=70% height=40% />\n"
   ]
  },
  {
   "cell_type": "markdown",
   "metadata": {
    "slideshow": {
     "slide_type": "slide"
    }
   },
   "source": [
    "<div class=\"div-dhds-fondo-1\"> Ejemplo\n",
    "<img src=\"https://raw.githubusercontent.com/Digital-House-DATA/ds_blend_2021_img/master/M3/CLASE_18_Intro_ML_1/Presentacion/img/M3_CLASE_18_separador.png\" align=\"center\"></img>    \n",
    "</div>"
   ]
  },
  {
   "cell_type": "markdown",
   "metadata": {
    "slideshow": {
     "slide_type": "slide"
    }
   },
   "source": [
    "###  Ejemplo de aprendizaje supervisado\n",
    "\n",
    "---\n",
    "Supongamos que disponemos un dataset de autos, donde cada observación tiene dos features: **gpm100**, consumo de combustible, galones cada 100 millas; y **price**, el precio del auto. Cada punto representa un modelo de auto.\n",
    "\n",
    "<img src=\"https://raw.githubusercontent.com/Digital-House-DATA/ds_blend_2021_img/master/M3/CLASE_18_Intro_ML_1/Presentacion/img/M3_CLASE_18_ejemplo_001.png\" align=\"center\" alt=\"ejemplo\" width=50% height=30% />\n"
   ]
  },
  {
   "cell_type": "markdown",
   "metadata": {
    "slideshow": {
     "slide_type": "slide"
    }
   },
   "source": [
    "###  Ejemplo de aprendizaje supervisado\n",
    "\n",
    "---\n",
    "En este caso, mediante un algoritmo de aprendizaje supervisado, que considera como *matriz de features a gpm100*, y como *variable target a Price*, se genera *una recta*.\n",
    "\n",
    "La recta representa **la regla que se puede usar para predecir**.\n",
    "\n",
    "<img src=\"https://raw.githubusercontent.com/Digital-House-DATA/ds_blend_2021_img/master/M3/CLASE_18_Intro_ML_1/Presentacion/img/M3_CLASE_18_ejemplo_002.PNG\" align=\"center\" alt=\"ejemplo\" width=50% height=30% />\n"
   ]
  },
  {
   "cell_type": "markdown",
   "metadata": {
    "slideshow": {
     "slide_type": "slide"
    }
   },
   "source": [
    "###  Ejemplo de aprendizaje supervisado\n",
    "\n",
    "---\n",
    "Si, por ejemplo, queremos *predecir el precio* de un auto que tiene un consumo de 5 gpm100, buscamos el valor que tiene Price según la recta calculada.\n",
    "\n",
    "<img src=\"https://raw.githubusercontent.com/Digital-House-DATA/ds_blend_2021_img/master/M3/CLASE_18_Intro_ML_1/Presentacion/img/M3_CLASE_18_ejemplo_003.PNG\" align=\"center\" alt=\"ejemplo\" width=50% height=30% />\n"
   ]
  },
  {
   "cell_type": "markdown",
   "metadata": {
    "slideshow": {
     "slide_type": "slide"
    }
   },
   "source": [
    "<div class=\"div-dhds-fondo-1\"> Scikit-learn\n",
    "<img src=\"https://raw.githubusercontent.com/Digital-House-DATA/ds_blend_2021_img/master/M3/CLASE_18_Intro_ML_1/Presentacion/img/M3_CLASE_18_separador.png\" align=\"center\"></img>    \n",
    "</div>"
   ]
  },
  {
   "cell_type": "markdown",
   "metadata": {
    "slideshow": {
     "slide_type": "slide"
    }
   },
   "source": [
    "###  Scikit-learn\n",
    "\n",
    "---\n",
    "\n",
    "<img src=\"https://raw.githubusercontent.com/Digital-House-DATA/ds_blend_2021_img/master/M3/CLASE_18_Intro_ML_1/Presentacion/img/M3_CLASE_18_scikitlearn.png\" align=\"center\" alt=\"scikitlearn\" width=70% height=40% />\n",
    "\n",
    "Hay varias bibliotecas de Python que proveen sólidas implementaciones de algoritmos de _machine learning_. Una de las más difundidas es **Scikit-learn**, un paquete que provee implementaciones eficientes de un gran número de los algoritmos más usados a través de una interfaz estándar y consistente, tanto para aprendizaje supervisado como no supervisado. "
   ]
  },
  {
   "cell_type": "markdown",
   "metadata": {
    "slideshow": {
     "slide_type": "slide"
    }
   },
   "source": [
    "###  Scikit-learn\n",
    "\n",
    "---\n",
    "\n",
    "<img src=\"https://raw.githubusercontent.com/Digital-House-DATA/ds_blend_2021_img/master/M3/CLASE_18_Intro_ML_1/Presentacion/img/M3_CLASE_18_scikitlearn_arbol.png\" align=\"center\" alt=\"scikitlearn_arbol\" width=70% height=40% />\n",
    "\n"
   ]
  },
  {
   "cell_type": "markdown",
   "metadata": {
    "slideshow": {
     "slide_type": "subslide"
    }
   },
   "source": [
    "Los modelos son elegidos, agrupados e implementados por un equipo de expertos. \n",
    "\n",
    "El grupo de colaboradores de Scikit-learn incluye expertos en machine learning y desarrollo de software.\n",
    "\n",
    "Scikit-learn cubre la mayoría de las tareas de machine learning, con una interface consistente. \n",
    "\n",
    "Se basa en otros paquetes, tales como numpy, pandas, matplotlib. \n",
    "\n",
    "También permite realizar análisis de textos."
   ]
  },
  {
   "cell_type": "markdown",
   "metadata": {
    "slideshow": {
     "slide_type": "slide"
    }
   },
   "source": [
    "\n",
    "<div class=\"div-dhds-fondo-1\"> Metodología\n",
    "<img src=\"https://raw.githubusercontent.com/Digital-House-DATA/ds_blend_2021_img/master/M3/CLASE_18_Intro_ML_1/Presentacion/img/M3_CLASE_18_separador.png\" align=\"center\"></img>    \n",
    "</div>"
   ]
  },
  {
   "cell_type": "markdown",
   "metadata": {
    "slideshow": {
     "slide_type": "slide"
    }
   },
   "source": [
    "###  Metodología de trabajo\n",
    "\n",
    "---\n",
    "\n",
    "Disponemos de distintas metodologías para desarrollar modelos de Machine Learning. Nosotros vamos a estudiar una que se ajusta a la forma en que se trabaja con scikit-learn.\n",
    "\n",
    "Lo importante es *comprender los conceptos* detrás de cada paso; luego la implementación puede ser distinta de acuerdo a la metodología adoptada y al tipo de algoritmo que usemos.\n",
    "\n",
    "En esta clase nos concentraremos en **qué estamos haciendo** y no entraremos en detalles en *cómo*. \n",
    "\n",
    "**En el transcurso del curso veremos en profundidad cada uno de los modelos que acá mencionamos, y los detalles para entrenarlos usando scikit-learn**.\n"
   ]
  },
  {
   "cell_type": "markdown",
   "metadata": {
    "slideshow": {
     "slide_type": "slide"
    }
   },
   "source": [
    "###  Metodología de trabajo\n",
    "\n",
    "---\n",
    "Un flujo típico de trabajo consiste de estos siete pasos:\n",
    "\n",
    "1. Seleccionar una clase de modelo\n",
    "\n",
    "2. Elegir los hiperparámetros del modelo\n",
    "\n",
    "3. Preparar los datos en una matriz de *features* y un vector *target*\n",
    "\n",
    "4. Separar los sets de entrenamiento y de testing\n",
    "\n",
    "5. Ajustar el modelo a los datos de entrenamiento\n",
    "\n",
    "6. Predecir etiquetas para datos desconocidos\n",
    "\n",
    "7. Evaluar la *performance* del modelo\n"
   ]
  },
  {
   "cell_type": "markdown",
   "metadata": {
    "slideshow": {
     "slide_type": "slide"
    }
   },
   "source": [
    "###  Metodología de trabajo - dataset\n",
    "\n",
    "---\n",
    "Usaremos el dataset de vinos que provee scikit-learn para ejemplificar cada paso de la metodología de trabajo. \n",
    "\n",
    "`X` es el conjunto de features de los 178 vinos, e `y` la variable target, con tres etiquetas distintas."
   ]
  },
  {
   "cell_type": "code",
   "execution_count": 4,
   "metadata": {
    "slideshow": {
     "slide_type": "skip"
    }
   },
   "outputs": [],
   "source": [
    "import numpy as np\n",
    "import pandas as pd\n",
    "\n",
    "import seaborn as sns\n",
    "import matplotlib.pyplot as plt\n",
    "%matplotlib inline\n",
    "\n",
    "from sklearn import datasets"
   ]
  },
  {
   "cell_type": "code",
   "execution_count": 5,
   "metadata": {
    "slideshow": {
     "slide_type": "fragment"
    }
   },
   "outputs": [],
   "source": [
    "(X, y) = datasets.load_wine(return_X_y=True, as_frame=True)"
   ]
  },
  {
   "cell_type": "code",
   "execution_count": 6,
   "metadata": {
    "slideshow": {
     "slide_type": "fragment"
    }
   },
   "outputs": [
    {
     "name": "stdout",
     "output_type": "stream",
     "text": [
      "Shape X:  (178, 13)\n"
     ]
    },
    {
     "data": {
      "text/html": [
       "<div>\n",
       "<style scoped>\n",
       "    .dataframe tbody tr th:only-of-type {\n",
       "        vertical-align: middle;\n",
       "    }\n",
       "\n",
       "    .dataframe tbody tr th {\n",
       "        vertical-align: top;\n",
       "    }\n",
       "\n",
       "    .dataframe thead th {\n",
       "        text-align: right;\n",
       "    }\n",
       "</style>\n",
       "<table border=\"1\" class=\"dataframe\">\n",
       "  <thead>\n",
       "    <tr style=\"text-align: right;\">\n",
       "      <th></th>\n",
       "      <th>alcohol</th>\n",
       "      <th>malic_acid</th>\n",
       "      <th>ash</th>\n",
       "      <th>alcalinity_of_ash</th>\n",
       "      <th>magnesium</th>\n",
       "      <th>total_phenols</th>\n",
       "      <th>flavanoids</th>\n",
       "      <th>nonflavanoid_phenols</th>\n",
       "      <th>proanthocyanins</th>\n",
       "      <th>color_intensity</th>\n",
       "      <th>hue</th>\n",
       "      <th>od280/od315_of_diluted_wines</th>\n",
       "      <th>proline</th>\n",
       "    </tr>\n",
       "  </thead>\n",
       "  <tbody>\n",
       "    <tr>\n",
       "      <th>0</th>\n",
       "      <td>14.23</td>\n",
       "      <td>1.71</td>\n",
       "      <td>2.43</td>\n",
       "      <td>15.6</td>\n",
       "      <td>127.0</td>\n",
       "      <td>2.80</td>\n",
       "      <td>3.06</td>\n",
       "      <td>0.28</td>\n",
       "      <td>2.29</td>\n",
       "      <td>5.64</td>\n",
       "      <td>1.04</td>\n",
       "      <td>3.92</td>\n",
       "      <td>1065.0</td>\n",
       "    </tr>\n",
       "    <tr>\n",
       "      <th>1</th>\n",
       "      <td>13.20</td>\n",
       "      <td>1.78</td>\n",
       "      <td>2.14</td>\n",
       "      <td>11.2</td>\n",
       "      <td>100.0</td>\n",
       "      <td>2.65</td>\n",
       "      <td>2.76</td>\n",
       "      <td>0.26</td>\n",
       "      <td>1.28</td>\n",
       "      <td>4.38</td>\n",
       "      <td>1.05</td>\n",
       "      <td>3.40</td>\n",
       "      <td>1050.0</td>\n",
       "    </tr>\n",
       "    <tr>\n",
       "      <th>2</th>\n",
       "      <td>13.16</td>\n",
       "      <td>2.36</td>\n",
       "      <td>2.67</td>\n",
       "      <td>18.6</td>\n",
       "      <td>101.0</td>\n",
       "      <td>2.80</td>\n",
       "      <td>3.24</td>\n",
       "      <td>0.30</td>\n",
       "      <td>2.81</td>\n",
       "      <td>5.68</td>\n",
       "      <td>1.03</td>\n",
       "      <td>3.17</td>\n",
       "      <td>1185.0</td>\n",
       "    </tr>\n",
       "  </tbody>\n",
       "</table>\n",
       "</div>"
      ],
      "text/plain": [
       "   alcohol  malic_acid   ash  alcalinity_of_ash  magnesium  total_phenols  \\\n",
       "0    14.23        1.71  2.43               15.6      127.0           2.80   \n",
       "1    13.20        1.78  2.14               11.2      100.0           2.65   \n",
       "2    13.16        2.36  2.67               18.6      101.0           2.80   \n",
       "\n",
       "   flavanoids  nonflavanoid_phenols  proanthocyanins  color_intensity   hue  \\\n",
       "0        3.06                  0.28             2.29             5.64  1.04   \n",
       "1        2.76                  0.26             1.28             4.38  1.05   \n",
       "2        3.24                  0.30             2.81             5.68  1.03   \n",
       "\n",
       "   od280/od315_of_diluted_wines  proline  \n",
       "0                          3.92   1065.0  \n",
       "1                          3.40   1050.0  \n",
       "2                          3.17   1185.0  "
      ]
     },
     "execution_count": 6,
     "metadata": {},
     "output_type": "execute_result"
    }
   ],
   "source": [
    "print('Shape X: ',X.shape)\n",
    "X.head(3)"
   ]
  },
  {
   "cell_type": "code",
   "execution_count": 7,
   "metadata": {
    "slideshow": {
     "slide_type": "subslide"
    }
   },
   "outputs": [
    {
     "name": "stdout",
     "output_type": "stream",
     "text": [
      "Shape y:  (178,)\n",
      "Total de labels: \n",
      " target\n",
      "0    59\n",
      "1    71\n",
      "2    48\n",
      "Name: target, dtype: int64\n"
     ]
    }
   ],
   "source": [
    "print('Shape y: ',y.shape)\n",
    "print('Total de labels: \\n', y.groupby(y).count())"
   ]
  },
  {
   "cell_type": "markdown",
   "metadata": {
    "slideshow": {
     "slide_type": "fragment"
    }
   },
   "source": [
    "Vemos que la variable target sólo tiene tres valores posibles (0, 1, 2), vamos a intrepretarlos como las categorias que queremos predecir.\n",
    "\n",
    "Entonces, con este dataset intentaremos construir un modelo de aprendizaje supervisado, que clasifique cada instancia (registro, observación) en una de las tres categorías."
   ]
  },
  {
   "cell_type": "markdown",
   "metadata": {
    "slideshow": {
     "slide_type": "slide"
    }
   },
   "source": [
    "#### Veamos cada uno de los pasos de la metodología de trabajo"
   ]
  },
  {
   "cell_type": "markdown",
   "metadata": {
    "slideshow": {
     "slide_type": "slide"
    }
   },
   "source": [
    "###  1. Seleccionar una clase de modelo\n",
    "\n",
    "---\n",
    "\n",
    "Como vimos, el problema que queremos resolver es una clasificación (un problema de aprendizaje supervisado).\n",
    "\n",
    "Debemos seleccionar, entre los modelos de clasificación disponibles, el que vamos a usar para resolver este problema.\n",
    "\n",
    "Scikit-learn está estructurada en módulos, de forma tal que *cada clase de modelo se encuentre en un módulo específico* que engloba funciones de la misma familia. \n",
    "\n",
    "La selección de la clase es guiada por el dataset que disponemos, y por el tipo de método que queremos aplicar sobre los datos.\n"
   ]
  },
  {
   "cell_type": "markdown",
   "metadata": {
    "colab_type": "text",
    "id": "iaAM1BxkYqcg",
    "slideshow": {
     "slide_type": "subslide"
    }
   },
   "source": [
    "El modelo que elegimos usar para resolver este problema, es un árbol de clasificación.\n",
    "\n",
    "Este modelo es implementado en el *módulo `Tree`* y la clase se llama `DecisionTreeClassifier`. \n",
    "\n",
    "Existe variedad de clases y módulos disponibles para resolver un mismo tipo de problemas. \n",
    "\n",
    "Por ejemplo, para problemas de clasificación disponemos de los módulos `Tree`, `SVM`, `Naive Bayes`. \n",
    "\n",
    "Y dentro de cada módulo, disponemos de variedad de clases que implmentan distintos algoritmos de clasificación, `DecisionTreeClassifier` es uno de ellos. \n",
    "\n",
    "La selección de módulo y clase no es trivial. Debemos analizar exhaustivamente el dataset para saber cuáles podemos aplicar, y comparar la performance de distintos algoritmos para decidir cuál es el más adecuado para nuestro problema."
   ]
  },
  {
   "cell_type": "code",
   "execution_count": 8,
   "metadata": {
    "slideshow": {
     "slide_type": "fragment"
    }
   },
   "outputs": [],
   "source": [
    "from sklearn.tree import DecisionTreeClassifier"
   ]
  },
  {
   "cell_type": "markdown",
   "metadata": {
    "slideshow": {
     "slide_type": "slide"
    }
   },
   "source": [
    "###  2. Elegir los hiperparámetros del modelo\n",
    "\n",
    "---\n",
    "\n",
    "#### ¿Qué es un hiperparámetro?\n",
    "\n",
    "En machine learning, **un hiperparámetro es un parámetro cuyo valor se utiliza para controlar el proceso de aprendizaje**. Por el contrario, los valores de los parámetros se derivan a través del entrenamiento.\n",
    "\n",
    "Los hiperparámetros se pueden clasificar como \n",
    "\n",
    "* hiperparámetros de modelo, que no se pueden inferir al ajustar al conjunto de entrenamiento porque se refieren a la tarea de selección del modelo, \n",
    "\n",
    "* hiperparámetros de algoritmo, que en principio no influyen en el rendimiento del modelo pero afectan la velocidad y calidad del proceso de aprendizaje. \n",
    "\n",
    "Diferentes algoritmos de aprendizaje requieren diferentes hiperparámetros, algunos algoritmos simples (como la regresión de mínimos cuadrados ordinarios) no requieren ninguno. \n",
    "\n",
    "**Dados los valores de los hiperparámetros, el algoritmo aprende a partir de los datos (en entrenamiento) los valores de los parámetros.**\n"
   ]
  },
  {
   "cell_type": "markdown",
   "metadata": {
    "slideshow": {
     "slide_type": "subslide"
    }
   },
   "source": [
    "\n",
    "\n",
    "Por ejemplo, LASSO es un algoritmo que agrega un hiperparámetro de regularización a la regresión de mínimos cuadrados ordinarios, que debe establecerse antes de estimar los parámetros a través del algoritmo de entrenamiento.\n",
    "\n",
    "*(Puede ser que no quede claro en este momento este ejemplo, pero lo será en unas pocas clases)*\n",
    "\n",
    "\n",
    "Usando **hiperparámetros** distintos podemos crear instancias distintas de la misma clase del modelo seleccionado.\n",
    "\n",
    "Los valores de los hiperparámetros deben ser establecidos **antes de que el modelo sea ajustado a los datos**. \n",
    "\n",
    "Una misma clase de modelo con dos configuraciones de hiperparámetros distintas puede llevar a resultados muy disímiles entre sí. "
   ]
  },
  {
   "cell_type": "markdown",
   "metadata": {
    "slideshow": {
     "slide_type": "subslide"
    }
   },
   "source": [
    "En el caso de `DecisionTreeClassifier`, vamos a establecer en 2 el valor del hiperparámetro `max_depth`, indicando que el modelo entrenado tendrá como máxima profundidad 2."
   ]
  },
  {
   "cell_type": "code",
   "execution_count": 9,
   "metadata": {
    "slideshow": {
     "slide_type": "fragment"
    }
   },
   "outputs": [],
   "source": [
    "tree_instance = DecisionTreeClassifier(max_depth=2)"
   ]
  },
  {
   "cell_type": "markdown",
   "metadata": {
    "colab_type": "text",
    "id": "kH9o-ilTYqcj",
    "slideshow": {
     "slide_type": "fragment"
    }
   },
   "source": [
    "En este ejemplo, generamos la instancia `tree_instance` de la clase `DecisionTreeClassifier`, con el hiperparámetro `max_depth=2`. \n",
    "\n",
    "Se debe tener en cuenta que una vez creada la instancia podemos volver en cualquier momento a este paso, cambiar los valores de los hiperparámetros y volver a entrenarlo con los datos.\n",
    "\n",
    "La documentacion de cada clase nos muestra los hiperparámetros que podemos establecer, por ejemplo: <a href=\"https://scikit-learn.org/stable/modules/generated/sklearn.tree.DecisionTreeClassifier.html\" target=\"_blank\">DecisionTreeClassifier</a>\n",
    "\n",
    "**Como regla general podemos pensar que**\n",
    "\n",
    "* los **hiperparámetros del modelo** son los parámetros del constructor del modelo,\n",
    "\n",
    "* y que los **parámetros del modelo** son los aprendidos durante el entrenamiento."
   ]
  },
  {
   "cell_type": "markdown",
   "metadata": {
    "slideshow": {
     "slide_type": "slide"
    }
   },
   "source": [
    "###  3. Preparar los datos en una matriz de *features* y un vector *target*\n",
    "\n",
    "---\n",
    "\n",
    "Como vimos anteriormente, para el caso del aprendizaje supervisado requerimos la *matriz de features* (las columnas con las características de las observaciones) y una *variable target* con los labels que representan la clasificación de cada observación.\n",
    "\n",
    "La matriz de _features_, **X**, puede ser un array bidimensional de Numpy o un `DataFrame` de Pandas, mientras que el vector objetivo, **y**, puede ser un array de Numpy o una `Series` de Pandas.\n",
    "\n",
    "Para los modelos de aprendizaje no supervisado, no se requiere este paso.\n",
    "\n"
   ]
  },
  {
   "cell_type": "markdown",
   "metadata": {
    "slideshow": {
     "slide_type": "subslide"
    }
   },
   "source": [
    "En nuestro ejemplo, \n",
    "\n",
    "* X es la matrix de features.\n",
    "\n",
    "* y es el vector target"
   ]
  },
  {
   "cell_type": "code",
   "execution_count": 10,
   "metadata": {
    "slideshow": {
     "slide_type": "fragment"
    }
   },
   "outputs": [
    {
     "data": {
      "text/html": [
       "<div>\n",
       "<style scoped>\n",
       "    .dataframe tbody tr th:only-of-type {\n",
       "        vertical-align: middle;\n",
       "    }\n",
       "\n",
       "    .dataframe tbody tr th {\n",
       "        vertical-align: top;\n",
       "    }\n",
       "\n",
       "    .dataframe thead th {\n",
       "        text-align: right;\n",
       "    }\n",
       "</style>\n",
       "<table border=\"1\" class=\"dataframe\">\n",
       "  <thead>\n",
       "    <tr style=\"text-align: right;\">\n",
       "      <th></th>\n",
       "      <th>alcohol</th>\n",
       "      <th>malic_acid</th>\n",
       "      <th>ash</th>\n",
       "      <th>alcalinity_of_ash</th>\n",
       "      <th>magnesium</th>\n",
       "      <th>total_phenols</th>\n",
       "      <th>flavanoids</th>\n",
       "      <th>nonflavanoid_phenols</th>\n",
       "      <th>proanthocyanins</th>\n",
       "      <th>color_intensity</th>\n",
       "      <th>hue</th>\n",
       "      <th>od280/od315_of_diluted_wines</th>\n",
       "      <th>proline</th>\n",
       "    </tr>\n",
       "  </thead>\n",
       "  <tbody>\n",
       "    <tr>\n",
       "      <th>52</th>\n",
       "      <td>13.82</td>\n",
       "      <td>1.75</td>\n",
       "      <td>2.42</td>\n",
       "      <td>14.0</td>\n",
       "      <td>111.0</td>\n",
       "      <td>3.88</td>\n",
       "      <td>3.74</td>\n",
       "      <td>0.32</td>\n",
       "      <td>1.87</td>\n",
       "      <td>7.05</td>\n",
       "      <td>1.01</td>\n",
       "      <td>3.26</td>\n",
       "      <td>1190.0</td>\n",
       "    </tr>\n",
       "    <tr>\n",
       "      <th>163</th>\n",
       "      <td>12.96</td>\n",
       "      <td>3.45</td>\n",
       "      <td>2.35</td>\n",
       "      <td>18.5</td>\n",
       "      <td>106.0</td>\n",
       "      <td>1.39</td>\n",
       "      <td>0.70</td>\n",
       "      <td>0.40</td>\n",
       "      <td>0.94</td>\n",
       "      <td>5.28</td>\n",
       "      <td>0.68</td>\n",
       "      <td>1.75</td>\n",
       "      <td>675.0</td>\n",
       "    </tr>\n",
       "  </tbody>\n",
       "</table>\n",
       "</div>"
      ],
      "text/plain": [
       "     alcohol  malic_acid   ash  alcalinity_of_ash  magnesium  total_phenols  \\\n",
       "52     13.82        1.75  2.42               14.0      111.0           3.88   \n",
       "163    12.96        3.45  2.35               18.5      106.0           1.39   \n",
       "\n",
       "     flavanoids  nonflavanoid_phenols  proanthocyanins  color_intensity   hue  \\\n",
       "52         3.74                  0.32             1.87             7.05  1.01   \n",
       "163        0.70                  0.40             0.94             5.28  0.68   \n",
       "\n",
       "     od280/od315_of_diluted_wines  proline  \n",
       "52                           3.26   1190.0  \n",
       "163                          1.75    675.0  "
      ]
     },
     "execution_count": 10,
     "metadata": {},
     "output_type": "execute_result"
    }
   ],
   "source": [
    "X.sample(2)"
   ]
  },
  {
   "cell_type": "code",
   "execution_count": 11,
   "metadata": {
    "slideshow": {
     "slide_type": "fragment"
    }
   },
   "outputs": [
    {
     "data": {
      "text/plain": [
       "168    2\n",
       "88     1\n",
       "144    2\n",
       "Name: target, dtype: int64"
      ]
     },
     "execution_count": 11,
     "metadata": {},
     "output_type": "execute_result"
    }
   ],
   "source": [
    "y.sample(3)"
   ]
  },
  {
   "cell_type": "markdown",
   "metadata": {
    "slideshow": {
     "slide_type": "slide"
    }
   },
   "source": [
    "### 4. Separar los sets de entrenamiento y de testing\n",
    "\n",
    "---\n",
    "\n",
    "El objetivo de un modelo de machine learning es **generalizar** a partir de lo aprendido, y ser capaz predecir la variable target de observaciones nunca antes vistas por el modelo.\n",
    "\n",
    "Entonces el modelo debe aprender primero a partir de los datos que disponemos. \n",
    "\n",
    "Y para evaluar qué tan buenas resultan sus predicciones, podemos comparar los valores reales y los que predice. \n",
    "\n",
    "Para tener noción de cómo se **comporta frente a datos nunca antes vistos** dividimos nuestros datos en dos conjuntos disjuntos: entrenamiento y testing.\n",
    "\n",
    "<img src=\"https://raw.githubusercontent.com/Digital-House-DATA/ds_blend_2021_img/master/M3/CLASE_18_Intro_ML_1/Presentacion/img/M3_CLASE_18_traintest_001.PNG\" align=\"center\" alt=\"Train_test\" width=70% height=40% />"
   ]
  },
  {
   "cell_type": "markdown",
   "metadata": {
    "slideshow": {
     "slide_type": "subslide"
    }
   },
   "source": [
    "Para resolver este problema, vamos a dividir los datos de `X` en un _training set_ y un _testing set_. El modelo aprenderá a partir de los datos del _training set_.\n",
    " \n",
    "Luego del entrenamiento, aplicamos el modelo a las observaciones de la `X` del conjunto de _testing set_, y los valores predichos de `y` son comparados con los valores reales.\n",
    "\n",
    "<img src=\"https://raw.githubusercontent.com/Digital-House-DATA/ds_blend_2021_img/master/M3/CLASE_18_Intro_ML_1/Presentacion/img/M3_CLASE_18_traintest_002.PNG\" align=\"center\" alt=\"Train_test\" width=70% height=40% />"
   ]
  },
  {
   "cell_type": "markdown",
   "metadata": {
    "slideshow": {
     "slide_type": "subslide"
    }
   },
   "source": [
    "La división entre *train* y *test* se podría hacer a mano, pero Scikit-learn nos ofrece la función `train_test_split()`, que importaremos del módulo de [`model_selection`](https://scikit-learn.org/stable/model_selection.html) de Scikit-Learn, el cual contiene herramientas para la selección y evaluación de modelos:"
   ]
  },
  {
   "cell_type": "code",
   "execution_count": 12,
   "metadata": {
    "slideshow": {
     "slide_type": "fragment"
    }
   },
   "outputs": [],
   "source": [
    "from sklearn.model_selection import train_test_split\n",
    "Xtrain, Xtest, ytrain, ytest = train_test_split(X, y, random_state=1)"
   ]
  },
  {
   "cell_type": "markdown",
   "metadata": {
    "slideshow": {
     "slide_type": "fragment"
    }
   },
   "source": [
    "`train_test_split()` \n",
    "\n",
    "Argumentos:\n",
    "\n",
    "* un objeto bidimensional `X` (la matriz de features)\n",
    "\n",
    "* un objeto unidimensional `y` (el vector target)\n",
    "\n",
    "Resultado:\n",
    "\n",
    "* dos matrices de _features_  \n",
    "\n",
    "* dos vectores target\n",
    "\n",
    "correspondientes a los conjuntos de entrenamiento y testing, respectivamente. "
   ]
  },
  {
   "cell_type": "markdown",
   "metadata": {
    "colab_type": "text",
    "id": "q21g2iZ1YqdC",
    "slideshow": {
     "slide_type": "slide"
    }
   },
   "source": [
    "### 5. Ajustar el modelo a los datos de entrenamiento\n",
    "\n",
    "---\n",
    "\n",
    "El modelo aprende a partir de los datos de **entrenamiento** con el método ``fit()`` sobre nuestra instancia del modelo. \n",
    "\n",
    "El verbo _fit_ se traduce como ajustar o entrenar. \n",
    "\n",
    "En nuestro ejemplo, el modelo es un árbol de decision para clasificar vinos."
   ]
  },
  {
   "cell_type": "code",
   "execution_count": 13,
   "metadata": {
    "colab": {},
    "colab_type": "code",
    "id": "S3tOYqLgYqdI",
    "slideshow": {
     "slide_type": "fragment"
    }
   },
   "outputs": [
    {
     "data": {
      "text/plain": [
       "DecisionTreeClassifier(max_depth=2)"
      ]
     },
     "execution_count": 13,
     "metadata": {},
     "output_type": "execute_result"
    }
   ],
   "source": [
    "tree_instance.fit(Xtrain, ytrain)"
   ]
  },
  {
   "cell_type": "markdown",
   "metadata": {
    "colab_type": "text",
    "id": "2OeIS1SfYqdU",
    "slideshow": {
     "slide_type": "fragment"
    }
   },
   "source": [
    "En Scikit-learn, por convención, todos los atributos que representan los **parámetros** aprendidos por el modelo durante el entrenamiento se identifican con el sufijo guión bajo (*underscore*) agregado a sus nombres. \n",
    "\n",
    "Para los árboles de decisión, existe el atributo `tree_`, entre otros atributos.\n",
    "\n",
    "Por ejemplo, para conocer el total de nodos del árbol que constutye el modelo entrenado:"
   ]
  },
  {
   "cell_type": "code",
   "execution_count": 14,
   "metadata": {
    "slideshow": {
     "slide_type": "fragment"
    }
   },
   "outputs": [
    {
     "data": {
      "text/plain": [
       "5"
      ]
     },
     "execution_count": 14,
     "metadata": {},
     "output_type": "execute_result"
    }
   ],
   "source": [
    "tree_instance.tree_.node_count"
   ]
  },
  {
   "cell_type": "markdown",
   "metadata": {
    "colab_type": "text",
    "id": "q21g2iZ1YqdC",
    "slideshow": {
     "slide_type": "subslide"
    }
   },
   "source": [
    "Podemos graficar el árbol que construyó el modelo (En próximas clases veremos en detalle como interpretarlo).\n"
   ]
  },
  {
   "cell_type": "code",
   "execution_count": 15,
   "metadata": {
    "slideshow": {
     "slide_type": "fragment"
    }
   },
   "outputs": [
    {
     "data": {
      "image/png": "[encoded data removed]",
      "text/plain": [
       "<Figure size 432x288 with 1 Axes>"
      ]
     },
     "metadata": {
      "needs_background": "light"
     },
     "output_type": "display_data"
    }
   ],
   "source": [
    "from sklearn.tree import DecisionTreeClassifier, plot_tree\n",
    "plot_tree(tree_instance, feature_names=Xtrain.columns, filled=True, class_names=True, label=None, impurity=False) \n",
    "plt.show()"
   ]
  },
  {
   "cell_type": "markdown",
   "metadata": {
    "slideshow": {
     "slide_type": "fragment"
    }
   },
   "source": [
    "Se puede observar que el primer nodo usa la feature `color_intensity` : si es <= a 3.46, se clasifica con *label 1*. \n",
    "\n",
    "Si `color_intensity` es > a 3.46, evalua el atributo `flavanoids`: si es <= 1.58, se clasifica con *label 2*, en caso contrario, con *label 0*."
   ]
  },
  {
   "cell_type": "markdown",
   "metadata": {
    "slideshow": {
     "slide_type": "slide"
    }
   },
   "source": [
    "### 6. Predecir etiquetas para datos desconocidos\n",
    "\n",
    "---\n",
    "\n",
    "Una vez que el modelo está entrenado, debemos evaluar su performance con nuevos datos que no fueron parte del _training set_. \n",
    "\n",
    "Para ello, disponemos del _test set_ y usamos el modelo ya entrenado para predecir la variable target. \n",
    "\n",
    "En el paso 7 comparamos estas predicciones con el verdadero valor de cada una de las observaciones de _test set_. \n",
    "\n",
    "En Scikit-learn, usamos el método ``predict()`` que asigna a una variable las predicciones del modelo para todas las observaciones del set de test. "
   ]
  },
  {
   "cell_type": "code",
   "execution_count": 16,
   "metadata": {
    "colab": {},
    "colab_type": "code",
    "id": "RRCRFoTTYqeN",
    "slideshow": {
     "slide_type": "fragment"
    }
   },
   "outputs": [
    {
     "data": {
      "text/plain": [
       "array([2, 1, 0, 1, 0, 2, 0, 0, 2, 1, 0, 0, 1, 0, 1, 1, 2, 0, 1, 0, 0, 0,\n",
       "       2, 1, 0, 2, 0, 0, 0, 2, 1, 2, 2, 0, 1, 1, 2, 0, 1, 0, 0, 1, 2, 0,\n",
       "       0])"
      ]
     },
     "execution_count": 16,
     "metadata": {},
     "output_type": "execute_result"
    }
   ],
   "source": [
    "ypred = tree_instance.predict(Xtest)\n",
    "ypred"
   ]
  },
  {
   "cell_type": "markdown",
   "metadata": {
    "slideshow": {
     "slide_type": "slide"
    }
   },
   "source": [
    "Veamos con dos ejemplos como funcionó el modelo.\n",
    "\n",
    "En el primero, `color_intensity` = 5.88, entonces evalua `flavanoids` = 0.56, y lo clasifica con *label 2*. \n",
    "\n",
    "Para el segundo, `color_intensity` = 2.06, lo clasifica con *label 1*. "
   ]
  },
  {
   "cell_type": "code",
   "execution_count": 17,
   "metadata": {
    "slideshow": {
     "slide_type": "fragment"
    }
   },
   "outputs": [
    {
     "name": "stdout",
     "output_type": "stream",
     "text": [
      "     flavanoids  color_intensity\n",
      "161        0.56             5.88\n",
      "117        2.09             2.06\n",
      "Etiquetas:  [2 1]\n"
     ]
    }
   ],
   "source": [
    "print(Xtest.iloc[0:2,[6,9]])\n",
    "print('Etiquetas: ' ,ypred[0:2])"
   ]
  },
  {
   "cell_type": "code",
   "execution_count": 18,
   "metadata": {
    "slideshow": {
     "slide_type": "fragment"
    }
   },
   "outputs": [
    {
     "data": {
      "image/png": "[encoded data removed]",
      "text/plain": [
       "<Figure size 432x288 with 1 Axes>"
      ]
     },
     "metadata": {
      "needs_background": "light"
     },
     "output_type": "display_data"
    }
   ],
   "source": [
    "from sklearn.tree import DecisionTreeClassifier, plot_tree\n",
    "plot_tree(tree_instance, feature_names=Xtrain.columns, filled=True, class_names=True, label=None, impurity=False) \n",
    "plt.show()"
   ]
  },
  {
   "cell_type": "markdown",
   "metadata": {
    "slideshow": {
     "slide_type": "slide"
    }
   },
   "source": [
    "### 7. Evaluar la *performance* del modelo\n",
    "\n",
    "---\n",
    "\n",
    "Finalmente, tenemos que evaluar el desempeño del modelo comparando **las predicciones con los valores reales**. \n",
    "\n",
    "Para este ejemplo, vamos a usar la métrica conocida como **accuracy**. \n",
    "\n",
    "Puede ser computada fácilmente con el método `accuracy_score()` y devuelve la proporción de etiquetas predichas que coinciden con el valor real.\n",
    "\n",
    "$$ \\text{Accuracy}=\\frac{\\text{predicciones correctas}}{\\text{casos totales}} $$"
   ]
  },
  {
   "cell_type": "code",
   "execution_count": 19,
   "metadata": {
    "colab": {
     "base_uri": "https://localhost:8080/",
     "height": 34
    },
    "colab_type": "code",
    "executionInfo": {
     "elapsed": 885,
     "status": "ok",
     "timestamp": 1537137701010,
     "user": {
      "displayName": "Paolo Donizetti",
      "photoUrl": "https://lh3.googleusercontent.com/a/default-user=s128",
      "userId": "102274939882416466592"
     },
     "user_tz": 180
    },
    "id": "D4-L4ggGYqfx",
    "outputId": "cc59bd21-ddb1-454a-fe89-b789a25b1361",
    "slideshow": {
     "slide_type": "fragment"
    }
   },
   "outputs": [
    {
     "data": {
      "text/plain": [
       "0.9111111111111111"
      ]
     },
     "execution_count": 19,
     "metadata": {},
     "output_type": "execute_result"
    }
   ],
   "source": [
    "from sklearn.metrics import accuracy_score\n",
    "accuracy_score(ytest, ypred)"
   ]
  },
  {
   "cell_type": "markdown",
   "metadata": {
    "slideshow": {
     "slide_type": "fragment"
    }
   },
   "source": [
    "Obtenemos un valor de **accuracy del 91,1%**, es decir que 91 de cada 100 casos fueron correctamente predichos. \n",
    "\n",
    "Más adelante en este curso presentaremos varias medidas de performance y analizaremos las ventajas y desventajas de cada una de ellas.\n",
    "\n",
    "El [módulo de métricas](https://scikit-learn.org/stable/modules/classes.html#module-sklearn.metrics) de Scikit-Learn provee funciones específicas para evaluar la _performance_ de un modelo."
   ]
  },
  {
   "cell_type": "markdown",
   "metadata": {
    "slideshow": {
     "slide_type": "slide"
    }
   },
   "source": [
    "<div class=\"div-dhds-fondo-1\"> Problemas de ajuste\n",
    "<img src=\"https://raw.githubusercontent.com/Digital-House-DATA/ds_blend_2021_img/master/M3/CLASE_18_Intro_ML_1/Presentacion/img/M3_CLASE_18_separador.png\" align=\"center\"></img>    \n",
    "</div>"
   ]
  },
  {
   "cell_type": "markdown",
   "metadata": {
    "slideshow": {
     "slide_type": "slide"
    }
   },
   "source": [
    "<img src=\"https://raw.githubusercontent.com/Digital-House-DATA/ds_blend_2021_img/master/M3/CLASE_18_Intro_ML_1/Presentacion/img/M3_CLASE_18_placaroja.jpg\" align=\"center\" alt=\"placa roja\" width=80% height=60% />"
   ]
  },
  {
   "cell_type": "markdown",
   "metadata": {
    "colab_type": "text",
    "id": "RS1Zd1cqYZpe",
    "slideshow": {
     "slide_type": "slide"
    }
   },
   "source": [
    "### Introducción\n",
    "\n",
    "---\n",
    "\n",
    "La **generalización** es un término que indica *en qué medida* se aplica lo aprendido por el modelo a **datos nuevos** para obtener una correcta predicción.\n",
    "\n",
    "Por ejemplo, si a un modelo de identificación de perros solo lo entrenamos con una imagen, no podrá generalizar lo suficiente para predecir otras imagenes.\n",
    "\n",
    "<img src=\"https://raw.githubusercontent.com/Digital-House-DATA/ds_blend_2021_img/master/M3/CLASE_18_Intro_ML_1/Presentacion/img/M3_CLASE_18_perro_001.png\" align=\"center\" alt=\"perro 1\" width=50% height=30% />\n",
    "\n",
    "Pero si al modelo lo entrenamos sólo con perros con las mismas características, tampoco podrá generalizar correctamente.\n",
    "\n",
    "<img src=\"https://raw.githubusercontent.com/Digital-House-DATA/ds_blend_2021_img/master/M3/CLASE_18_Intro_ML_1/Presentacion/img/M3_CLASE_18_perro_002.PNG\" align=\"center\" alt=\"perro 1\" width=50% height=30% />\n",
    "\n",
    "<a href=\"https://www.aprendemachinelearning.com/que-es-overfitting-y-underfitting-y-como-solucionarlo/\" target=\"_blank\">más detalles aquí</a>"
   ]
  },
  {
   "cell_type": "markdown",
   "metadata": {
    "colab_type": "text",
    "id": "RS1Zd1cqYZpe",
    "slideshow": {
     "slide_type": "slide"
    }
   },
   "source": [
    "### Introducción\n",
    "\n",
    "---\n",
    "Entonces se plantean dos situaciones:\n",
    "\n",
    "- Podemos estar usando un **modelo demasiado simple**, que no logra aprender lo suficiente de los datos de entrenamiento y, como consecuencia, tampoco logra predecir muy bien los datos de testing.\n",
    "\n",
    "- Podemos estar trabajando con un **modelo excesivamente complejo**, que se amolda tanto a los datos de entrenamiento que no logra generalizar a datos desconocidos.\n",
    "\n",
    "<img src=\"https://raw.githubusercontent.com/Digital-House-DATA/ds_blend_2021_img/master/M3/CLASE_18_Intro_ML_1/Presentacion/img/M3_CLASE_18_overfit_002.PNG\" align=\"center\" alt=\"perro 1\" width=50% height=30% />\n",
    "\n"
   ]
  },
  {
   "cell_type": "markdown",
   "metadata": {
    "slideshow": {
     "slide_type": "subslide"
    }
   },
   "source": [
    "En el primer caso, la recta no representa adecuadamente la forma de los datos de entrenamiento. \n",
    "\n",
    "En el segundo caso, la curva generaliza correctamente. \n",
    "\n",
    "Mientras que en el último, la curva ajusta perfectamente a todos los puntos de entrenamiento, determinando que nuevos puntos no puedan ser predichos correctamente. "
   ]
  },
  {
   "cell_type": "markdown",
   "metadata": {
    "colab_type": "text",
    "id": "RS1Zd1cqYZpe",
    "slideshow": {
     "slide_type": "slide"
    }
   },
   "source": [
    "### Underfitting - Overfitting\n",
    "\n",
    "---\n",
    "\n",
    "Cuando entrenamos nuestro modelo intentamos ajustar los datos de entrada con la salida. \n",
    "\n",
    "Podemos traducir **overfitting como sobreajuste** y **underfitting como subajuste**; hacen referencia al fallo de nuestro modelo al generalizar -ajustar- el conocimiento que pretendemos que adquieran.\n",
    "\n",
    "<img src=\"https://raw.githubusercontent.com/Digital-House-DATA/ds_blend_2021_img/master/M3/CLASE_18_Intro_ML_1/Presentacion/img/M3_CLASE_18_overfit_003.PNG\" align=\"center\" alt=\"overfit\" width=50% height=30% />\n",
    "\n"
   ]
  },
  {
   "cell_type": "markdown",
   "metadata": {
    "slideshow": {
     "slide_type": "slide"
    }
   },
   "source": [
    "### Sesgo - Varianza\n",
    "\n",
    "---\n",
    "\n",
    "El error de sesgo es un error de suposiciones erróneas en el algoritmo de aprendizaje. \n",
    "Un sesgo alto puede hacer que un algoritmo pierda las relaciones relevantes entre las características (features) y los resultados (target) (underfitting).\n",
    "\n",
    "La varianza es un error de sensibilidad a pequeñas fluctuaciones en el conjunto de entrenamiento. \n",
    "Una varianza alta puede hacer que un algoritmo modele el ruido aleatorio de los datos de entrenamiento (overfitting).\n"
   ]
  },
  {
   "cell_type": "markdown",
   "metadata": {
    "slideshow": {
     "slide_type": "subslide"
    }
   },
   "source": [
    "<img src=\"https://raw.githubusercontent.com/Digital-House-DATA/ds_blend_2021_img/master/M3/CLASE_18_Intro_ML_1/Presentacion/img/M3_clase_18_sesgo_varianza_1.png\" align=\"center\"/>\n"
   ]
  },
  {
   "cell_type": "markdown",
   "metadata": {
    "slideshow": {
     "slide_type": "subslide"
    }
   },
   "source": [
    "El **dilema entre el sesgo y la varianza** es el conflicto al tratar de minimizar simultáneamente estas dos fuentes de error que impiden que los algoritmos de aprendizaje supervisado generalicen más allá de su conjunto de entrenamiento\n",
    "\n",
    "\n",
    "<img src=\"https://raw.githubusercontent.com/Digital-House-DATA/ds_blend_2021_img/master/M3/CLASE_18_Intro_ML_1/Presentacion/img/M3_clase_18_sesgo_varianza_2.png\" align=\"center\"/>\n",
    "\n"
   ]
  },
  {
   "cell_type": "markdown",
   "metadata": {
    "slideshow": {
     "slide_type": "slide"
    }
   },
   "source": [
    "### Underfitting - Overfitting. Sesgo - Varianza\n",
    "\n",
    "---\n",
    "\n",
    "Podemos decir entonces que *underfitting se relaciona con alto sesgo y baja varianza*, y *overfitting con bajo sesgo y alta varianza*.\n",
    "\n",
    "\n",
    "<img src=\"https://raw.githubusercontent.com/Digital-House-DATA/ds_blend_2021_img/master/M3/CLASE_18_Intro_ML_1/Presentacion/img/M3_clase_18_sesgo_varianza_3.png\" align=\"center\"/>\n",
    "\n",
    "\n"
   ]
  },
  {
   "cell_type": "markdown",
   "metadata": {
    "slideshow": {
     "slide_type": "slide"
    }
   },
   "source": [
    "### En resumen\n",
    "\n",
    "---\n",
    "\n",
    "<img src=\"https://raw.githubusercontent.com/Digital-House-DATA/ds_blend_2021_img/master/M3/CLASE_18_Intro_ML_1/Presentacion/img/M3_CLASE_18_overfit_001.png\" align=\"center\" alt=\"overfit\" width=80% height=60% />"
   ]
  },
  {
   "cell_type": "markdown",
   "metadata": {
    "slideshow": {
     "slide_type": "slide"
    }
   },
   "source": [
    "<div class=\"div-dhds-fondo-1\"> Cross Validation\n",
    "<img src=\"https://raw.githubusercontent.com/Digital-House-DATA/ds_blend_2021_img/master/M3/CLASE_18_Intro_ML_1/Presentacion/img/M3_CLASE_18_separador.png\" align=\"center\"></img>    \n",
    "</div>"
   ]
  },
  {
   "cell_type": "markdown",
   "metadata": {
    "slideshow": {
     "slide_type": "slide"
    }
   },
   "source": [
    "### Cross Validation\n",
    "\n",
    "---\n",
    "\n",
    "Hasta ahora vimos que la metodología que se utiliza para comparar diferentes modelos y evaluar cuál de ellos se desempeña mejor *consiste en reservar una porción de los datos* para conocer la capacidad de generalización de los distintos modelos.\n",
    "\n",
    "Esto responde a la división de los datos en un *training set* y un *testing set*, como estuvimos trabajando.\n",
    "\n",
    "Pero existe otra forma de evaluar el modelo que es una generalización de lo anterior. \n",
    "\n",
    "**Armamos múltiples (k) sets de entrenamiento y validación a partir del mismo conjunto de datos**, y así realizamos k entrenamientos y validaciones independientes sobre distintos conjuntos, extraidos del mismo conjunto de datos original."
   ]
  },
  {
   "cell_type": "markdown",
   "metadata": {
    "slideshow": {
     "slide_type": "slide"
    }
   },
   "source": [
    "### Cross Validation\n",
    "\n",
    "---\n",
    "\n",
    "El procedimiento se llama *cross-validation* o *método de validación cruzada*.\n",
    "\n",
    "<img src=\"https://raw.githubusercontent.com/Digital-House-DATA/ds_blend_2021_img/master/M3/CLASE_18_Intro_ML_1/Presentacion/img/M3_CLASE_18_cv.png\" align=\"center\" alt=\"Train_test\" width=70% height=40% />\n",
    "\n"
   ]
  },
  {
   "cell_type": "markdown",
   "metadata": {
    "slideshow": {
     "slide_type": "subslide"
    }
   },
   "source": [
    "Consiste en dividir el dataset en *k grupos*.\n",
    "\n",
    "En cada iteración (entrenamiento - validación) uno de esos grupos se reserva para validación y el resto se usa para entrenamiento del modelo. \n",
    "\n",
    "El conjunto usado para validación es distinto en cada iteración, y es uno de los k grupos creados inicialmente.\n",
    "\n",
    "\n",
    "**Lo importante es que, prueba a prueba, los datos de entrenamiento no son idénticos y los datos de validación nunca se repiten, de ahí la idea de \"validación cruzada\".**\n",
    "\n",
    "Realizando múltiples *folds* le damos más robustez estadística al análisis ya que promediamos varios resultados con distintos sets de entrenamiento y validación. \n",
    "\n",
    "En general, trabajamos con  validación cruzada de 3, 5 o 10 *folds*."
   ]
  },
  {
   "cell_type": "markdown",
   "metadata": {
    "slideshow": {
     "slide_type": "slide"
    }
   },
   "source": [
    "<div class=\"div-dhds-fondo-1\"> Hands-on\n",
    "<img src=\"https://raw.githubusercontent.com/Digital-House-DATA/ds_blend_2021_img/master/M3/CLASE_18_Intro_ML_1/Presentacion/img/M3_CLASE_18_separador.png\" align=\"center\"></img>    \n",
    "</div>"
   ]
  },
  {
   "cell_type": "markdown",
   "metadata": {
    "slideshow": {
     "slide_type": "slide"
    }
   },
   "source": [
    "### Ejercicio 1. Programación (tradicional) vs Machine Learning\n",
    "\n",
    "Comparemos el mecanismo de decisión de un programa de software de principios del 2000 que evaluaba el otorgamiento (o no) de un crédito a un cliente de un banco, con uno actual.\n",
    "\n",
    "Pensemos en \n",
    "\n",
    "* las fuentes de datos de cada época\n",
    "\n",
    "* la necesidad de contar con expertos del negocio\n",
    "\n",
    "* la posibilidad de explicar las reglas de decisión que se aplicaron para llegar al resultado\n",
    "\n",
    "* la capacidad de evaluación de la calidad de las predicciones sobre clientes de distintas regiones\n",
    "\n",
    "\n"
   ]
  },
  {
   "cell_type": "markdown",
   "metadata": {
    "slideshow": {
     "slide_type": "slide"
    }
   },
   "source": [
    "\n",
    "### Ejercicio 2. Aprendizaje supervisado. Aprendizaje no supervisado.\n",
    "\n",
    "Pensemos ejemplos de problemas que se presentan en una empresa de consumo o en el ámbito de sus trabajos y que podamos intentar resolver usando\n",
    "\n",
    "* modelos de aprendizaje supervisado\n",
    "\n",
    "* modelos de aprendizaje no supervisado\n",
    "\n"
   ]
  },
  {
   "cell_type": "markdown",
   "metadata": {
    "slideshow": {
     "slide_type": "slide"
    }
   },
   "source": [
    "\n",
    "\n",
    "### Ejercicio 3.\n",
    "\n",
    "Tenendo en cuenta la definición:\n",
    "\n",
    "*Se dice que un programa de computadora aprende de la <b>experiencia E</b> con respecto a alguna <b>tarea T</b> y la <b>medida de rendimiento P</b>, si su desempeño en la tarea T, medido por P, mejora con la experiencia E*\n",
    "\n",
    "Identifiquemos  E T y P para algunos de los problemas del paso anterior. \n",
    "\n",
    "\n"
   ]
  },
  {
   "cell_type": "markdown",
   "metadata": {
    "slideshow": {
     "slide_type": "slide"
    }
   },
   "source": [
    "\n",
    "\n",
    "### Ejercicio 4. Cross Validation\n",
    "\n",
    "¿Cuáles son las ventajas y desventajas de usar 3-fold cross validation frente a 10-fold cross validation?\n",
    "\n",
    "\n"
   ]
  },
  {
   "cell_type": "markdown",
   "metadata": {
    "slideshow": {
     "slide_type": "slide"
    }
   },
   "source": [
    "### Ejercicio 5. Overfitting Undefitting Sesgo Varianza\n",
    "\n",
    "¿Qué problema se presenta si tenemos muchas features y pocas observaciones para entrenar un modelo?\n",
    "\n",
    "¿Este modelo podrá generalizar adecuadamente?\n",
    "\n",
    "¿Qué problemas se presentan si tomamos una muestra de una pobación para intentar predecir una categoría (modelo de clasificación) y las cantidades de observaciones en cada categoría de la población son muy distintas?\n"
   ]
  },
  {
   "cell_type": "markdown",
   "metadata": {
    "slideshow": {
     "slide_type": "slide"
    }
   },
   "source": [
    "### Solución\n",
    "\n",
    "----"
   ]
  },
  {
   "cell_type": "markdown",
   "metadata": {
    "slideshow": {
     "slide_type": "slide"
    }
   },
   "source": [
    "### Ejercicio 1. Programación (tradicional) vs Machine Learning\n",
    "\n",
    "#### Las fuentes de datos de cada época:\n",
    "\n",
    "2000:\n",
    "\n",
    "* Informe Veraz\n",
    "\n",
    "* Resumen de tarjeta de crédito (monto sin detalles de consumos)\n",
    "\n",
    "* Sueldo\n",
    "\n",
    "* Datos demográficos\n",
    "\n",
    "Actual:\n",
    "\n",
    "* Todos los anteriores \n",
    "\n",
    "* Transacciones de tarjeta de crédito\n",
    "\n",
    "* Nivel de morosidad\n",
    "\n",
    "* Recencia, frecuencia y montos de consumos\n",
    "\n",
    "\n",
    "\n",
    "\n"
   ]
  },
  {
   "cell_type": "markdown",
   "metadata": {
    "slideshow": {
     "slide_type": "subslide"
    }
   },
   "source": [
    "\n",
    "#### La necesidad de contar con expertos del negocio\n",
    "\n",
    "2000:\n",
    "\n",
    "Los expertos decidian que reglas debían ser programadas en el software. \n",
    "\n",
    "actual:\n",
    "\n",
    "Los modelos predicen un score para cada individuo sin necesidad de predefinir criterios.\n",
    "\n"
   ]
  },
  {
   "cell_type": "markdown",
   "metadata": {
    "slideshow": {
     "slide_type": "subslide"
    }
   },
   "source": [
    "\n",
    "\n",
    "#### La posibilidad de explicar las reglas de decisión que se aplicaron para llegar al resultado\n",
    "\n",
    "2000:\n",
    "\n",
    "Todas las reglas de decisión podían explicitarse\n",
    "\n",
    "actual:\n",
    "\n",
    "Posiblemente no pueda explicitarse la secuencia de evaluaciones involucradas en la respuesta.\n",
    "\n"
   ]
  },
  {
   "cell_type": "markdown",
   "metadata": {
    "slideshow": {
     "slide_type": "subslide"
    }
   },
   "source": [
    "\n",
    "#### La capacidad de evaluación de la calidad de las predicciones sobre clientes de distintas regiones\n",
    "\n",
    "2000:\n",
    "\n",
    "Es dificil medir la performance a priori (sin haberlo usado en la región de interés y evaluado los resultados un período de tiempo después)\n",
    "\n",
    "actual:\n",
    "\n",
    "Podemos medir la performance del modelo sobre datos de test históricos de individuos de la región de interés.\n",
    "\n"
   ]
  },
  {
   "cell_type": "markdown",
   "metadata": {
    "slideshow": {
     "slide_type": "slide"
    }
   },
   "source": [
    "\n",
    "\n",
    "### Ejercicio 2. Aprendizaje supervisado. Aprendizaje no supervisado.\n",
    "\n",
    "**Preferimos discutir los problemas que hayan indentificado ustedes en sus ámbitos laborales.**\n",
    "\n",
    "Si seguimos el ejemplo de la empresa de consumo masivo:\n",
    "\n",
    "* modelos de aprendizaje supervisado\n",
    "\n",
    "    - Churn (clasificación)\n",
    "\n",
    "    - Forecast de ventas (regresión)\n",
    "\n",
    "    - Profiling de clientes (clasificación)\n",
    "\n",
    "* modelos de aprendizaje no supervisado\n",
    "\n",
    "    - Segmentación de clientes (clustering)\n",
    "\n",
    "    - Segmentación de productos (clustering)\n",
    "\n",
    "    - Cross-selling (clustering)\n",
    "\n"
   ]
  },
  {
   "cell_type": "markdown",
   "metadata": {
    "slideshow": {
     "slide_type": "slide"
    }
   },
   "source": [
    "\n",
    "\n",
    "### Ejercicio 3.\n",
    "\n",
    "Tenendo en cuenta la definición:\n",
    "\n",
    "*Se dice que un programa de computadora aprende de la <b>experiencia E</b> con respecto a alguna <b>tarea T</b> y la <b>medida de rendimiento P</b>, si su desempeño en la tarea T, medido por P, mejora con la experiencia E*\n",
    "\n",
    "Identifiquemos  E T y P para algunos de los problemas del paso anterior. \n",
    "\n",
    "\n",
    "Para churn:\n",
    "\n",
    "E: datos de tenecia de productos, consumos del cliente, recencia frecuencia y monto de transacciones\n",
    "\n",
    "T: predecir si el cliente se va a dar de baja en los próximos tres meses\n",
    "\n",
    "P: la proporción de clientes que se dieron de baja y fueron predichos baja (TP) respecto de las bajas totales; y la proporción de clientes que no se dieron de baja y fueron predichos baja (FP) respecto de los predichos como baja totales\n"
   ]
  },
  {
   "cell_type": "markdown",
   "metadata": {
    "slideshow": {
     "slide_type": "slide"
    }
   },
   "source": [
    "\n",
    "\n",
    "### Ejercicio 4. Cross Validation\n",
    "\n",
    "3-fold cross validation vs a 10-fold cross validation:\n",
    "\n",
    "* Tiempo de ejecución: 3-fold entrena tres veces el modelo frente a 10-fold que entrena diez veces\n",
    "\n",
    "* Cantidad de datos en entrenamiento: 3-fold entrena con muchos menos datos (2/3 del total) que 10-fold (9/10 del total)\n",
    "\n",
    "* Robustez: 3-fold calcula performance con estadísticas sobre tres entrenamientos, 10-fold calcula performance con estadísticas sobre diez entrenamientos\n",
    "\n"
   ]
  },
  {
   "cell_type": "markdown",
   "metadata": {
    "slideshow": {
     "slide_type": "slide"
    }
   },
   "source": [
    "### Ejercicio 5. Overfitting Undefitting Sesgo Varianza\n",
    "\n",
    "¿Qué problema se presenta si tenemos muchas features y pocas observaciones para entrenar un modelo?\n",
    "\n",
    "El modelo tenderá a memorizar (overfitting). \n",
    "\n",
    "¿Este modelo podrá generalizar adecuadamente?\n",
    "\n",
    "No podrá generalizar adecuadamente.\n",
    "\n",
    "¿Qué problemas se presentan si tomamos una muestra de una pobación para intentar predecir una categoría (modelo de clasificación) y las cantidades de observaciones en cada categoría de la población son muy distintas?\n",
    "\n",
    "Las clases con muchas observaciones pueden ser bien aprendidas por el modelo.\n",
    "\n",
    "Para las clases con pocas observaciones, si el error en entrenamiento es bajo posiblemente se deba a una alta varianza del modelo, es decir con overfitting sobre la clases minoritarias.\n"
   ]
  },
  {
   "cell_type": "markdown",
   "metadata": {
    "slideshow": {
     "slide_type": "slide"
    }
   },
   "source": [
    "<div class=\"div-dhds-fondo-1\"> Referencias y Material Adicional\n",
    "<img src=\"https://raw.githubusercontent.com/Digital-House-DATA/ds_blend_2021_img/master/M3/CLASE_18_Intro_ML_1/Presentacion/img/M3_CLASE_18_separador.png\" align=\"center\"></img>    \n",
    "</div>"
   ]
  },
  {
   "cell_type": "markdown",
   "metadata": {
    "slideshow": {
     "slide_type": "slide"
    }
   },
   "source": [
    "### Referencias y Material Adicional\n",
    "\n",
    "---\n",
    "\n",
    "Introduction to Machine Learning with Python. Andreas C. Müller, Sarah Guido. O’Reilly Media.\n",
    "\n",
    "An Introduction to Statistical Learning with Applications in R. Gareth James, Daniela Witten, Trevor Hastie, Robert Tibshirani. Springer.\n",
    "\n",
    "Machine Learning. Tom Michell. McGraw-Hill Science.\n",
    "\n",
    "\n",
    "\n",
    "<a href =\"https://scikit-learn.org/stable/modules/tree.html#tree\" tagert=\"_blank\">Decision Trees</a>\n",
    "\n",
    "<a href =\"https://towardsdatascience.com/how-to-tune-a-decision-tree-f03721801680\" tagert=\"_blank\">How to tune a Decision Tree?</a>"
   ]
  }
 ],
 "metadata": {
  "kernelspec": {
   "display_name": "Python 3",
   "language": "python",
   "name": "python3"
  },
  "language_info": {
   "codemirror_mode": {
    "name": "ipython",
    "version": 3
   },
   "file_extension": ".py",
   "mimetype": "text/x-python",
   "name": "python",
   "nbconvert_exporter": "python",
   "pygments_lexer": "ipython3",
   "version": "3.8.5"
  }
 },
 "nbformat": 4,
 "nbformat_minor": 4
}
