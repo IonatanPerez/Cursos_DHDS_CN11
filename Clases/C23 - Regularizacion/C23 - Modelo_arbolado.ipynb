{
 "cells": [
  {
   "cell_type": "code",
   "execution_count": 35,
   "metadata": {},
   "outputs": [
    {
     "name": "stderr",
     "output_type": "stream",
     "text": [
      "C:\\Users\\Ionatan\\AppData\\Local\\Temp\\ipykernel_12328\\3586648081.py:6: DtypeWarning: Columns (2,7,8) have mixed types. Specify dtype option on import or set low_memory=False.\n",
      "  arboles = pd.read_csv(\"arbolado.csv\")\n"
     ]
    },
    {
     "data": {
      "text/html": [
       "<div>\n",
       "<style scoped>\n",
       "    .dataframe tbody tr th:only-of-type {\n",
       "        vertical-align: middle;\n",
       "    }\n",
       "\n",
       "    .dataframe tbody tr th {\n",
       "        vertical-align: top;\n",
       "    }\n",
       "\n",
       "    .dataframe thead th {\n",
       "        text-align: right;\n",
       "    }\n",
       "</style>\n",
       "<table border=\"1\" class=\"dataframe\">\n",
       "  <thead>\n",
       "    <tr style=\"text-align: right;\">\n",
       "      <th></th>\n",
       "      <th>long</th>\n",
       "      <th>lat</th>\n",
       "      <th>nro_registro</th>\n",
       "      <th>tipo_activ</th>\n",
       "      <th>comuna</th>\n",
       "      <th>manzana</th>\n",
       "      <th>calle_nombre</th>\n",
       "      <th>calle_altura</th>\n",
       "      <th>calle_chapa</th>\n",
       "      <th>direccion_normalizada</th>\n",
       "      <th>ubicacion</th>\n",
       "      <th>nombre_cientifico</th>\n",
       "      <th>ancho_acera</th>\n",
       "      <th>estado_plantera</th>\n",
       "      <th>ubicacion_plantera</th>\n",
       "      <th>nivel_plantera</th>\n",
       "      <th>diametro_altura_pecho</th>\n",
       "      <th>altura_arbol</th>\n",
       "    </tr>\n",
       "  </thead>\n",
       "  <tbody>\n",
       "    <tr>\n",
       "      <th>0</th>\n",
       "      <td>-58.378563</td>\n",
       "      <td>-34.594902</td>\n",
       "      <td>26779</td>\n",
       "      <td>Lineal</td>\n",
       "      <td>1</td>\n",
       "      <td>NaN</td>\n",
       "      <td>Esmeralda</td>\n",
       "      <td>1000.0</td>\n",
       "      <td>1120.0</td>\n",
       "      <td>ESMERALDA 1120</td>\n",
       "      <td>NaN</td>\n",
       "      <td>Tipuana tipu</td>\n",
       "      <td>5.5</td>\n",
       "      <td>Ocupada</td>\n",
       "      <td>Regular</td>\n",
       "      <td>A nivel</td>\n",
       "      <td>88.0</td>\n",
       "      <td>34.0</td>\n",
       "    </tr>\n",
       "    <tr>\n",
       "      <th>1</th>\n",
       "      <td>-58.381532</td>\n",
       "      <td>-34.592319</td>\n",
       "      <td>30887</td>\n",
       "      <td>Lineal</td>\n",
       "      <td>1</td>\n",
       "      <td>NaN</td>\n",
       "      <td>Pellegrini Carlos</td>\n",
       "      <td>1300.0</td>\n",
       "      <td>1345.0</td>\n",
       "      <td>PELLEGRINI, CARLOS 1345</td>\n",
       "      <td>Exacta</td>\n",
       "      <td>Peltophorum dubium</td>\n",
       "      <td>4.5</td>\n",
       "      <td>Ocupada</td>\n",
       "      <td>Regular</td>\n",
       "      <td>Elevada</td>\n",
       "      <td>6.0</td>\n",
       "      <td>5.0</td>\n",
       "    </tr>\n",
       "    <tr>\n",
       "      <th>2</th>\n",
       "      <td>-58.379103</td>\n",
       "      <td>-34.591939</td>\n",
       "      <td>30904</td>\n",
       "      <td>Lineal</td>\n",
       "      <td>1</td>\n",
       "      <td>NaN</td>\n",
       "      <td>Arroyo</td>\n",
       "      <td>800.0</td>\n",
       "      <td>848.0</td>\n",
       "      <td>ARROYO 848</td>\n",
       "      <td>Exacta</td>\n",
       "      <td>Fraxinus pennsylvanica</td>\n",
       "      <td>4</td>\n",
       "      <td>Ocupada</td>\n",
       "      <td>Regular</td>\n",
       "      <td>A nivel</td>\n",
       "      <td>7.0</td>\n",
       "      <td>6.0</td>\n",
       "    </tr>\n",
       "    <tr>\n",
       "      <th>3</th>\n",
       "      <td>-58.380710</td>\n",
       "      <td>-34.591548</td>\n",
       "      <td>31336</td>\n",
       "      <td>Lineal</td>\n",
       "      <td>1</td>\n",
       "      <td>NaN</td>\n",
       "      <td>Arroyo</td>\n",
       "      <td>900.0</td>\n",
       "      <td>932.0</td>\n",
       "      <td>ARROYO 932</td>\n",
       "      <td>LD</td>\n",
       "      <td>Fraxinus pennsylvanica</td>\n",
       "      <td>NaN</td>\n",
       "      <td>Ocupada</td>\n",
       "      <td>Regular</td>\n",
       "      <td>A nivel</td>\n",
       "      <td>9.0</td>\n",
       "      <td>29.0</td>\n",
       "    </tr>\n",
       "    <tr>\n",
       "      <th>4</th>\n",
       "      <td>-58.380710</td>\n",
       "      <td>-34.591548</td>\n",
       "      <td>31337</td>\n",
       "      <td>Lineal</td>\n",
       "      <td>1</td>\n",
       "      <td>NaN</td>\n",
       "      <td>Arroyo</td>\n",
       "      <td>900.0</td>\n",
       "      <td>932.0</td>\n",
       "      <td>ARROYO 932</td>\n",
       "      <td>LA</td>\n",
       "      <td>Jacaranda mimosifolia</td>\n",
       "      <td>NaN</td>\n",
       "      <td>Ocupada</td>\n",
       "      <td>Regular</td>\n",
       "      <td>A nivel</td>\n",
       "      <td>13.0</td>\n",
       "      <td>8.0</td>\n",
       "    </tr>\n",
       "  </tbody>\n",
       "</table>\n",
       "</div>"
      ],
      "text/plain": [
       "        long        lat nro_registro tipo_activ  comuna manzana  \\\n",
       "0 -58.378563 -34.594902        26779     Lineal       1     NaN   \n",
       "1 -58.381532 -34.592319        30887     Lineal       1     NaN   \n",
       "2 -58.379103 -34.591939        30904     Lineal       1     NaN   \n",
       "3 -58.380710 -34.591548        31336     Lineal       1     NaN   \n",
       "4 -58.380710 -34.591548        31337     Lineal       1     NaN   \n",
       "\n",
       "        calle_nombre calle_altura calle_chapa    direccion_normalizada  \\\n",
       "0          Esmeralda       1000.0      1120.0           ESMERALDA 1120   \n",
       "1  Pellegrini Carlos       1300.0      1345.0  PELLEGRINI, CARLOS 1345   \n",
       "2             Arroyo        800.0       848.0               ARROYO 848   \n",
       "3             Arroyo        900.0       932.0               ARROYO 932   \n",
       "4             Arroyo        900.0       932.0               ARROYO 932   \n",
       "\n",
       "  ubicacion       nombre_cientifico ancho_acera estado_plantera  \\\n",
       "0       NaN            Tipuana tipu         5.5         Ocupada   \n",
       "1    Exacta      Peltophorum dubium         4.5         Ocupada   \n",
       "2    Exacta  Fraxinus pennsylvanica           4         Ocupada   \n",
       "3        LD  Fraxinus pennsylvanica         NaN         Ocupada   \n",
       "4        LA   Jacaranda mimosifolia         NaN         Ocupada   \n",
       "\n",
       "  ubicacion_plantera nivel_plantera  diametro_altura_pecho  altura_arbol  \n",
       "0            Regular        A nivel                   88.0          34.0  \n",
       "1            Regular        Elevada                    6.0           5.0  \n",
       "2            Regular        A nivel                    7.0           6.0  \n",
       "3            Regular        A nivel                    9.0          29.0  \n",
       "4            Regular        A nivel                   13.0           8.0  "
      ]
     },
     "execution_count": 35,
     "metadata": {},
     "output_type": "execute_result"
    }
   ],
   "source": [
    "import pandas as pd\n",
    "import seaborn as sns\n",
    "import matplotlib.pyplot as plt\n",
    "\n",
    "#arboles = pd.read_csv(\"https://cdn.buenosaires.gob.ar/datosabiertos/datasets/arbolado-publico-lineal/arbolado-publico-lineal-2017-2018.csv\")\n",
    "arboles = pd.read_csv(\"arbolado.csv\")\n",
    "\n",
    "arboles.head()"
   ]
  },
  {
   "cell_type": "code",
   "execution_count": 36,
   "metadata": {},
   "outputs": [
    {
     "data": {
      "text/plain": [
       "Index(['Fraxinus pennsylvanica', 'Platanus x acerifolia', 'Ficus benjamina',\n",
       "       'Tilia x moltkei', 'Melia azedarach', 'Jacaranda mimosifolia',\n",
       "       'Lagerstroemia indica', 'Fraxinus americana', 'No identificado',\n",
       "       'Tipuana tipu'],\n",
       "      dtype='object')"
      ]
     },
     "execution_count": 36,
     "metadata": {},
     "output_type": "execute_result"
    }
   ],
   "source": [
    "arboles['nombre_cientifico'].value_counts().index[:10]"
   ]
  },
  {
   "cell_type": "raw",
   "metadata": {},
   "source": [
    "for especie in arboles['nombre_cientifico'].value_counts().index[50:70]:\n",
    "    plt.figure()\n",
    "    sns.regplot(data=arboles[arboles['nombre_cientifico']==especie], x='diametro_altura_pecho', y='altura_arbol')\n",
    "\n",
    "# 19 49 60"
   ]
  },
  {
   "cell_type": "code",
   "execution_count": 37,
   "metadata": {},
   "outputs": [
    {
     "data": {
      "text/plain": [
       "<AxesSubplot:xlabel='diametro_altura_pecho', ylabel='altura_arbol'>"
      ]
     },
     "execution_count": 37,
     "metadata": {},
     "output_type": "execute_result"
    },
    {
     "data": {
      "image/png": "[encoded data removed]",
      "text/plain": [
       "<Figure size 432x288 with 1 Axes>"
      ]
     },
     "metadata": {
      "needs_background": "light"
     },
     "output_type": "display_data"
    }
   ],
   "source": [
    "arbolado = arboles[arboles['nombre_cientifico'] == arboles['nombre_cientifico'].value_counts().index[60]]\n",
    "sns.regplot(data=arbolado, x='diametro_altura_pecho', y='altura_arbol')\n"
   ]
  },
  {
   "cell_type": "code",
   "execution_count": 38,
   "metadata": {},
   "outputs": [],
   "source": [
    "arbolado = arbolado[['diametro_altura_pecho','altura_arbol','long','lat','comuna']].dropna()\n",
    "arbolado.head()\n",
    "\n"
   ]
  },
  {
   "cell_type": "code",
   "execution_count": 39,
   "metadata": {},
   "outputs": [],
   "source": [
    "from sklearn.model_selection import train_test_split\n",
    "from sklearn.linear_model import LinearRegression\n",
    "from sklearn.preprocessing import StandardScaler\n",
    "from sklearn.linear_model import RidgeCV\n",
    "from sklearn.linear_model import LassoCV\n",
    "\n",
    "X = arbolado[['diametro_altura_pecho','long','lat','comuna']]\n",
    "y = arbolado['altura_arbol']\n",
    "\n"
   ]
  },
  {
   "cell_type": "code",
   "execution_count": 40,
   "metadata": {},
   "outputs": [],
   "source": [
    "X = arbolado[['diametro_altura_pecho','long','lat','comuna']]\n",
    "y = arbolado['altura_arbol']\n",
    "\n",
    "\n",
    "X_train, X_test, y_train, y_test = train_test_split(X, y, tr)\n",
    "\n",
    "scaler = StandardScaler()\n",
    "X_train_std = scaler.fit_transform(X_train)\n",
    "X_test_std = scaler.transform(X_test)\n"
   ]
  },
  {
   "cell_type": "code",
   "execution_count": 41,
   "metadata": {},
   "outputs": [
    {
     "name": "stdout",
     "output_type": "stream",
     "text": [
      "[ 3.01190437  0.22974917  0.6591628  -0.36923598]\n",
      "8.879999999999914\n"
     ]
    }
   ],
   "source": [
    "model_OLS = LinearRegression(fit_intercept=True)\n",
    "\n",
    "model_OLS.fit(X_train_std, y_train)\n",
    "\n",
    "print(model_OLS.coef_)\n",
    "\n",
    "print(model_OLS.intercept_)"
   ]
  },
  {
   "cell_type": "code",
   "execution_count": 42,
   "metadata": {},
   "outputs": [
    {
     "name": "stdout",
     "output_type": "stream",
     "text": [
      "10.0\n",
      "[ 2.44833026  0.07247056  0.7472345  -0.3751418 ]\n",
      "8.87999999999992\n"
     ]
    }
   ],
   "source": [
    "model_ridge_cv = RidgeCV(alphas= [0.3, 0.5, 1.0, 1.1, 1.15, 1.17, 1.18, 1.19, 1.2, 1.21, 1.22, 1.3, 1.4, 1.5, 10.0], \n",
    "                                   fit_intercept=True, cv=10)\n",
    "model_ridge_cv.fit(X_train_std, y_train)\n",
    "\n",
    "print(model_ridge_cv.alpha_)\n",
    "\n",
    "print(model_ridge_cv.coef_)\n",
    "\n",
    "print(model_ridge_cv.intercept_)"
   ]
  },
  {
   "cell_type": "code",
   "execution_count": 43,
   "metadata": {},
   "outputs": [
    {
     "name": "stdout",
     "output_type": "stream",
     "text": [
      "0.5\n",
      "[ 2.62732182  0.          0.19409154 -0.        ]\n",
      "8.879999999999981\n"
     ]
    }
   ],
   "source": [
    "model_lasso_cv = LassoCV(alphas= [0.3, 0.5, 1.0, 1.1, 1.15, 1.17, 1.18, 1.19, 1.2, 1.21, 1.22, 1.3, 1.4, 1.5, 10.0], \n",
    "                                   fit_intercept=True, cv=10)\n",
    "model_lasso_cv.fit(X_train_std, y_train)\n",
    "\n",
    "print(model_lasso_cv.alpha_)\n",
    "\n",
    "print(model_lasso_cv.coef_)\n",
    "\n",
    "print(model_lasso_cv.intercept_)\n"
   ]
  },
  {
   "cell_type": "code",
   "execution_count": 44,
   "metadata": {},
   "outputs": [
    {
     "name": "stdout",
     "output_type": "stream",
     "text": [
      "Modelo OLS:\n",
      "\n",
      "Score (R^2) en train del modelo es 0.56133051743436 y en test es 0.5404726664378952\n",
      "\n",
      "\n",
      "Modelo Ridge:\n",
      "\n",
      "Score (R^2) en train del modelo es 0.5475656634406405 y en test es 0.5382610937876569\n",
      "\n",
      "\n",
      "Modelo Lasso:\n",
      "\n",
      "Score (R^2) en train del modelo es 0.52943094466748 y en test es 0.4757985846658862\n",
      "\n",
      "\n"
     ]
    }
   ],
   "source": [
    "# Comparamos metricas en train y en test\n",
    "\n",
    "print ('Modelo OLS:\\n')\n",
    "print (f'Score (R^2) en train del modelo es {model_OLS.score(X_train_std, y_train)} y en test es {model_OLS.score(X_test_std, y_test)}')\n",
    "print ('\\n')\n",
    "\n",
    "print ('Modelo Ridge:\\n')\n",
    "print (f'Score (R^2) en train del modelo es {model_ridge_cv.score(X_train_std, y_train)} y en test es {model_ridge_cv.score(X_test_std, y_test)}')\n",
    "print ('\\n')\n",
    "\n",
    "print ('Modelo Lasso:\\n')\n",
    "print (f'Score (R^2) en train del modelo es {model_lasso_cv.score(X_train_std, y_train)} y en test es {model_lasso_cv.score(X_test_std, y_test)}')\n",
    "print ('\\n')"
   ]
  }
 ],
 "metadata": {
  "kernelspec": {
   "display_name": "Python 3.9.12 ('base')",
   "language": "python",
   "name": "python3"
  },
  "language_info": {
   "codemirror_mode": {
    "name": "ipython",
    "version": 3
   },
   "file_extension": ".py",
   "mimetype": "text/x-python",
   "name": "python",
   "nbconvert_exporter": "python",
   "pygments_lexer": "ipython3",
   "version": "3.9.12"
  },
  "orig_nbformat": 4,
  "vscode": {
   "interpreter": {
    "hash": "499a1cf83386e9cdb50680be6c4b00d5e02a649406be4f417a406efedf754313"
   }
  }
 },
 "nbformat": 4,
 "nbformat_minor": 2
}
