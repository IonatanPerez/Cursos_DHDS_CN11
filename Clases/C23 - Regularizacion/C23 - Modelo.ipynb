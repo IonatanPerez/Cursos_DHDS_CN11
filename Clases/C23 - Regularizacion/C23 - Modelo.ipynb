{
 "cells": [
  {
   "cell_type": "code",
   "execution_count": 43,
   "metadata": {},
   "outputs": [],
   "source": [
    "import numpy as np\n",
    "import pandas as pd\n",
    "import seaborn as sns"
   ]
  },
  {
   "cell_type": "code",
   "execution_count": 44,
   "metadata": {},
   "outputs": [],
   "source": [
    "N = 50\n",
    "df = pd.DataFrame({'x':range(N)})\n",
    "pendiente = 3\n",
    "ruido = 50\n",
    "ordenada = 30"
   ]
  },
  {
   "cell_type": "code",
   "execution_count": 45,
   "metadata": {},
   "outputs": [],
   "source": [
    "df['y'] = df['x'].apply(lambda x: pendiente*x + ruido*np.random.random() - ruido/2 + ordenada)\n",
    "df['ruido1'] = pd.Series(ruido * np.random.rand(N))\n",
    "\n",
    "agregar = True\n",
    "m = 45\n",
    "if agregar:\n",
    "    df_ruidoso = df.copy()\n",
    "    for i in range(m):\n",
    "        df_ruidoso['ruido'+ str(i)] = pd.Series(ruido * np.random.rand(N))\n"
   ]
  },
  {
   "cell_type": "code",
   "execution_count": 46,
   "metadata": {},
   "outputs": [
    {
     "data": {
      "text/plain": [
       "<AxesSubplot:xlabel='x', ylabel='y'>"
      ]
     },
     "execution_count": 46,
     "metadata": {},
     "output_type": "execute_result"
    },
    {
     "data": {
      "image/png": "[encoded data removed]",
      "text/plain": [
       "<Figure size 432x288 with 1 Axes>"
      ]
     },
     "metadata": {
      "needs_background": "light"
     },
     "output_type": "display_data"
    }
   ],
   "source": [
    "sns.regplot(data=df, x='x', y='y')"
   ]
  },
  {
   "cell_type": "markdown",
   "metadata": {},
   "source": [
    "# Analisis con OLS sin extras"
   ]
  },
  {
   "cell_type": "code",
   "execution_count": 47,
   "metadata": {},
   "outputs": [],
   "source": [
    "from sklearn.model_selection import train_test_split\n",
    "from sklearn.linear_model import LinearRegression\n",
    "from sklearn.preprocessing import StandardScaler\n",
    "from sklearn.linear_model import RidgeCV\n",
    "from sklearn.linear_model import LassoCV"
   ]
  },
  {
   "cell_type": "code",
   "execution_count": 48,
   "metadata": {},
   "outputs": [],
   "source": [
    "if agregar:\n",
    "    X = df_ruidoso.drop(columns=['y'])\n",
    "    y = df_ruidoso['y']\n",
    "else:\n",
    "    X = df.drop(columns=['y'])\n",
    "    y = df['y']\n",
    "\n",
    "X_train, X_test, y_train, y_test = train_test_split(X, y)\n",
    "\n",
    "scaler = StandardScaler()\n",
    "X_train_std = scaler.fit_transform(X_train)\n",
    "X_test_std = scaler.transform(X_test)"
   ]
  },
  {
   "cell_type": "code",
   "execution_count": 49,
   "metadata": {},
   "outputs": [
    {
     "name": "stdout",
     "output_type": "stream",
     "text": [
      "[33.23557068  4.16255138 -1.16390113 11.13199366 -3.90791628 -1.74918116\n",
      "  1.51610765 -3.49323834 -0.71640575 -7.52979988  2.52014913 -1.31297489\n",
      " -9.69931967 -0.90900086  6.18230268  3.13842638 -2.82641777 -5.32578317\n",
      " -3.12298968  9.94141295 -8.03132793 -6.14556573 -2.46307732  3.28605428\n",
      "  2.8811825   5.3358823  -0.34271038 -4.16477409 -5.65848117  5.36196047\n",
      "  1.89215439 -1.8016323  -2.90439431  3.30221516 -3.02344962 -3.91866507\n",
      "  1.03985611 -2.16495206  1.72159146 -7.90180443 -0.75069406 -1.53379957\n",
      "  3.41928141  2.65893533 -2.61030053 -0.13915568]\n",
      "99.21716529718056\n"
     ]
    }
   ],
   "source": [
    "model_OLS = LinearRegression(fit_intercept=True)\n",
    "\n",
    "model_OLS.fit(X_train_std, y_train)\n",
    "\n",
    "print(model_OLS.coef_)\n",
    "\n",
    "print(model_OLS.intercept_)"
   ]
  },
  {
   "cell_type": "markdown",
   "metadata": {},
   "source": [
    "# Ahora ridge"
   ]
  },
  {
   "cell_type": "code",
   "execution_count": 50,
   "metadata": {},
   "outputs": [
    {
     "name": "stdout",
     "output_type": "stream",
     "text": [
      "1.5\n",
      "[30.1258001   3.08869719  0.31560028  9.49290952 -3.54115658 -1.12000095\n",
      "  3.88524135 -3.32102373 -1.72975442 -7.92529225  3.15825754 -1.54488726\n",
      " -6.68150882 -2.93087007  2.52571379  1.19874746 -0.05161955 -3.09651313\n",
      " -0.97942665  8.75929365 -5.34428326 -4.00415935  0.20824713  3.74845481\n",
      "  1.81004523  3.46061428 -0.42227057 -2.4447376  -3.9168101   3.12473582\n",
      "  0.69593839 -1.70038845 -2.03024436  3.33543639 -2.50778208 -2.73804203\n",
      "  0.76491642 -1.46004935  3.09761981 -6.39035917 -2.34922492 -1.99489752\n",
      "  1.84876303  1.46032427 -2.99150539  1.1514204 ]\n",
      "99.21716529718056\n"
     ]
    }
   ],
   "source": [
    "model_ridge_cv = RidgeCV(alphas= [0.3, 0.5, 1.0, 1.1, 1.15, 1.17, 1.18, 1.19, 1.2, 1.21, 1.22, 1.3, 1.4, 1.5, 10.0], \n",
    "                                   fit_intercept=True, cv=10)\n",
    "model_ridge_cv.fit(X_train_std, y_train)\n",
    "\n",
    "print(model_ridge_cv.alpha_)\n",
    "\n",
    "print(model_ridge_cv.coef_)\n",
    "\n",
    "print(model_ridge_cv.intercept_)"
   ]
  },
  {
   "cell_type": "markdown",
   "metadata": {},
   "source": [
    "# Lasso"
   ]
  },
  {
   "cell_type": "code",
   "execution_count": 51,
   "metadata": {},
   "outputs": [
    {
     "name": "stdout",
     "output_type": "stream",
     "text": [
      "1.5\n",
      "[38.80279876  1.03797696 -0.          1.17424544 -0.          0.\n",
      "  0.          0.         -0.         -0.78474788  0.         -0.13931531\n",
      " -0.         -0.15702347  0.          0.78594134 -0.          0.\n",
      " -0.          2.7777343  -0.         -0.          0.          0.\n",
      "  0.          0.         -0.         -1.3824613   0.          0.\n",
      "  0.         -0.          0.7680876   2.19762489 -0.75362121 -0.\n",
      " -0.          0.          0.         -1.10800976 -0.         -0.\n",
      "  0.         -0.         -1.45360715  0.72415491]\n",
      "99.21716529718056\n"
     ]
    }
   ],
   "source": [
    "model_lasso_cv = LassoCV(alphas= [0.3, 0.5, 1.0, 1.1, 1.15, 1.17, 1.18, 1.19, 1.2, 1.21, 1.22, 1.3, 1.4, 1.5, 10.0], \n",
    "                                   fit_intercept=True, cv=10)\n",
    "model_lasso_cv.fit(X_train_std, y_train)\n",
    "\n",
    "print(model_lasso_cv.alpha_)\n",
    "\n",
    "print(model_lasso_cv.coef_)\n",
    "\n",
    "print(model_lasso_cv.intercept_)"
   ]
  },
  {
   "cell_type": "code",
   "execution_count": 52,
   "metadata": {},
   "outputs": [
    {
     "name": "stdout",
     "output_type": "stream",
     "text": [
      "Modelo OLS:\n",
      "\n",
      "Score (R^2) en train del modelo es 1.0 y en test es 0.35702667887427997\n",
      "\n",
      "\n",
      "Modelo Ridge:\n",
      "\n",
      "Score (R^2) en train del modelo es 0.995569591782102 y en test es 0.5384731070553868\n",
      "\n",
      "\n",
      "Modelo Lasso:\n",
      "\n",
      "Score (R^2) en train del modelo es 0.9462225296292472 y en test es 0.8517664325497124\n",
      "\n",
      "\n"
     ]
    }
   ],
   "source": [
    "# Comparamos metricas en train y en test\n",
    "\n",
    "print ('Modelo OLS:\\n')\n",
    "print (f'Score (R^2) en train del modelo es {model_OLS.score(X_train_std, y_train)} y en test es {model_OLS.score(X_test_std, y_test)}')\n",
    "print ('\\n')\n",
    "\n",
    "print ('Modelo Ridge:\\n')\n",
    "print (f'Score (R^2) en train del modelo es {model_ridge_cv.score(X_train_std, y_train)} y en test es {model_ridge_cv.score(X_test_std, y_test)}')\n",
    "print ('\\n')\n",
    "\n",
    "print ('Modelo Lasso:\\n')\n",
    "print (f'Score (R^2) en train del modelo es {model_lasso_cv.score(X_train_std, y_train)} y en test es {model_lasso_cv.score(X_test_std, y_test)}')\n",
    "print ('\\n')"
   ]
  }
 ],
 "metadata": {
  "kernelspec": {
   "display_name": "Python 3.9.12 ('base')",
   "language": "python",
   "name": "python3"
  },
  "language_info": {
   "name": "python",
   "version": "3.9.12"
  },
  "orig_nbformat": 4,
  "vscode": {
   "interpreter": {
    "hash": "499a1cf83386e9cdb50680be6c4b00d5e02a649406be4f417a406efedf754313"
   }
  }
 },
 "nbformat": 4,
 "nbformat_minor": 2
}
