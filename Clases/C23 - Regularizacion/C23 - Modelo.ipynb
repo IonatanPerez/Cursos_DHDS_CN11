{
 "cells": [
  {
   "cell_type": "code",
   "execution_count": 81,
   "metadata": {},
   "outputs": [],
   "source": [
    "import numpy as np\n",
    "import pandas as pd\n",
    "import seaborn as sns"
   ]
  },
  {
   "cell_type": "code",
   "execution_count": 82,
   "metadata": {},
   "outputs": [],
   "source": [
    "N = 50\n",
    "df = pd.DataFrame({'x':range(N)})\n",
    "pendiente = 3\n",
    "ruido = 50\n",
    "ordenada = 30"
   ]
  },
  {
   "cell_type": "code",
   "execution_count": 83,
   "metadata": {},
   "outputs": [],
   "source": [
    "df['y'] = df['x'].apply(lambda x: pendiente*x + ruido*(np.random.random() - 1/2) + ordenada)\n",
    "df['ruido1'] = pd.Series(ruido * np.random.rand(N))\n",
    "\n",
    "agregar = True\n",
    "m = 45\n",
    "if agregar:\n",
    "    df_ruidoso = df.copy()\n",
    "    for i in range(m):\n",
    "        df_ruidoso['ruido'+ str(i)] = pd.Series(ruido * np.random.rand(N))\n"
   ]
  },
  {
   "cell_type": "code",
   "execution_count": 84,
   "metadata": {},
   "outputs": [
    {
     "data": {
      "text/html": [
       "<div>\n",
       "<style scoped>\n",
       "    .dataframe tbody tr th:only-of-type {\n",
       "        vertical-align: middle;\n",
       "    }\n",
       "\n",
       "    .dataframe tbody tr th {\n",
       "        vertical-align: top;\n",
       "    }\n",
       "\n",
       "    .dataframe thead th {\n",
       "        text-align: right;\n",
       "    }\n",
       "</style>\n",
       "<table border=\"1\" class=\"dataframe\">\n",
       "  <thead>\n",
       "    <tr style=\"text-align: right;\">\n",
       "      <th></th>\n",
       "      <th>x</th>\n",
       "      <th>y</th>\n",
       "      <th>ruido1</th>\n",
       "    </tr>\n",
       "  </thead>\n",
       "  <tbody>\n",
       "    <tr>\n",
       "      <th>0</th>\n",
       "      <td>0</td>\n",
       "      <td>28.076514</td>\n",
       "      <td>46.726684</td>\n",
       "    </tr>\n",
       "    <tr>\n",
       "      <th>1</th>\n",
       "      <td>1</td>\n",
       "      <td>50.750322</td>\n",
       "      <td>2.389017</td>\n",
       "    </tr>\n",
       "    <tr>\n",
       "      <th>2</th>\n",
       "      <td>2</td>\n",
       "      <td>35.964963</td>\n",
       "      <td>43.983081</td>\n",
       "    </tr>\n",
       "    <tr>\n",
       "      <th>3</th>\n",
       "      <td>3</td>\n",
       "      <td>50.504587</td>\n",
       "      <td>35.255110</td>\n",
       "    </tr>\n",
       "    <tr>\n",
       "      <th>4</th>\n",
       "      <td>4</td>\n",
       "      <td>52.008830</td>\n",
       "      <td>49.563905</td>\n",
       "    </tr>\n",
       "  </tbody>\n",
       "</table>\n",
       "</div>"
      ],
      "text/plain": [
       "   x          y     ruido1\n",
       "0  0  28.076514  46.726684\n",
       "1  1  50.750322   2.389017\n",
       "2  2  35.964963  43.983081\n",
       "3  3  50.504587  35.255110\n",
       "4  4  52.008830  49.563905"
      ]
     },
     "execution_count": 84,
     "metadata": {},
     "output_type": "execute_result"
    }
   ],
   "source": [
    "df.head()"
   ]
  },
  {
   "cell_type": "code",
   "execution_count": 85,
   "metadata": {},
   "outputs": [
    {
     "data": {
      "text/plain": [
       "<AxesSubplot:xlabel='x', ylabel='y'>"
      ]
     },
     "execution_count": 85,
     "metadata": {},
     "output_type": "execute_result"
    },
    {
     "data": {
      "image/png": "[encoded data removed]",
      "text/plain": [
       "<Figure size 432x288 with 1 Axes>"
      ]
     },
     "metadata": {
      "needs_background": "light"
     },
     "output_type": "display_data"
    }
   ],
   "source": [
    "sns.regplot(data=df, x='x', y='y')"
   ]
  },
  {
   "cell_type": "markdown",
   "metadata": {},
   "source": [
    "# Analisis con OLS sin extras"
   ]
  },
  {
   "cell_type": "code",
   "execution_count": 86,
   "metadata": {},
   "outputs": [],
   "source": [
    "from sklearn.model_selection import train_test_split\n",
    "from sklearn.linear_model import LinearRegression\n",
    "from sklearn.preprocessing import StandardScaler\n",
    "from sklearn.linear_model import RidgeCV\n",
    "from sklearn.linear_model import LassoCV"
   ]
  },
  {
   "cell_type": "code",
   "execution_count": 87,
   "metadata": {},
   "outputs": [],
   "source": [
    "if agregar:\n",
    "    X = df_ruidoso.drop(columns=['y'])\n",
    "    y = df_ruidoso['y']\n",
    "else:\n",
    "    X = df.drop(columns=['y'])\n",
    "    y = df['y']\n",
    "\n",
    "X_train, X_test, y_train, y_test = train_test_split(X, y)\n",
    "\n",
    "scaler = StandardScaler()\n",
    "X_train_std = scaler.fit_transform(X_train)\n",
    "X_test_std = scaler.transform(X_test)"
   ]
  },
  {
   "cell_type": "code",
   "execution_count": 88,
   "metadata": {},
   "outputs": [
    {
     "name": "stdout",
     "output_type": "stream",
     "text": [
      "[31.50618337  2.26128344  2.89513328  4.7270648   9.94149544 -8.38014576\n",
      " -3.67555859  4.09131445 -5.40190307  1.53384668 -1.37440473 -3.05150073\n",
      " -1.43967569 -5.50475457  1.90001378  0.98986191  0.75378154  1.99389297\n",
      " -1.19032139 -1.37896667 -3.08498332 -0.9038494   9.10228443  0.40081456\n",
      "  3.84439123  7.09786613 -9.49270605 -2.24904707 -1.27024102 -5.2843583\n",
      "  6.78167995 -2.27701035  0.20857273 -1.20418928 -5.01636206  1.71621046\n",
      " -1.27840394 -9.49288022  3.56204521  0.31563122  0.44398622 -1.46138471\n",
      "  2.45498744 -7.12087954  2.75273799  0.5480143 ]\n",
      "96.95600317952625\n"
     ]
    }
   ],
   "source": [
    "model_OLS = LinearRegression(fit_intercept=True)\n",
    "\n",
    "model_OLS.fit(X_train_std, y_train)\n",
    "\n",
    "print(model_OLS.coef_)\n",
    "\n",
    "print(model_OLS.intercept_)"
   ]
  },
  {
   "cell_type": "markdown",
   "metadata": {},
   "source": [
    "# Ahora ridge"
   ]
  },
  {
   "cell_type": "code",
   "execution_count": 89,
   "metadata": {},
   "outputs": [
    {
     "name": "stdout",
     "output_type": "stream",
     "text": [
      "10.0\n",
      "[21.29397137  3.62570989  1.23799315  2.84217771  4.12427616 -2.41394196\n",
      " -2.66035199  0.75242819 -3.48955288 -0.33547031 -0.85524032 -0.78301089\n",
      "  1.04514211 -3.45603215  3.06266569 -0.16286772  1.86249934  2.72643663\n",
      " -4.87998678 -0.31606553  1.34540537 -1.77011473  3.92951486  1.13344433\n",
      "  3.32585709  7.67613504 -3.80870027 -3.13157926 -2.06098356 -4.1268275\n",
      "  3.27836037 -3.02314792 -0.70163531  2.01334547 -1.92654587  3.87355578\n",
      "  0.98578889 -3.42121583  0.52342164 -1.78014766  0.36568257 -0.45379797\n",
      "  3.24848576 -3.79641792  0.70630183  3.95968146]\n",
      "96.95600317952625\n"
     ]
    }
   ],
   "source": [
    "model_ridge_cv = RidgeCV(alphas= [0.001, 0.01, 0.1, 0.3, 0.5, 1.0, 1.1, 1.15, 1.17, 1.18, 1.19, 1.2, 1.21, 1.22, 1.3, 1.4, 1.5, 10.0], \n",
    "                                   fit_intercept=True, cv=10)\n",
    "model_ridge_cv.fit(X_train_std, y_train)\n",
    "\n",
    "print(model_ridge_cv.alpha_)\n",
    "\n",
    "print(model_ridge_cv.coef_)\n",
    "\n",
    "print(model_ridge_cv.intercept_)"
   ]
  },
  {
   "cell_type": "markdown",
   "metadata": {},
   "source": [
    "# Lasso"
   ]
  },
  {
   "cell_type": "code",
   "execution_count": 90,
   "metadata": {},
   "outputs": [
    {
     "name": "stdout",
     "output_type": "stream",
     "text": [
      "6.0\n",
      "[34.51250934  0.         -0.          0.          0.         -0.\n",
      " -0.         -0.         -0.          0.         -0.         -0.\n",
      " -0.         -0.          0.         -0.          0.          0.\n",
      " -0.         -0.         -0.         -0.          0.          0.\n",
      "  0.          0.         -0.         -0.         -0.         -0.\n",
      "  0.         -0.         -0.          0.         -0.          0.\n",
      " -0.         -0.          0.         -0.          0.         -0.\n",
      "  0.         -0.          0.          0.        ]\n",
      "96.95600317952625\n"
     ]
    }
   ],
   "source": [
    "model_lasso_cv = LassoCV(alphas= [0.3, 0.5, 1.0, 1.1, 1.15, 1.17, 1.18, 1.19, 1.2, 1.21, 1.22, 1.3, 1.4, 1.5, 2, 3, 6, 10.0], \n",
    "                                   fit_intercept=True, cv=10)\n",
    "model_lasso_cv.fit(X_train_std, y_train)\n",
    "\n",
    "print(model_lasso_cv.alpha_)\n",
    "\n",
    "print(model_lasso_cv.coef_)\n",
    "\n",
    "print(model_lasso_cv.intercept_)"
   ]
  },
  {
   "cell_type": "code",
   "execution_count": 91,
   "metadata": {},
   "outputs": [
    {
     "name": "stdout",
     "output_type": "stream",
     "text": [
      "Modelo OLS:\n",
      "\n",
      "Score (R^2) en train del modelo es 1.0 y en test es -0.1444438506806025\n",
      "\n",
      "\n",
      "Modelo Ridge:\n",
      "\n",
      "Score (R^2) en train del modelo es 0.9575401775494621 y en test es 0.2658566392394912\n",
      "\n",
      "\n",
      "Modelo Lasso:\n",
      "\n",
      "Score (R^2) en train del modelo es 0.850005078704729 y en test es 0.8436800057943826\n",
      "\n",
      "\n"
     ]
    }
   ],
   "source": [
    "# Comparamos metricas en train y en test\n",
    "\n",
    "print ('Modelo OLS:\\n')\n",
    "print (f'Score (R^2) en train del modelo es {model_OLS.score(X_train_std, y_train)} y en test es {model_OLS.score(X_test_std, y_test)}')\n",
    "print ('\\n')\n",
    "\n",
    "print ('Modelo Ridge:\\n')\n",
    "print (f'Score (R^2) en train del modelo es {model_ridge_cv.score(X_train_std, y_train)} y en test es {model_ridge_cv.score(X_test_std, y_test)}')\n",
    "print ('\\n')\n",
    "\n",
    "print ('Modelo Lasso:\\n')\n",
    "print (f'Score (R^2) en train del modelo es {model_lasso_cv.score(X_train_std, y_train)} y en test es {model_lasso_cv.score(X_test_std, y_test)}')\n",
    "print ('\\n')"
   ]
  }
 ],
 "metadata": {
  "kernelspec": {
   "display_name": "Python 3.8.13 ('DH')",
   "language": "python",
   "name": "python3"
  },
  "language_info": {
   "codemirror_mode": {
    "name": "ipython",
    "version": 3
   },
   "file_extension": ".py",
   "mimetype": "text/x-python",
   "name": "python",
   "nbconvert_exporter": "python",
   "pygments_lexer": "ipython3",
   "version": "3.8.13"
  },
  "orig_nbformat": 4,
  "vscode": {
   "interpreter": {
    "hash": "93b1ad9c150e9c4fa5781c5a37e00b91f3d8cfbe17fc5b5e6277144ed0216a69"
   }
  }
 },
 "nbformat": 4,
 "nbformat_minor": 2
}
