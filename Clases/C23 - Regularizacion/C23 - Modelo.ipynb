{
 "cells": [
  {
   "cell_type": "code",
   "execution_count": 79,
   "metadata": {},
   "outputs": [],
   "source": [
    "import numpy as np\n",
    "import pandas as pd\n",
    "import seaborn as sns"
   ]
  },
  {
   "cell_type": "code",
   "execution_count": 80,
   "metadata": {},
   "outputs": [],
   "source": [
    "N = 50\n",
    "df = pd.DataFrame({'x':range(N)})\n",
    "pendiente = 3\n",
    "ruido = 20\n",
    "ordenada = 30"
   ]
  },
  {
   "cell_type": "code",
   "execution_count": 81,
   "metadata": {},
   "outputs": [],
   "source": [
    "df['y'] = df['x'].apply(lambda x: pendiente*x + ruido*(np.random.random() - 1/2) + ordenada)\n",
    "df['ruido1'] = pd.Series(ruido * np.random.rand(N))\n",
    "\n",
    "agregar = True\n",
    "m = 50\n",
    "if agregar:\n",
    "    df_ruidoso = df.copy()\n",
    "    for i in range(m):\n",
    "        df_ruidoso['ruido'+ str(i)] = pd.Series(ruido * np.random.rand(N))\n"
   ]
  },
  {
   "cell_type": "code",
   "execution_count": 82,
   "metadata": {},
   "outputs": [
    {
     "data": {
      "text/html": [
       "<div>\n",
       "<style scoped>\n",
       "    .dataframe tbody tr th:only-of-type {\n",
       "        vertical-align: middle;\n",
       "    }\n",
       "\n",
       "    .dataframe tbody tr th {\n",
       "        vertical-align: top;\n",
       "    }\n",
       "\n",
       "    .dataframe thead th {\n",
       "        text-align: right;\n",
       "    }\n",
       "</style>\n",
       "<table border=\"1\" class=\"dataframe\">\n",
       "  <thead>\n",
       "    <tr style=\"text-align: right;\">\n",
       "      <th></th>\n",
       "      <th>x</th>\n",
       "      <th>y</th>\n",
       "      <th>ruido1</th>\n",
       "    </tr>\n",
       "  </thead>\n",
       "  <tbody>\n",
       "    <tr>\n",
       "      <th>0</th>\n",
       "      <td>0</td>\n",
       "      <td>28.899068</td>\n",
       "      <td>17.700528</td>\n",
       "    </tr>\n",
       "    <tr>\n",
       "      <th>1</th>\n",
       "      <td>1</td>\n",
       "      <td>40.102537</td>\n",
       "      <td>17.775959</td>\n",
       "    </tr>\n",
       "    <tr>\n",
       "      <th>2</th>\n",
       "      <td>2</td>\n",
       "      <td>27.942865</td>\n",
       "      <td>2.525522</td>\n",
       "    </tr>\n",
       "    <tr>\n",
       "      <th>3</th>\n",
       "      <td>3</td>\n",
       "      <td>37.916502</td>\n",
       "      <td>13.118085</td>\n",
       "    </tr>\n",
       "    <tr>\n",
       "      <th>4</th>\n",
       "      <td>4</td>\n",
       "      <td>40.822158</td>\n",
       "      <td>19.009820</td>\n",
       "    </tr>\n",
       "  </tbody>\n",
       "</table>\n",
       "</div>"
      ],
      "text/plain": [
       "   x          y     ruido1\n",
       "0  0  28.899068  17.700528\n",
       "1  1  40.102537  17.775959\n",
       "2  2  27.942865   2.525522\n",
       "3  3  37.916502  13.118085\n",
       "4  4  40.822158  19.009820"
      ]
     },
     "execution_count": 82,
     "metadata": {},
     "output_type": "execute_result"
    }
   ],
   "source": [
    "df.head()"
   ]
  },
  {
   "cell_type": "code",
   "execution_count": 83,
   "metadata": {},
   "outputs": [
    {
     "data": {
      "text/html": [
       "<div>\n",
       "<style scoped>\n",
       "    .dataframe tbody tr th:only-of-type {\n",
       "        vertical-align: middle;\n",
       "    }\n",
       "\n",
       "    .dataframe tbody tr th {\n",
       "        vertical-align: top;\n",
       "    }\n",
       "\n",
       "    .dataframe thead th {\n",
       "        text-align: right;\n",
       "    }\n",
       "</style>\n",
       "<table border=\"1\" class=\"dataframe\">\n",
       "  <thead>\n",
       "    <tr style=\"text-align: right;\">\n",
       "      <th></th>\n",
       "      <th>x</th>\n",
       "      <th>y</th>\n",
       "      <th>ruido1</th>\n",
       "      <th>ruido0</th>\n",
       "      <th>ruido2</th>\n",
       "      <th>ruido3</th>\n",
       "      <th>ruido4</th>\n",
       "      <th>ruido5</th>\n",
       "      <th>ruido6</th>\n",
       "      <th>ruido7</th>\n",
       "      <th>...</th>\n",
       "      <th>ruido40</th>\n",
       "      <th>ruido41</th>\n",
       "      <th>ruido42</th>\n",
       "      <th>ruido43</th>\n",
       "      <th>ruido44</th>\n",
       "      <th>ruido45</th>\n",
       "      <th>ruido46</th>\n",
       "      <th>ruido47</th>\n",
       "      <th>ruido48</th>\n",
       "      <th>ruido49</th>\n",
       "    </tr>\n",
       "  </thead>\n",
       "  <tbody>\n",
       "    <tr>\n",
       "      <th>0</th>\n",
       "      <td>0</td>\n",
       "      <td>28.899068</td>\n",
       "      <td>11.026853</td>\n",
       "      <td>6.960786</td>\n",
       "      <td>7.510047</td>\n",
       "      <td>2.349001</td>\n",
       "      <td>3.314578</td>\n",
       "      <td>7.115311</td>\n",
       "      <td>18.122441</td>\n",
       "      <td>17.399232</td>\n",
       "      <td>...</td>\n",
       "      <td>9.332116</td>\n",
       "      <td>5.370724</td>\n",
       "      <td>16.495550</td>\n",
       "      <td>3.073920</td>\n",
       "      <td>13.764867</td>\n",
       "      <td>14.758684</td>\n",
       "      <td>11.205774</td>\n",
       "      <td>16.540462</td>\n",
       "      <td>13.891287</td>\n",
       "      <td>8.171831</td>\n",
       "    </tr>\n",
       "    <tr>\n",
       "      <th>1</th>\n",
       "      <td>1</td>\n",
       "      <td>40.102537</td>\n",
       "      <td>17.510957</td>\n",
       "      <td>14.287965</td>\n",
       "      <td>0.026491</td>\n",
       "      <td>13.231133</td>\n",
       "      <td>10.828577</td>\n",
       "      <td>6.994543</td>\n",
       "      <td>3.144654</td>\n",
       "      <td>4.437923</td>\n",
       "      <td>...</td>\n",
       "      <td>9.792477</td>\n",
       "      <td>15.552499</td>\n",
       "      <td>10.729059</td>\n",
       "      <td>3.720349</td>\n",
       "      <td>3.498055</td>\n",
       "      <td>16.945821</td>\n",
       "      <td>3.442621</td>\n",
       "      <td>11.643407</td>\n",
       "      <td>11.930364</td>\n",
       "      <td>7.952944</td>\n",
       "    </tr>\n",
       "    <tr>\n",
       "      <th>2</th>\n",
       "      <td>2</td>\n",
       "      <td>27.942865</td>\n",
       "      <td>17.719800</td>\n",
       "      <td>4.096805</td>\n",
       "      <td>9.632699</td>\n",
       "      <td>8.752833</td>\n",
       "      <td>0.996471</td>\n",
       "      <td>18.520389</td>\n",
       "      <td>9.946604</td>\n",
       "      <td>0.286389</td>\n",
       "      <td>...</td>\n",
       "      <td>15.716583</td>\n",
       "      <td>6.369319</td>\n",
       "      <td>14.329604</td>\n",
       "      <td>3.949873</td>\n",
       "      <td>3.022930</td>\n",
       "      <td>9.382776</td>\n",
       "      <td>3.007969</td>\n",
       "      <td>0.493382</td>\n",
       "      <td>7.904870</td>\n",
       "      <td>2.361931</td>\n",
       "    </tr>\n",
       "    <tr>\n",
       "      <th>3</th>\n",
       "      <td>3</td>\n",
       "      <td>37.916502</td>\n",
       "      <td>12.827730</td>\n",
       "      <td>17.292877</td>\n",
       "      <td>17.189380</td>\n",
       "      <td>19.266002</td>\n",
       "      <td>5.900193</td>\n",
       "      <td>17.243637</td>\n",
       "      <td>16.165109</td>\n",
       "      <td>17.559103</td>\n",
       "      <td>...</td>\n",
       "      <td>8.804272</td>\n",
       "      <td>14.345036</td>\n",
       "      <td>6.755937</td>\n",
       "      <td>2.243277</td>\n",
       "      <td>19.738192</td>\n",
       "      <td>6.274548</td>\n",
       "      <td>11.871068</td>\n",
       "      <td>4.570377</td>\n",
       "      <td>14.883824</td>\n",
       "      <td>17.208646</td>\n",
       "    </tr>\n",
       "    <tr>\n",
       "      <th>4</th>\n",
       "      <td>4</td>\n",
       "      <td>40.822158</td>\n",
       "      <td>15.168730</td>\n",
       "      <td>16.595694</td>\n",
       "      <td>13.746132</td>\n",
       "      <td>15.605120</td>\n",
       "      <td>16.460745</td>\n",
       "      <td>9.803837</td>\n",
       "      <td>9.927715</td>\n",
       "      <td>13.688629</td>\n",
       "      <td>...</td>\n",
       "      <td>6.642744</td>\n",
       "      <td>10.968169</td>\n",
       "      <td>10.077347</td>\n",
       "      <td>17.916607</td>\n",
       "      <td>2.575481</td>\n",
       "      <td>14.316499</td>\n",
       "      <td>15.016644</td>\n",
       "      <td>15.252759</td>\n",
       "      <td>17.615725</td>\n",
       "      <td>14.037254</td>\n",
       "    </tr>\n",
       "  </tbody>\n",
       "</table>\n",
       "<p>5 rows × 52 columns</p>\n",
       "</div>"
      ],
      "text/plain": [
       "   x          y     ruido1     ruido0     ruido2     ruido3     ruido4  \\\n",
       "0  0  28.899068  11.026853   6.960786   7.510047   2.349001   3.314578   \n",
       "1  1  40.102537  17.510957  14.287965   0.026491  13.231133  10.828577   \n",
       "2  2  27.942865  17.719800   4.096805   9.632699   8.752833   0.996471   \n",
       "3  3  37.916502  12.827730  17.292877  17.189380  19.266002   5.900193   \n",
       "4  4  40.822158  15.168730  16.595694  13.746132  15.605120  16.460745   \n",
       "\n",
       "      ruido5     ruido6     ruido7  ...    ruido40    ruido41    ruido42  \\\n",
       "0   7.115311  18.122441  17.399232  ...   9.332116   5.370724  16.495550   \n",
       "1   6.994543   3.144654   4.437923  ...   9.792477  15.552499  10.729059   \n",
       "2  18.520389   9.946604   0.286389  ...  15.716583   6.369319  14.329604   \n",
       "3  17.243637  16.165109  17.559103  ...   8.804272  14.345036   6.755937   \n",
       "4   9.803837   9.927715  13.688629  ...   6.642744  10.968169  10.077347   \n",
       "\n",
       "     ruido43    ruido44    ruido45    ruido46    ruido47    ruido48    ruido49  \n",
       "0   3.073920  13.764867  14.758684  11.205774  16.540462  13.891287   8.171831  \n",
       "1   3.720349   3.498055  16.945821   3.442621  11.643407  11.930364   7.952944  \n",
       "2   3.949873   3.022930   9.382776   3.007969   0.493382   7.904870   2.361931  \n",
       "3   2.243277  19.738192   6.274548  11.871068   4.570377  14.883824  17.208646  \n",
       "4  17.916607   2.575481  14.316499  15.016644  15.252759  17.615725  14.037254  \n",
       "\n",
       "[5 rows x 52 columns]"
      ]
     },
     "execution_count": 83,
     "metadata": {},
     "output_type": "execute_result"
    }
   ],
   "source": [
    "df_ruidoso.head()"
   ]
  },
  {
   "cell_type": "code",
   "execution_count": 84,
   "metadata": {},
   "outputs": [
    {
     "data": {
      "text/plain": [
       "<AxesSubplot:xlabel='x', ylabel='y'>"
      ]
     },
     "execution_count": 84,
     "metadata": {},
     "output_type": "execute_result"
    },
    {
     "data": {
      "image/png": "[encoded data removed]",
      "text/plain": [
       "<Figure size 432x288 with 1 Axes>"
      ]
     },
     "metadata": {
      "needs_background": "light"
     },
     "output_type": "display_data"
    }
   ],
   "source": [
    "sns.regplot(data=df, x='x', y='y')"
   ]
  },
  {
   "cell_type": "markdown",
   "metadata": {},
   "source": [
    "# Analisis con OLS sin extras"
   ]
  },
  {
   "cell_type": "code",
   "execution_count": 85,
   "metadata": {},
   "outputs": [],
   "source": [
    "from sklearn.model_selection import train_test_split\n",
    "from sklearn.linear_model import LinearRegression\n",
    "from sklearn.preprocessing import StandardScaler\n",
    "from sklearn.linear_model import RidgeCV\n",
    "from sklearn.linear_model import LassoCV"
   ]
  },
  {
   "cell_type": "code",
   "execution_count": 86,
   "metadata": {},
   "outputs": [],
   "source": [
    "if agregar:\n",
    "    X = df_ruidoso.drop(columns=['y'])\n",
    "    y = df_ruidoso['y']\n",
    "else:\n",
    "    X = df.drop(columns=['y'])\n",
    "    y = df['y']\n",
    "\n",
    "X_train, X_test, y_train, y_test = train_test_split(X, y)\n",
    "\n",
    "scaler = StandardScaler()\n",
    "X_train_std = scaler.fit_transform(X_train)\n",
    "X_test_std = scaler.transform(X_test)"
   ]
  },
  {
   "cell_type": "code",
   "execution_count": 87,
   "metadata": {},
   "outputs": [
    {
     "name": "stdout",
     "output_type": "stream",
     "text": [
      "[30.01891301  3.60952369 -2.12085326 -1.23105226 -2.94893284 -3.32001553\n",
      " -6.71405608  7.37091936  0.90789854  1.95628722 -0.42166926 -2.37214882\n",
      "  1.50222412 -4.84605864  2.88921615 -4.17644188 -2.65427988 -3.59032029\n",
      " -2.24899787 -5.2999616   5.76909874 -0.74162971 -8.02244572 -2.22603118\n",
      " -2.75212161  0.34919872  3.04713909  4.17451908  3.04299503  5.01995136\n",
      " -2.27057003  3.07820788 -0.71334213  3.52464341 -0.37278891  3.13458492\n",
      "  0.45154622 -3.21786353 -2.66143109 -1.15151832 -3.78384967 -1.01033244\n",
      "  1.11606391  0.42001371  2.15814958 -2.16791455 -3.32220888  3.93081455\n",
      "  3.05603534  1.26811315  1.23193284]\n",
      "102.13433605384445\n"
     ]
    }
   ],
   "source": [
    "model_OLS = LinearRegression(fit_intercept=True)\n",
    "\n",
    "model_OLS.fit(X_train_std, y_train)\n",
    "\n",
    "print(model_OLS.coef_)\n",
    "\n",
    "print(model_OLS.intercept_)"
   ]
  },
  {
   "cell_type": "markdown",
   "metadata": {},
   "source": [
    "# Ahora ridge"
   ]
  },
  {
   "cell_type": "code",
   "execution_count": 88,
   "metadata": {},
   "outputs": [
    {
     "name": "stdout",
     "output_type": "stream",
     "text": [
      "10.0\n",
      "[21.11315173  2.36312736 -1.77823881  1.76470928 -0.88325002 -1.84335346\n",
      " -2.95224413  6.84575106  1.23030701  1.42390702 -2.31747472 -1.85356088\n",
      "  1.94857952 -3.66130438  1.51978648 -2.57539831 -0.66707466 -2.8193076\n",
      " -2.37528617 -4.49832754  2.67882228  0.05154798 -4.29685477 -0.43764689\n",
      " -0.93792399  2.96142854  3.39913352  5.2640685   5.23143119  2.89753169\n",
      "  0.68061043  0.73925656 -2.29951943  0.88285371 -0.31521174  0.63165796\n",
      "  0.03353397 -2.11152224  1.60870854 -1.12498776 -1.77113114 -0.26479968\n",
      "  3.10045159  2.33932232  3.58964729 -0.84969841 -2.04175998  1.75852404\n",
      " -0.34047723  0.11794864 -0.43116485]\n",
      "102.13433605384445\n"
     ]
    }
   ],
   "source": [
    "model_ridge_cv = RidgeCV(alphas= [0.001, 0.01, 0.1, 0.3, 0.5, 1.0, 1.1, 1.15, 1.17, 1.18, 1.19, 1.2, 1.21, 1.22, 1.3, 1.4, 1.5, 10.0], \n",
    "                                   fit_intercept=True, cv=10)\n",
    "model_ridge_cv.fit(X_train_std, y_train)\n",
    "\n",
    "print(model_ridge_cv.alpha_)\n",
    "\n",
    "print(model_ridge_cv.coef_)\n",
    "\n",
    "print(model_ridge_cv.intercept_)"
   ]
  },
  {
   "cell_type": "markdown",
   "metadata": {},
   "source": [
    "# Lasso"
   ]
  },
  {
   "cell_type": "code",
   "execution_count": 89,
   "metadata": {},
   "outputs": [
    {
     "name": "stdout",
     "output_type": "stream",
     "text": [
      "1.22\n",
      "[43.65843749  0.         -0.         -0.          0.         -0.\n",
      " -0.34655868  0.         -0.          0.         -0.73859296  0.\n",
      " -0.         -0.          0.         -0.         -0.         -0.\n",
      " -0.         -0.15076417  0.         -0.23336858  0.         -0.\n",
      " -0.         -0.          0.          0.          0.          0.\n",
      "  0.          0.         -0.         -0.          0.09832575 -0.\n",
      " -0.         -0.          0.         -0.          0.         -0.\n",
      "  0.         -0.          0.          0.         -0.         -0.\n",
      " -0.         -0.         -0.        ]\n",
      "102.13433605384445\n"
     ]
    }
   ],
   "source": [
    "model_lasso_cv = LassoCV(alphas= [0.3, 0.5, 1.0, 1.1, 1.15, 1.17, 1.18, 1.19, 1.2, 1.21, 1.22, 1.3, 1.4, 1.5, 2, 3, 6, 10.0], \n",
    "                                   fit_intercept=True, cv=10)\n",
    "model_lasso_cv.fit(X_train_std, y_train)\n",
    "\n",
    "print(model_lasso_cv.alpha_)\n",
    "\n",
    "print(model_lasso_cv.coef_)\n",
    "\n",
    "print(model_lasso_cv.intercept_)"
   ]
  },
  {
   "cell_type": "code",
   "execution_count": 90,
   "metadata": {},
   "outputs": [
    {
     "name": "stdout",
     "output_type": "stream",
     "text": [
      "Modelo OLS:\n",
      "\n",
      "Score (R^2) en train del modelo es 1.0 y en test es 0.3445663688273801\n",
      "\n",
      "\n",
      "Modelo Ridge:\n",
      "\n",
      "Score (R^2) en train del modelo es 0.9717718652236654 y en test es 0.47985053143870926\n",
      "\n",
      "\n",
      "Modelo Lasso:\n",
      "\n",
      "Score (R^2) en train del modelo es 0.9906654745409497 y en test es 0.976045112461497\n",
      "\n",
      "\n"
     ]
    }
   ],
   "source": [
    "# Comparamos metricas en train y en test\n",
    "\n",
    "print ('Modelo OLS:\\n')\n",
    "print (f'Score (R^2) en train del modelo es {model_OLS.score(X_train_std, y_train)} y en test es {model_OLS.score(X_test_std, y_test)}')\n",
    "print ('\\n')\n",
    "\n",
    "print ('Modelo Ridge:\\n')\n",
    "print (f'Score (R^2) en train del modelo es {model_ridge_cv.score(X_train_std, y_train)} y en test es {model_ridge_cv.score(X_test_std, y_test)}')\n",
    "print ('\\n')\n",
    "\n",
    "print ('Modelo Lasso:\\n')\n",
    "print (f'Score (R^2) en train del modelo es {model_lasso_cv.score(X_train_std, y_train)} y en test es {model_lasso_cv.score(X_test_std, y_test)}')\n",
    "print ('\\n')"
   ]
  },
  {
   "cell_type": "code",
   "execution_count": 91,
   "metadata": {},
   "outputs": [
    {
     "name": "stdout",
     "output_type": "stream",
     "text": [
      "Modelo OLS:\n",
      "\n",
      "Score (MSE) en train del modelo es 3.691357342874192e-27 y en test es 1090.4640212291972\n",
      "\n",
      "\n",
      "Modelo Ridge:\n",
      "\n",
      "Score (MSE) en train del modelo es 58.115514285494214 y en test es 865.3878198358603\n",
      "\n",
      "\n",
      "Modelo Lasso:\n",
      "\n",
      "Score (MSE) en train del modelo es 19.21773266147727 y en test es 39.85444406719721\n",
      "\n",
      "\n"
     ]
    }
   ],
   "source": [
    "from sklearn.metrics import mean_squared_error\n",
    "\n",
    "metrica = mean_squared_error\n",
    "\n",
    "print ('Modelo OLS:\\n')\n",
    "print (f'Score (MSE) en train del modelo es {metrica(y_train, model_OLS.predict(X_train_std))} y en test es {metrica(y_test, model_OLS.predict(X_test_std))}')\n",
    "print ('\\n')\n",
    "\n",
    "print ('Modelo Ridge:\\n')\n",
    "print (f'Score (MSE) en train del modelo es {metrica(y_train, model_ridge_cv.predict(X_train_std))} y en test es {metrica(y_test, model_ridge_cv.predict(X_test_std))}')\n",
    "print ('\\n')\n",
    "\n",
    "print ('Modelo Lasso:\\n')\n",
    "print (f'Score (MSE) en train del modelo es {metrica(y_train, model_lasso_cv.predict(X_train_std))} y en test es {metrica(y_test, model_lasso_cv.predict(X_test_std))}')\n",
    "print ('\\n')"
   ]
  }
 ],
 "metadata": {
  "kernelspec": {
   "display_name": "Python 3.8.13 ('DH')",
   "language": "python",
   "name": "python3"
  },
  "language_info": {
   "codemirror_mode": {
    "name": "ipython",
    "version": 3
   },
   "file_extension": ".py",
   "mimetype": "text/x-python",
   "name": "python",
   "nbconvert_exporter": "python",
   "pygments_lexer": "ipython3",
   "version": "3.8.13"
  },
  "orig_nbformat": 4,
  "vscode": {
   "interpreter": {
    "hash": "93b1ad9c150e9c4fa5781c5a37e00b91f3d8cfbe17fc5b5e6277144ed0216a69"
   }
  }
 },
 "nbformat": 4,
 "nbformat_minor": 2
}
