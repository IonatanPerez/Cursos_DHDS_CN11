{
 "cells": [
  {
   "cell_type": "code",
   "execution_count": 1,
   "id": "4219491b-ef7f-4e4b-a899-f6246feb1fd5",
   "metadata": {},
   "outputs": [],
   "source": [
    "import random"
   ]
  },
  {
   "cell_type": "code",
   "execution_count": 44,
   "id": "5c14d7a7-00d5-4969-a8a9-21dddd790016",
   "metadata": {},
   "outputs": [
    {
     "data": {
      "text/plain": [
       "0.7341683748003461"
      ]
     },
     "execution_count": 44,
     "metadata": {},
     "output_type": "execute_result"
    }
   ],
   "source": [
    "random.seed('hola')\n",
    "random.random()"
   ]
  },
  {
   "cell_type": "code",
   "execution_count": 92,
   "id": "43ed2878-7788-40da-bab2-177e0372d95d",
   "metadata": {},
   "outputs": [
    {
     "name": "stdout",
     "output_type": "stream",
     "text": [
      "impar\n"
     ]
    }
   ],
   "source": [
    "# Como hacer una eleccion entre dos opciones por igual:\n",
    "\n",
    "opciones = ['par', 'impar']\n",
    "if random.random() < 0.1:\n",
    "    print (opciones[0])\n",
    "else:\n",
    "    print (opciones[1])"
   ]
  },
  {
   "cell_type": "code",
   "execution_count": 55,
   "id": "65eea257-0049-44d8-9a96-0885ac3da651",
   "metadata": {},
   "outputs": [],
   "source": [
    "import numpy as np\n",
    "import seaborn as sns"
   ]
  },
  {
   "cell_type": "code",
   "execution_count": 94,
   "id": "6900c3ce-699f-4dc7-b15e-d0762c7eb7cc",
   "metadata": {},
   "outputs": [
    {
     "data": {
      "text/plain": [
       "4"
      ]
     },
     "execution_count": 94,
     "metadata": {},
     "output_type": "execute_result"
    }
   ],
   "source": [
    "# Vamos a repetir el problema de pedirle a 4 personas que digan si su DNI es par o impar.\n",
    "\n",
    "def contar_n_muestras(tamano_muestra, opciones = [\"par\",\"impar\"], buscado = \"par\"):\n",
    "    resultado = np.random.choice(opciones,tamano_muestra)\n",
    "    coincidencias = resultado == buscado\n",
    "    return coincidencias.sum()\n",
    "\n",
    "contar_n_muestras(4)\n"
   ]
  },
  {
   "cell_type": "code",
   "execution_count": 99,
   "id": "06d3be63-e9e0-415f-86ea-d9ebe50201ce",
   "metadata": {},
   "outputs": [
    {
     "data": {
      "text/plain": [
       "[2, 1, 3, 1, 2, 1, 2, 3, 3, 3]"
      ]
     },
     "execution_count": 99,
     "metadata": {},
     "output_type": "execute_result"
    }
   ],
   "source": [
    "# Vamos a repetir el problema X veces tomando la paridad de N elementos\n",
    "\n",
    "def hacer_n_experinmentos(tamano_muestra, nro_experimentos, opciones = [\"par\",\"impar\"], buscado = \"par\"):\n",
    "    resultado = []\n",
    "    for i in range(nro_experimentos):\n",
    "        experimento = contar_n_muestras(tamano_muestra, opciones = opciones, buscado = buscado)\n",
    "        resultado.append(experimento)\n",
    "    return resultado\n",
    "\n",
    "hacer_n_experinmentos(4,10)"
   ]
  },
  {
   "cell_type": "code",
   "execution_count": 114,
   "id": "ec4a6a43-45dd-46ba-be06-12fa4d975ed3",
   "metadata": {},
   "outputs": [
    {
     "name": "stderr",
     "output_type": "stream",
     "text": [
      "C:\\Users\\Ionatan\\anaconda3\\lib\\site-packages\\seaborn\\_decorators.py:36: FutureWarning: Pass the following variables as keyword args: x, y. From version 0.12, the only valid positional argument will be `data`, and passing other arguments without an explicit keyword will result in an error or misinterpretation.\n",
      "  warnings.warn(\n"
     ]
    },
    {
     "data": {
      "text/plain": [
       "<AxesSubplot:>"
      ]
     },
     "execution_count": 114,
     "metadata": {},
     "output_type": "execute_result"
    },
    {
     "data": {
      "image/png": "[encoded data removed]",
      "text/plain": [
       "<Figure size 432x288 with 1 Axes>"
      ]
     },
     "metadata": {
      "needs_background": "light"
     },
     "output_type": "display_data"
    }
   ],
   "source": [
    "# Ahora queremos ver como queda eso graficado\n",
    "\n",
    "nro_muestras = 30\n",
    "nro_experimentos = 100000\n",
    "exp = hacer_n_experinmentos(nro_muestras,nro_experimentos)\n",
    "unique, counts = np.unique(exp, return_counts=True)\n",
    "sns.barplot(unique, counts/counts.sum())"
   ]
  },
  {
   "cell_type": "code",
   "execution_count": 115,
   "id": "82aa7a03-96f4-40c6-b39f-2b0f88dba11c",
   "metadata": {},
   "outputs": [],
   "source": [
    "largos = [14.8, 13.8, 14.8, 14.8, 13.9, 15.1, 14.1, 14.2, 17.2, 14.6, 14.4, 13.9, 13.8, 14.4, 14.3, 17.3, 16.4, 13.2, 12.7, 15, 14.1, 16.3, 14.6, 13.7, 14.8, 15.5, 14.6, 14.5, 14.6]"
   ]
  },
  {
   "cell_type": "code",
   "execution_count": 116,
   "id": "a99fb5ca-9c3b-4e0c-8ac0-73d3c2eeb10d",
   "metadata": {},
   "outputs": [
    {
     "data": {
      "text/plain": [
       "29"
      ]
     },
     "execution_count": 116,
     "metadata": {},
     "output_type": "execute_result"
    }
   ],
   "source": [
    "len(largos)"
   ]
  },
  {
   "cell_type": "code",
   "execution_count": 117,
   "id": "8e448a76-a1ad-4494-97e1-e43b1158e8a7",
   "metadata": {},
   "outputs": [
    {
     "data": {
      "text/plain": [
       "14.668965517241382"
      ]
     },
     "execution_count": 117,
     "metadata": {},
     "output_type": "execute_result"
    }
   ],
   "source": [
    "np.mean(largos)"
   ]
  },
  {
   "cell_type": "code",
   "execution_count": 119,
   "id": "a0073ca9-a319-4efd-a098-81dfa87715b0",
   "metadata": {},
   "outputs": [
    {
     "name": "stdout",
     "output_type": "stream",
     "text": [
      "[14.8 13.8 14.8 14.8 13.9 15.1 14.1 14.2 17.2 14.6 14.4 13.9 13.8 14.4\n",
      " 14.3 17.3 16.4 13.2 12.7 15.  14.1 16.3 14.6 13.7 14.8 15.5 14.6 14.5\n",
      " 14.6]\n"
     ]
    },
    {
     "name": "stderr",
     "output_type": "stream",
     "text": [
      "C:\\Users\\Ionatan\\anaconda3\\lib\\site-packages\\seaborn\\_decorators.py:36: FutureWarning: Pass the following variables as keyword args: x, y. From version 0.12, the only valid positional argument will be `data`, and passing other arguments without an explicit keyword will result in an error or misinterpretation.\n",
      "  warnings.warn(\n"
     ]
    },
    {
     "data": {
      "text/plain": [
       "<AxesSubplot:>"
      ]
     },
     "execution_count": 119,
     "metadata": {},
     "output_type": "execute_result"
    },
    {
     "data": {
      "image/png": "[encoded data removed]",
      "text/plain": [
       "<Figure size 432x288 with 1 Axes>"
      ]
     },
     "metadata": {
      "needs_background": "light"
     },
     "output_type": "display_data"
    }
   ],
   "source": [
    "data = np.array(largos)\n",
    "print (data)\n",
    "unique, counts = np.unique(data, return_counts=True)\n",
    "sns.barplot(unique, counts/counts.sum())"
   ]
  },
  {
   "cell_type": "code",
   "execution_count": 122,
   "id": "6461edac-1098-47e4-88a4-f35dbb0ca3a3",
   "metadata": {},
   "outputs": [
    {
     "name": "stdout",
     "output_type": "stream",
     "text": [
      "[12.7 13.2 13.7 13.8 13.8 13.9 13.9 14.1 14.1 14.2 14.3 14.4 14.4 14.5\n",
      " 14.6 14.6 14.6 14.6 14.8 14.8 14.8 14.8 15.  15.1 15.5 16.3 16.4 17.2\n",
      " 17.3]\n",
      "[ 0  1  2  3  4  5  6  7  8  9 10 11 12 13 14 15 16 17 18 19 20 21 22 23\n",
      " 24 25 26 27 28]\n"
     ]
    },
    {
     "name": "stderr",
     "output_type": "stream",
     "text": [
      "C:\\Users\\Ionatan\\anaconda3\\lib\\site-packages\\seaborn\\_decorators.py:36: FutureWarning: Pass the following variables as keyword args: x, y. From version 0.12, the only valid positional argument will be `data`, and passing other arguments without an explicit keyword will result in an error or misinterpretation.\n",
      "  warnings.warn(\n"
     ]
    },
    {
     "data": {
      "image/png": "[encoded data removed]",
      "text/plain": [
       "<Figure size 432x288 with 1 Axes>"
      ]
     },
     "metadata": {
      "needs_background": "light"
     },
     "output_type": "display_data"
    }
   ],
   "source": [
    "data.sort()\n",
    "print(data)\n",
    "x = np.arange(len(data))\n",
    "print (x)\n",
    "grafico = sns.scatterplot(x,data)"
   ]
  },
  {
   "cell_type": "code",
   "execution_count": 133,
   "id": "6051ff9c-a4d8-40ec-a400-8252ffb92e0d",
   "metadata": {},
   "outputs": [
    {
     "name": "stdout",
     "output_type": "stream",
     "text": [
      "La probabilidad de que el valor este entre 0 y 100 es 100.0%\n"
     ]
    },
    {
     "name": "stderr",
     "output_type": "stream",
     "text": [
      "C:\\Users\\Ionatan\\anaconda3\\lib\\site-packages\\seaborn\\_decorators.py:36: FutureWarning: Pass the following variables as keyword args: x, y. From version 0.12, the only valid positional argument will be `data`, and passing other arguments without an explicit keyword will result in an error or misinterpretation.\n",
      "  warnings.warn(\n"
     ]
    },
    {
     "data": {
      "text/plain": [
       "<matplotlib.lines.Line2D at 0x206f0e6a160>"
      ]
     },
     "execution_count": 133,
     "metadata": {},
     "output_type": "execute_result"
    },
    {
     "data": {
      "image/png": "[encoded data removed]",
      "text/plain": [
       "<Figure size 432x288 with 1 Axes>"
      ]
     },
     "metadata": {
      "needs_background": "light"
     },
     "output_type": "display_data"
    }
   ],
   "source": [
    "# Cual es la probabilidad de que un lapiz mida entre 14 y 15 cm\n",
    "\n",
    "cota_sup = 100\n",
    "cota_inf = 0\n",
    "\n",
    "condicion = (cota_inf < data) & (data <= cota_sup)\n",
    "# La probabilidad son los caso favorables sobre los totales\n",
    "print (f'La probabilidad de que el valor este entre {cota_inf} y {cota_sup} es {condicion.sum()/len(condicion)*100}%')\n",
    "grafico = sns.scatterplot(x,data)\n",
    "grafico.axhline(cota_sup)\n",
    "grafico.axhline(cota_inf)"
   ]
  },
  {
   "cell_type": "code",
   "execution_count": 134,
   "id": "981aff9f-77ba-41e6-99f8-ea8ff750ca70",
   "metadata": {},
   "outputs": [
    {
     "name": "stderr",
     "output_type": "stream",
     "text": [
      "C:\\Users\\Ionatan\\anaconda3\\lib\\site-packages\\seaborn\\_decorators.py:36: FutureWarning: Pass the following variables as keyword args: x, y. From version 0.12, the only valid positional argument will be `data`, and passing other arguments without an explicit keyword will result in an error or misinterpretation.\n",
      "  warnings.warn(\n"
     ]
    },
    {
     "data": {
      "image/png": "[encoded data removed]",
      "text/plain": [
       "<Figure size 432x288 with 1 Axes>"
      ]
     },
     "metadata": {
      "needs_background": "light"
     },
     "output_type": "display_data"
    }
   ],
   "source": [
    "# Vamos a contruir la probabilidad acumulada\n",
    "paso = 0.1\n",
    "\n",
    "probabilidad_acumulada = []\n",
    "limite_inf = data.min()-paso\n",
    "\n",
    "for deslizador in np.arange(data.min()-paso,data.max()+paso,paso):\n",
    "    condicion = (limite_inf < data) & (data <= deslizador)\n",
    "    probabilidad_acumulada.append(condicion.sum()/len(condicion))\n",
    "    \n",
    "grafico = sns.lineplot(np.arange(data.min()-paso,data.max()+paso,paso),probabilidad_acumulada)"
   ]
  },
  {
   "cell_type": "code",
   "execution_count": 138,
   "id": "61c83390-91cb-4249-a0e7-c2b4bc4fa743",
   "metadata": {},
   "outputs": [
    {
     "name": "stderr",
     "output_type": "stream",
     "text": [
      "C:\\Users\\Ionatan\\anaconda3\\lib\\site-packages\\seaborn\\_decorators.py:36: FutureWarning: Pass the following variables as keyword args: x, y. From version 0.12, the only valid positional argument will be `data`, and passing other arguments without an explicit keyword will result in an error or misinterpretation.\n",
      "  warnings.warn(\n"
     ]
    },
    {
     "data": {
      "image/png": "[encoded data removed]",
      "text/plain": [
       "<Figure size 432x288 with 1 Axes>"
      ]
     },
     "metadata": {
      "needs_background": "light"
     },
     "output_type": "display_data"
    }
   ],
   "source": [
    "# Vamos a construir la densidad de probabilidad\n",
    "paso = 1\n",
    "\n",
    "densidad_probabilidad = []\n",
    "for deslizador in np.arange(data.min()-paso,data.max()+paso,paso):\n",
    "    condicion = (deslizador - paso/2 < data) & (data <= deslizador + paso/2)\n",
    "    densidad_probabilidad.append(condicion.sum()/len(condicion)) \n",
    "    \n",
    "grafico = sns.barplot(np.arange(data.min()-paso,data.max()+paso,paso),densidad_probabilidad)"
   ]
  }
 ],
 "metadata": {
  "kernelspec": {
   "display_name": "Python 3 (ipykernel)",
   "language": "python",
   "name": "python3"
  },
  "language_info": {
   "codemirror_mode": {
    "name": "ipython",
    "version": 3
   },
   "file_extension": ".py",
   "mimetype": "text/x-python",
   "name": "python",
   "nbconvert_exporter": "python",
   "pygments_lexer": "ipython3",
   "version": "3.9.12"
  }
 },
 "nbformat": 4,
 "nbformat_minor": 5
}
