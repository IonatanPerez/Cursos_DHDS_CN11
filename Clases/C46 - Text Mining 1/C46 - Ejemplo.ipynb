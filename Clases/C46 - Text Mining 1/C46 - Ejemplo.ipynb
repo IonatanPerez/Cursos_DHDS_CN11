{
 "cells": [
  {
   "cell_type": "code",
   "execution_count": 24,
   "metadata": {},
   "outputs": [],
   "source": [
    "import requests\n",
    "from bs4 import BeautifulSoup\n",
    "import pandas as pd"
   ]
  },
  {
   "cell_type": "code",
   "execution_count": 22,
   "metadata": {},
   "outputs": [],
   "source": [
    "urls = ['https://www.eldiarioar.com/politica/33-asistentes-mesa-nacional-frente_1_9960969.html',\n",
    "        'https://www.eldiarioar.com/politica/sorpresa-maximo-kirchner-sumo-mesa-nacional-frente_1_9960938.html',\n",
    "        'https://www.eldiarioar.com/politica/intelecutuales-piden-alberto-fernandez-conceda-ciudadania-deportados-ortega-nicaragua_1_9960893.html',\n",
    "        'https://www.eldiarioar.com/politica/lanza-larreta-no-descartan-desdoblamiento-elecciones-ciudad_1_9960581.html',\n",
    "        'https://www.eldiarioar.com/politica/corte-suprema-rechazo-tomarle-juramento-senador-martin-donate_1_9960656.html',\n",
    "        'https://www.eldiarioar.com/blog/un-trabajo-extraordinario-historias-e-ideas-sobre-maternidad-y-paternidad-en-argentina/son-madre-e-hija-hablan-experiencia-performance_132_9847885.html',\n",
    "        'https://www.eldiarioar.com/blog/un-trabajo-extraordinario-historias-e-ideas-sobre-maternidad-y-paternidad-en-argentina/mama-activista-vih-cumpleanos-hijos-les-globos-preservativos_132_9759798.html',\n",
    "        'https://www.eldiarioar.com/blog/un-trabajo-extraordinario-historias-e-ideas-sobre-maternidad-y-paternidad-en-argentina/maga-actriz-universidad-bebe-prefiero-hacerlo-no-hacerlo_132_9684863.html',\n",
    "        'https://www.eldiarioar.com/blog/un-trabajo-extraordinario-historias-e-ideas-sobre-maternidad-y-paternidad-en-argentina/papa-adolescente-novia-trabaja-dia-retomo-secundario-noche-necesito-tiempo_132_9644994.html',\n",
    "        'https://www.eldiarioar.com/blog/un-trabajo-extraordinario-historias-e-ideas-sobre-maternidad-y-paternidad-en-argentina/saquen-algoritmos-crianzas_132_9607246.html']\n",
    "        "
   ]
  },
  {
   "cell_type": "code",
   "execution_count": 23,
   "metadata": {},
   "outputs": [
    {
     "data": {
      "text/plain": [
       "'https://www.eldiarioar.com/politica/33-asistentes-mesa-nacional-frente_1_9960969.html'"
      ]
     },
     "execution_count": 23,
     "metadata": {},
     "output_type": "execute_result"
    }
   ],
   "source": [
    "urls[0]"
   ]
  },
  {
   "cell_type": "code",
   "execution_count": 27,
   "metadata": {},
   "outputs": [],
   "source": [
    "r = requests.get(urls[0])"
   ]
  },
  {
   "cell_type": "code",
   "execution_count": 28,
   "metadata": {},
   "outputs": [],
   "source": [
    "soup = BeautifulSoup(r.content, 'html.parser')"
   ]
  },
  {
   "cell_type": "code",
   "execution_count": 31,
   "metadata": {},
   "outputs": [],
   "source": [
    "#print (soup.prettify())"
   ]
  },
  {
   "cell_type": "code",
   "execution_count": 33,
   "metadata": {},
   "outputs": [
    {
     "data": {
      "text/plain": [
       "'\\nTodos los sectores que integran el Frente de Todos se dan cita esta noche en la sede del Partido Justicialista nacional, para participar por primera vez de la\\xa0mesa nacional del espacio, a fin de empezar a escribir las reglas electorales.\\n'"
      ]
     },
     "execution_count": 33,
     "metadata": {},
     "output_type": "execute_result"
    }
   ],
   "source": [
    "#print (soup.prettify())\n",
    "soup.find('p', class_='article-text').text"
   ]
  },
  {
   "cell_type": "code",
   "execution_count": 34,
   "metadata": {},
   "outputs": [],
   "source": [
    "noticias = {}\n",
    "for url in urls:\n",
    "    r = requests.get(url)\n",
    "    soup = BeautifulSoup(r.content, 'html.parser')\n",
    "    parrafos = soup.find_all('p', class_='article-text')\n",
    "    texto = ''\n",
    "    for parrafo in parrafos:\n",
    "        texto = texto + parrafo.text\n",
    "    noticias[url] = texto"
   ]
  },
  {
   "cell_type": "code",
   "execution_count": 39,
   "metadata": {},
   "outputs": [
    {
     "data": {
      "text/plain": [
       "'\\nTodos los sectores que integran el Frente de Todos se dan cita esta noche en la sede del Partido Justicialista nacional, para participar por primera vez de la\\xa0mesa nacional del espacio, a fin de empezar a escribir las reglas electorales.\\n\\n        Con representantes de\\xa0Alberto Fernández, Cristina Kirchner y Sergio Massa,\\xa0además de la CGT, la CTA y los movimientos sociales, comienza a rodar la mesa electoral del oficialismo en la sede de Matheu 130.\\n    \\n“En la otra cuadra vi carteles de Alberto Presidente, Massa, (Daniel) Scioli también puede ser. Una vez que encontremos candidato y se empiece a discutir, el peronismo va a ser indestructible”,\\xa0resaltó\\xa0Pablo Moyano\\xa0al ingresar al encuentro.\\n    \\n        Y enfatizó: “Vamos a recorrer y caminar el país para ganar. Más allá de la pandemia, de la guerra, el peronismo sigue siendo competitivo y con los candidatos que surjan de las PASO vamos a ir a las elecciones”.\\n    \\n        Alberto Fernández\\n    \\n        Eduardo “Wado” de Pedro\\n    \\n        Sergio Massa\\n    \\n        Agustín Rossi\\n    \\n        Juan Manuel Olmos\\n    \\n        Santiago Cafiero\\n    \\n        Victoria Tolosa Paz\\n    \\n        Chino Navarro\\n    \\n        Julio Vitobello\\n    \\n        Máximo Kirchner\\n    \\n        Andrés Larroque\\n    \\n        Anabel Fernández Sagasti\\n    \\n        Malena Galmarini\\n    \\n        Cecilia Moreau\\n    \\n        Diego Giuliano\\n    \\n        Rubén Eslaiman\\n    \\n        Juan Andreotti\\n    \\n        Axel Kicillof (Buenos Aires)\\n    \\n        Gerardo Zamora (Santiago del Estero)\\n    \\n        Gustavo Bordet (Entre Ríos)\\n    \\n        Jorge Capitanich (Chaco)\\n    \\n        Mariano Arcioni (Chubut)\\n    \\n        Mario Secco\\n    \\n        Fernando Espinoza\\n    \\n        Mayra Mendoza\\n    \\n        Alberto Descalzo\\n    \\n        Mariel Fernández\\n    \\n        Lucas Ghi\\n    \\n        Héctor Daer\\n    \\n        Pablo Moyano\\n    \\n        Hugo Yasky\\n    \\n        Sergio Palazzo\\n    \\n        Abel Furlán\\n    \\n        DA\\n    '"
      ]
     },
     "execution_count": 39,
     "metadata": {},
     "output_type": "execute_result"
    }
   ],
   "source": [
    "noticias[list(noticias.keys())[0]]"
   ]
  },
  {
   "cell_type": "code",
   "execution_count": 40,
   "metadata": {},
   "outputs": [],
   "source": [
    "textos = pd.DataFrame([])\n",
    "textos['url'] = noticias.keys()\n",
    "textos['texto'] = textos['url'].apply(lambda x: noticias[x])\n",
    "textos['Categoria'] = ['Politica','Politica','Politica','Politica','Politica','Sociedad','Sociedad','Sociedad','Sociedad','Sociedad']"
   ]
  },
  {
   "cell_type": "code",
   "execution_count": 41,
   "metadata": {},
   "outputs": [
    {
     "data": {
      "text/html": [
       "<div>\n",
       "<style scoped>\n",
       "    .dataframe tbody tr th:only-of-type {\n",
       "        vertical-align: middle;\n",
       "    }\n",
       "\n",
       "    .dataframe tbody tr th {\n",
       "        vertical-align: top;\n",
       "    }\n",
       "\n",
       "    .dataframe thead th {\n",
       "        text-align: right;\n",
       "    }\n",
       "</style>\n",
       "<table border=\"1\" class=\"dataframe\">\n",
       "  <thead>\n",
       "    <tr style=\"text-align: right;\">\n",
       "      <th></th>\n",
       "      <th>url</th>\n",
       "      <th>texto</th>\n",
       "      <th>Categoria</th>\n",
       "    </tr>\n",
       "  </thead>\n",
       "  <tbody>\n",
       "    <tr>\n",
       "      <th>0</th>\n",
       "      <td>https://www.eldiarioar.com/politica/33-asisten...</td>\n",
       "      <td>\\nTodos los sectores que integran el Frente de...</td>\n",
       "      <td>Politica</td>\n",
       "    </tr>\n",
       "    <tr>\n",
       "      <th>1</th>\n",
       "      <td>https://www.eldiarioar.com/politica/sorpresa-m...</td>\n",
       "      <td>\\n        El diputado nacional y presidente de...</td>\n",
       "      <td>Politica</td>\n",
       "    </tr>\n",
       "    <tr>\n",
       "      <th>2</th>\n",
       "      <td>https://www.eldiarioar.com/politica/intelecutu...</td>\n",
       "      <td>\\n        Intelectuales agrupados en el espaci...</td>\n",
       "      <td>Politica</td>\n",
       "    </tr>\n",
       "    <tr>\n",
       "      <th>3</th>\n",
       "      <td>https://www.eldiarioar.com/politica/lanza-larr...</td>\n",
       "      <td>\\n        Funcionarios del gobierno porteño co...</td>\n",
       "      <td>Politica</td>\n",
       "    </tr>\n",
       "    <tr>\n",
       "      <th>4</th>\n",
       "      <td>https://www.eldiarioar.com/politica/corte-supr...</td>\n",
       "      <td>\\n        La Corte Suprema denegó este jueves ...</td>\n",
       "      <td>Politica</td>\n",
       "    </tr>\n",
       "    <tr>\n",
       "      <th>5</th>\n",
       "      <td>https://www.eldiarioar.com/blog/un-trabajo-ext...</td>\n",
       "      <td>\\n        Una madre y una hija se paran en un ...</td>\n",
       "      <td>Sociedad</td>\n",
       "    </tr>\n",
       "    <tr>\n",
       "      <th>6</th>\n",
       "      <td>https://www.eldiarioar.com/blog/un-trabajo-ext...</td>\n",
       "      <td>\\n        Roxana tiene 45 años. Nació en el Ch...</td>\n",
       "      <td>Sociedad</td>\n",
       "    </tr>\n",
       "    <tr>\n",
       "      <th>7</th>\n",
       "      <td>https://www.eldiarioar.com/blog/un-trabajo-ext...</td>\n",
       "      <td>\\n        La imagen tiene la suficiente potenc...</td>\n",
       "      <td>Sociedad</td>\n",
       "    </tr>\n",
       "    <tr>\n",
       "      <th>8</th>\n",
       "      <td>https://www.eldiarioar.com/blog/un-trabajo-ext...</td>\n",
       "      <td>\\n        Sábado a la mañana, una dietética de...</td>\n",
       "      <td>Sociedad</td>\n",
       "    </tr>\n",
       "    <tr>\n",
       "      <th>9</th>\n",
       "      <td>https://www.eldiarioar.com/blog/un-trabajo-ext...</td>\n",
       "      <td>\\n        Cuando nació mi hijo mayor no sabía ...</td>\n",
       "      <td>Sociedad</td>\n",
       "    </tr>\n",
       "  </tbody>\n",
       "</table>\n",
       "</div>"
      ],
      "text/plain": [
       "                                                 url  \\\n",
       "0  https://www.eldiarioar.com/politica/33-asisten...   \n",
       "1  https://www.eldiarioar.com/politica/sorpresa-m...   \n",
       "2  https://www.eldiarioar.com/politica/intelecutu...   \n",
       "3  https://www.eldiarioar.com/politica/lanza-larr...   \n",
       "4  https://www.eldiarioar.com/politica/corte-supr...   \n",
       "5  https://www.eldiarioar.com/blog/un-trabajo-ext...   \n",
       "6  https://www.eldiarioar.com/blog/un-trabajo-ext...   \n",
       "7  https://www.eldiarioar.com/blog/un-trabajo-ext...   \n",
       "8  https://www.eldiarioar.com/blog/un-trabajo-ext...   \n",
       "9  https://www.eldiarioar.com/blog/un-trabajo-ext...   \n",
       "\n",
       "                                               texto Categoria  \n",
       "0  \\nTodos los sectores que integran el Frente de...  Politica  \n",
       "1  \\n        El diputado nacional y presidente de...  Politica  \n",
       "2  \\n        Intelectuales agrupados en el espaci...  Politica  \n",
       "3  \\n        Funcionarios del gobierno porteño co...  Politica  \n",
       "4  \\n        La Corte Suprema denegó este jueves ...  Politica  \n",
       "5  \\n        Una madre y una hija se paran en un ...  Sociedad  \n",
       "6  \\n        Roxana tiene 45 años. Nació en el Ch...  Sociedad  \n",
       "7  \\n        La imagen tiene la suficiente potenc...  Sociedad  \n",
       "8  \\n        Sábado a la mañana, una dietética de...  Sociedad  \n",
       "9  \\n        Cuando nació mi hijo mayor no sabía ...  Sociedad  "
      ]
     },
     "execution_count": 41,
     "metadata": {},
     "output_type": "execute_result"
    }
   ],
   "source": [
    "textos"
   ]
  },
  {
   "cell_type": "code",
   "execution_count": 10,
   "metadata": {},
   "outputs": [],
   "source": [
    "import nltk\n",
    "from sklearn.feature_extraction.text import CountVectorizer\n",
    "from nltk.stem.snowball import SnowballStemmer\n",
    "from nltk.corpus import stopwords \n"
   ]
  },
  {
   "cell_type": "code",
   "execution_count": 42,
   "metadata": {},
   "outputs": [
    {
     "name": "stdout",
     "output_type": "stream",
     "text": [
      "Vocabulario:\n",
      " {'todos': 2841, 'sectores': 2596, 'integran': 1565, 'frente': 1312, 'dan': 778, 'cita': 495, 'noche': 1977, 'sede': 2599, 'partido': 2106, 'justicialista': 1645, 'nacional': 1942, 'para': 2089, 'participar': 2102, 'primera': 2319, 'vez': 2998, 'mesa': 1858, 'espacio': 1130, 'fin': 1287, 'empezar': 1042, 'escribir': 1119, 'reglas': 2465, 'electorales': 1021, 'representantes': 2492, 'alberto': 151, 'fernandez': 1273, 'cristina': 712, 'kirchner': 1652, 'sergio': 2635, 'massa': 1816, 'ademas': 110, 'cgt': 463, 'cta': 723, 'movimientos': 1910, 'sociales': 2687, 'comienza': 535, 'rodar': 2540, 'electoral': 1020, 'oficialismo': 2024, 'matheu': 1824, '130': 5, 'cuadra': 725, 'vi': 3000, 'carteles': 436, 'presidente': 2303, 'daniel': 780, 'scioli': 2592, 'puede': 2380, 'encontremos': 1061, 'candidato': 411, 'empiece': 1045, 'discutir': 950, 'peronismo': 2174, 'va': 2945, 'indestructible': 1519, 'resalto': 2495, 'pablo': 2068, 'moyano': 1911, 'ingresar': 1540, 'encuentro': 1063, 'enfatizo': 1069, 'vamos': 2953, 'recorrer': 2447, 'caminar': 403, 'pais': 2076, 'ganar': 1339, 'alla': 164, 'pandemia': 2083, 'guerra': 1387, 'sigue': 2654, 'siendo': 2646, 'competitivo': 551, 'candidatos': 412, 'surjan': 2752, 'paso': 2118, 'ir': 1604, 'elecciones': 1019, 'eduardo': 1005, 'wado': 3075, 'pedro': 2136, 'agustin': 142, 'rossi': 2549, 'juan': 1620, 'manuel': 1797, 'olmos': 2035, 'santiago': 2588, 'cafiero': 391, 'victoria': 3011, 'tolosa': 2843, 'paz': 2126, 'chino': 477, 'navarro': 1950, 'julio': 1634, 'vitobello': 3046, 'maximo': 1827, 'andres': 201, 'larroque': 1666, 'anabel': 196, 'sagasti': 2565, 'malena': 1768, 'galmarini': 1338, 'cecilia': 451, 'moreau': 1902, 'diego': 916, 'giuliano': 1358, 'ruben': 2551, 'eslaiman': 1129, 'andreotti': 200, 'axel': 315, 'kicillof': 1650, 'buenos': 369, 'aires': 145, 'gerardo': 1350, 'zamora': 3081, 'estero': 1173, 'gustavo': 1393, 'bordet': 356, 'rios': 2537, 'jorge': 1616, 'capitanich': 420, 'chaco': 466, 'mariano': 1809, 'arcioni': 251, 'chubut': 483, 'mario': 1812, 'secco': 2593, 'fernando': 1274, 'espinoza': 1151, 'mayra': 1832, 'mendoza': 1849, 'descalzo': 860, 'mariel': 1811, 'lucas': 1746, 'ghi': 1357, 'hector': 1430, 'daer': 777, 'hugo': 1472, 'yasky': 3078, 'palazzo': 2079, 'abel': 48, 'furlan': 1333, 'da': 774, 'diputado': 935, 'pj': 2207, 'bonaerense': 355, 'sorprendio': 2717, 'hoy': 1466, 'arribar': 261, 'aviso': 314, 'previo': 2314, 'reunion': 2523, 'bien': 344, 'habia': 1398, 'trascendido': 2880, 'tenia': 2794, 'previsto': 2315, 'asistir': 282, 'hora': 1459, 'empezaron': 1043, 'llegar': 1722, 'participantes': 2101, 'dio': 933, 'sorpresa': 2718, 'dia': 903, 'cumpleanos': 763, 'lider': 1696, 'campora': 409, 'arribo': 262, 'acompanado': 79, 'ministro': 1878, 'interior': 1579, 'sector': 2595, 'encabeza': 1049, 'vicepresidenta': 3009, 'mismo': 1892, 'momento': 1898, 'llegaron': 1723, 'calle': 394, 'gobernador': 1361, 'desarrollo': 859, 'comunidad': 563, 'cuervo': 746, 'desplazarse': 884, 'hasta': 1426, 'habian': 1399, 'mantenido': 1792, 'senado': 2614, 'nacion': 1941, 'delegacion': 826, 'representa': 2490, 'busca': 371, 'plantear': 2211, 'conclave': 566, 'proscripcion': 2359, 'judicial': 1621, 'cayo': 450, 'sobre': 2683, 'condena': 570, 'instancia': 1562, 'causa': 448, 'obra': 2008, 'publica': 2369, 'santa': 2587, 'cruz': 721, 'participaron': 2103, 'senadora': 2616, 'referentes': 2458, 'sindicales': 2665, 'intelectuales': 1566, 'agrupados': 138, 'discusion': 949, 'derechos': 847, 'humanos': 1474, 'democracia': 834, 'sociedad': 2688, 'solicitaron': 2696, 'conceda': 564, 'nacionalidad': 1943, 'argentina': 253, '317': 33, 'personas': 2184, 'arrojadas': 263, 'condicion': 571, 'apatridas': 230, 'regimen': 2464, 'ortega': 2063, 'nicaragua': 1967, 'decision': 804, 'gobierno': 1363, 'nicaraguense': 1968, 'solo': 2702, 'arbitraria': 249, 'sino': 2666, 'violatoria': 3034, 'principales': 2325, 'declaraciones': 807, 'convenciones': 656, 'internacionales': 1581, 'nuestro': 1995, 'signatario': 2651, 'cuales': 728, 'derecho': 846, 'propio': 2354, 'inalienable': 1506, 'individuo': 1522, 'sostiene': 2722, 'carta': 435, 'dirigida': 941, 'difundida': 926, 'jueves': 1625, 'declaracion': 806, 'universal': 2932, 'convencion': 655, 'americana': 185, '1969': 13, 'pacto': 2071, 'san': 2584, 'jose': 1617, 'costa': 686, 'rica': 2532, 'toda': 2837, 'persona': 2178, 'tiene': 2824, 'estado': 1166, 'cuyo': 773, 'territorio': 2814, 'nacio': 1940, 'recuerda': 2449, 'dias': 909, 'atras': 297, 'espana': 1132, 'ofrecio': 2028, '222': 29, 'presos': 2306, 'politicos': 2233, 'liberados': 1690, 'expulsados': 1240, 'febrero': 1260, 'trasladados': 2881, 'estados': 1167, 'unidos': 2928, 'segun': 2605, 'tribunal': 2898, 'apelaciones': 231, 'managua': 1777, 'resolucion': 2499, 'cometieron': 531, 'actos': 99, 'menoscaban': 1854, 'independencia': 1518, 'soberania': 2682, 'autodeterminacion': 306, 'pueblo': 2377, 'incitar': 1509, 'violencia': 3035, 'terrorismo': 2817, 'desestabilizacion': 876, 'economica': 1001, 'pero': 2172, 'lesionar': 1685, 'intereses': 1578, 'supremos': 2750, 'establecidos': 1161, 'ordenamiento': 2052, 'juridico': 1643, 'convenios': 657, 'tratados': 2886, 'alterando': 171, 'seguridad': 2609, 'orden': 2050, 'constitucional': 609, 'firmada': 1294, 'graciela': 1374, 'meijide': 1845, 'claudia': 503, 'hilb': 1448, 'hilda': 1449, 'sabato': 2555, 'patricia': 2123, 'tappata': 2763, 'valdez': 2947, 'alejandro': 156, 'katz': 1649, 'bufano': 370, 'martin': 1813, 'vezzetti': 2999, 'chababo': 464, 'pide': 2196, 'honrar': 1458, 'tradicion': 2863, 'suelo': 2733, 'comun': 560, 'nuestra': 1994, 'expresa': 1236, 'inclusion': 1511, 'deberes': 790, 'hombre': 1454, 'constitucion': 608, 'senor': 2619, 'obliga': 2005, 'incluir': 1510, 'politica': 2230, 'quienes': 2410, 'sido': 2644, 'brutalmente': 364, 'privados': 2329, 'cuentan': 741, 'figuras': 1281, 'relevantes': 2475, 'vida': 3012, 'algunas': 160, 'destacados': 890, 'combatientes': 520, 'contra': 646, 'dictadura': 915, 'somoza': 2706, 'dice': 910, 'situacion': 2678, 'exige': 1215, 'respuesta': 2505, 'urgente': 2936, 'pondria': 2235, 'vanguardia': 2955, 'cuidado': 754, 'asegura': 271, 'opositores': 2048, 'estaba': 1157, 'ex': 1206, 'precandidata': 2266, 'presidencial': 2301, 'cristiana': 711, 'chamorro': 467, 'hermano': 1437, 'exministro': 1220, 'joaquin': 1615, 'asi': 276, 'como': 537, 'pretendian': 2310, 'desafiar': 855, 'ultimos': 2921, 'comicios': 532, 'ambos': 183, 'hijos': 1447, 'exmandataria': 1219, 'violeta': 3036, '1990': 14, '1997': 15, 'funcionarios': 1327, 'porteno': 2244, 'contemplan': 632, 'lanzamiento': 1660, 'oficial': 2023, 'candidatura': 413, 'horacio': 1460, 'rodriguez': 2541, 'larreta': 1665, 'proximos': 2364, 'casi': 438, 'confirmado': 576, 'dijo': 931, 'fuente': 1315, 'eldiarioar': 1017, 'mientras': 1867, 'admitio': 115, 'sera': 2634, 'presentacion': 2292, 'simbolica': 2661, 'planes': 2208, 'jefe': 1614, 'descarta': 861, 'desdoblamiento': 868, 'ciudad': 496, 'fuentes': 1316, 'cercanas': 459, 'consideraron': 603, 'todo': 2840, 'jugada': 1627, 'ahora': 144, 'analisis': 197, 'politologa': 2234, 'investigadora': 1598, 'maria': 1807, 'matilde': 1825, 'ollier': 2034, 'solia': 2695, 'decir': 801, 'amba': 178, 'nacionalizada': 1944, 'caso': 439, 'marcada': 1803, 'insercion': 1553, 'capital': 419, 'gran': 1375, 'evitaria': 1205, 'ritmo': 2538, 'politico': 2232, 'provincia': 2362, 'tenga': 2792, 'tanta': 2760, 'influencia': 1532, 'resultados': 2515, 'simultaneo': 2664, 'ocurriera': 2021, 'sumaria': 2739, 'larga': 1662, 'lista': 1712, 'gobernadores': 1362, 'desdoblaron': 870, 'mejorar': 1847, 'chances': 468, 'unica': 2924, 'hubo': 1470, 'concurrentes': 569, '2019': 25, 'clara': 499, 'estrategia': 1176, 'mauricio': 1826, 'macri': 1754, 'sumar': 2738, 'votos': 3067, 'intento': 1573, 'reeleccion': 2457, 'embargo': 1034, 'escenario': 1114, 'especula': 1143, 'podrian': 2228, 'verse': 2995, 'frenados': 1310, 'portenos': 2245, 'javier': 1613, 'milei': 1870, 'eleccion': 1018, 'libertario': 1691, 'obligaria': 2006, 'economista': 1002, 'presentarse': 2296, 'personalmente': 2183, 'cargo': 430, 'llevar': 1731, 'tendria': 2786, 'mejores': 1848, 'quitarle': 2417, 'juntos': 1641, 'cambio': 402, 'jxc': 1646, 'efecto': 1010, 'arrastre': 258, 'otorgaria': 2066, 'varios': 2961, 'escanos': 1110, 'legislatura': 1678, 'beneficiaria': 341, 'lousteau': 1745, 'hecho': 1429, 'radical': 2421, 'tan': 2759, 'competitiva': 550, 'pro': 2330, 'favor': 1258, 'senador': 2615, 'candidatee': 410, 'boleta': 350, 'ucr': 2917, 'bajarian': 323, 'ampliaria': 194, 'posibilidades': 2249, 'beneficiado': 340, 'hace': 1412, 'pensar': 2150, 'tal': 2755, 'haya': 1427, 'acuerdo': 105, 'delegue': 827, 'bastion': 333, 'miembro': 1866, 'argumentos': 254, 'incentivos': 1508, 'tienen': 2825, 'resto': 2509, 'demas': 831, 'provincias': 2363, 'desdoblan': 869, 'gestiones': 1356, 'eventuales': 1199, 'relecciones': 2474, 'queden': 2403, 'atadas': 289, 'candidaturas': 414, 'presidenciales': 2302, 'puedan': 2379, 'menos': 1853, 'populares': 2242, 'territorios': 2815, 'linea': 1708, 'deberia': 791, 'esperarse': 1147, 'mandatario': 1782, 'unifique': 2929, 'busque': 381, 'usar': 2940, 'impulso': 1504, 'gestion': 1355, 'local': 1735, 'campana': 407, 'presidencia': 2300, 'votantes': 3066, 'irian': 1606, 'urnas': 2937, 'mucho': 1916, 'tres': 2897, 'veces': 2965, 'desdobladas': 867, 'numero': 2001, 'asciende': 270, 'seis': 2610, 'traduce': 2864, 'desgaste': 877, 'donde': 976, 'debera': 789, 'enfrentarse': 1075, 'tanto': 2761, 'rendir': 2480, 'cuentas': 742, 'explicar': 1230, 'poder': 2223, 'ejecutivo': 1012, 'cierre': 487, 'listas': 1713, '24': 30, 'junio': 1635, 'cuando': 734, 'acaba': 62, 'plazo': 2215, 'inscripcion': 1552, 'celebraran': 452, 'domingo': 974, '13': 4, 'agosto': 132, 'iran': 1605, 'general': 1343, '22': 28, 'octubre': 2017, 'viernes': 3020, 'haga': 1423, 'gabinete': 1335, 'ampliado': 192, 'ministros': 1879, 'subsecretarios': 2725, 'presidentes': 2304, 'comunas': 561, 'conversara': 662, 'ano': 209, 'recien': 2439, 'empieza': 1046, 'algunos': 161, 'esperan': 1145, 'previa': 2313, 'museo': 1932, 'sivori': 2681, 'palermo': 2080, 'manana': 1778, 'viajara': 3005, 'carnavales': 433, 'jujuy': 1633, 'tarde': 2765, 'gualeguaychu': 1385, 'ayer': 316, 'santilli': 2589, 'hizo': 1453, 'uso': 2942, 'virtualidad': 3039, 'hashtag': 1425, 'faltamenos': 1249, 'lanzarse': 1661, 'precandidato': 2267, 'junto': 1640, 'postulantes': 2256, 'duros': 998, 'amarillos': 176, 'pretende': 2309, 'pelear': 2140, 'sucesion': 2729, 'quiere': 2412, 'incorporar': 1514, 'espert': 1148, 'eventual': 1198, 'opositora': 2047, 'lc': 1672, 'corte': 681, 'suprema': 2749, 'denego': 836, 'tomarle': 2847, 'juramento': 1642, 'donate': 975, 'permitir': 2170, 'asuman': 284, 'mediante': 1834, 'acordada': 86, 'cuatro': 738, 'jueces': 1622, 'remitiendo': 2477, 'noviembre': 1991, 'pasado': 2112, 'invalido': 1593, 'asuncion': 286, 'legislador': 1677, 'luis': 1752, 'juez': 1626, 'dispuso': 954, 'incorpore': 1515, 'ines': 1523, 'pilatti': 2203, 'vergara': 2990, 'recalde': 2434, 'vischi': 3042, 'antecedente': 216, 'declaro': 809, 'inoponible': 1547, 'particion': 2099, 'bloque': 347, 'fines': 1291, 'conformacion': 580, 'consejo': 600, 'magistratura': 1762, 'cuanto': 736, 'dicha': 912, 'maniobra': 1788, 'mayoritario': 1830, 'pretendio': 2311, 'bloques': 348, 'escindidos': 1116, 'unidad': 2927, 'ciudadana': 497, 'desplazara': 883, 'segunda': 2606, 'minoria': 1880, 'violando': 3033, 'modo': 1894, 'pluralidad': 2217, 'representativa': 2493, 'consagrada': 597, 'ley': 1688, '937': 45, 'llego': 1724, 'traves': 2892, 'normas': 1985, 'funcionamiento': 1326, 'firma': 1293, 'rosatti': 2547, 'carlos': 432, 'rosenkrantz': 2548, 'ricardo': 2533, 'lorenzetti': 1744, 'maqueda': 1798, 'considero': 604, 'division': 964, 'referida': 2459, 'obedecio': 2003, 'genuinos': 1349, 'objetivo': 2004, 'fuerza': 1318, 'ocupar': 2019, 'lugar': 1749, 'corresponde': 676, 'dado': 776, 'grupo': 1383, 'senadores': 2617, 'conforman': 581, 'terminaria': 2807, 'ocupando': 2018, 'lugares': 1750, 'corresponden': 677, 'senalaron': 2618, 'cuestionados': 750, 'congreso': 585, 'tramite': 2870, 'juicio': 1631, 'informacion': 1534, 'telam': 2777, 'madre': 1755, 'hija': 1444, 'paran': 2092, 'ponen': 2236, 'escena': 1113, 'frondoso': 1314, 'intenso': 1571, 'parece': 2093, 'imposible': 1502, 'empaquetado': 1039, 'cincuenta': 490, 'minutos': 1882, 'relacion': 2468, 'veintipico': 2973, 'anos': 210, 'convertida': 663, 'guion': 1389, 'mismas': 1891, 'van': 2954, 'vienen': 3017, 'hablan': 1405, 'vinculos': 3029, 'suyo': 2753, 'tercera': 2801, 'ayudadas': 318, 'ambas': 179, 'sesgos': 2641, 'profesionales': 2340, 'sociologa': 2690, 'pionera': 2205, 'estudios': 1189, 'tiempo': 2823, 'mujeres': 1926, 'investiga': 1595, 'historicamente': 1452, 'cargaron': 429, 'tarea': 2766, 'fundamental': 1330, 'cualquier': 730, 'cuidar': 757, 'dependen': 842, 'supervivencia': 2745, 'actriz': 100, 'experiencia': 1224, 'poner': 2237, 'cuerpo': 744, 'indagar': 1517, 'familiares': 1252, 'narrarlos': 1947, 'dos': 979, 'revolucion': 2531, 'rico': 2534, 'postre': 2255, 'nueva': 1997, 'cruce': 720, 'documental': 970, 'periodismo': 2161, 'performance': 2158, 'propuesto': 2357, 'promovido': 2347, 'laboratorio': 1655, 'performatico': 2159, 'revista': 2530, 'anfibia': 205, 'casa': 437, 'sofia': 2691, 'desarrollado': 858, 'mentoria': 1855, 'dramaturga': 985, 'lorena': 1743, 'vega': 2968, 'escritor': 1120, 'periodista': 2162, 'cristian': 710, 'alarcon': 149, 'llegada': 1721, 'eleonor': 1027, 'faur': 1257, 'ana': 195, 'minujin': 1881, 'comenzo': 528, 'insistencia': 1554, 'mutua': 1933, 'convocatoria': 669, 'fundante': 1331, 'presentamos': 2293, 'juntas': 1639, 'entusiasmaron': 1099, 'presentaron': 2295, 'elegidas': 1024, 'aunque': 303, 'primer': 2318, 'idea': 1483, 'ver': 2984, 'documentar': 971, 'madres': 1756, 'hijas': 1445, 'premisa': 2278, 'ensenaran': 1084, 'mutuamente': 1934, 'pronto': 2349, 'pregunta': 2272, 'irrumpio': 1608, 'andamos': 199, 'literal': 1715, 'nuevo': 2000, 'disparador': 952, 'estructuro': 1182, 'narrativas': 1948, 'vidas': 3013, 'ajenas': 148, 'resultado': 2514, 'tuvo': 2914, 'estreno': 1180, 'agrega': 136, 'nuevas': 1999, 'fechas': 1262, 'emotiva': 1038, 'inteligente': 1567, 'dulce': 994, 'destellos': 892, 'verdad': 2987, 'artificio': 268, 'combinados': 524, 'producto': 2338, 'final': 1288, 'vuelve': 3070, 'momentos': 1899, 'personalisimo': 2181, 'generalisimo': 1344, 'cuenta': 740, 'maternidad': 1822, 'mudanza': 1919, 'bebe': 336, 'colombia': 516, 'separacion': 2632, 'padre': 2072, 'vivir': 3057, 'mudaba': 1918, 'york': 3080, 'deparo': 840, 'mayormente': 1831, 'solitaria': 2700, 'crianza': 705, 'red': 2453, 'consistente': 606, 'enfermedad': 1070, 'autoinmune': 308, 'propicio': 2352, 'diversas': 961, 'complicaciones': 554, 'presenta': 2291, 'aspectos': 283, 'conceptuales': 565, 'casuistica': 443, 'logra': 1739, 'lucidez': 1747, 'descubrir': 865, 'conoce': 590, 'porque': 2243, 'presencia': 2290, 'espesor': 1149, 'dramatico': 984, 'vislumbra': 3044, 'hablando': 1406, 'recorre': 2446, 'familiar': 1251, 'base': 331, 'reuniones': 2524, 'politicas': 2231, 'militaba': 1871, 'centro': 456, 'estudiantes': 1186, 'colegio': 514, 'secundario': 2598, 'propias': 2351, 'dudas': 990, 'miedos': 1865, 'respecto': 2502, 'tener': 2788, 'indagan': 1516, 'bisagra': 346, 'vinculo': 3028, 'novio': 1992, '17': 10, 'murio': 1931, 'accidente': 71, 'iba': 1479, 'estrenarse': 1179, 'marzo': 1814, '2020': 26, 'resignificacion': 2498, 'domestico': 973, 'vivian': 3051, 'distintos': 958, 'paises': 2077, 'lazos': 1671, 'probablemente': 2331, 'riesgo': 2535, 'repensar': 2484, 'hurgar': 1477, 'elementos': 1026, 'tallar': 2756, 'fresco': 1313, 'sentimental': 2626, 'epocal': 1103, 'resuena': 2512, 'cualquiera': 731, 'escuche': 1125, 'definitiva': 817, 'muchas': 1913, 'somos': 2705, 'podria': 2227, 'quedar': 2400, 'afuera': 130, 'ponerte': 2241, 'hablar': 1407, 'desde': 866, 'autobiografico': 305, 'despues': 888, 'decadas': 795, 'dedicarte': 813, 'tema': 2778, 'ef': 1008, 'proceso': 2337, 'larguisimo': 1664, 'estabamos': 1158, 'estrenar': 1178, 'version': 2996, 'muchisimo': 1915, 'expuestas': 1239, 'experiencias': 1225, 'falta': 1248, 'bastante': 332, 'cosas': 685, 'animarme': 207, 'solamente': 2693, 'teoria': 2799, 'mil': 1868, 'variantes': 2959, 'maternidades': 1823, 'tratamos': 2888, 'negar': 1959, 'trabajo': 2861, 'contextualizando': 643, 'contextualizacion': 642, 'facil': 1244, 'dificil': 922, 'exponer': 1234, 'hablo': 1410, 'amigas': 188, 'misma': 1890, 'conversacion': 658, 'siempre': 2645, 'punta': 2390, 'lengua': 1681, 'ponerlo': 2240, 'llevo': 1734, 'dar': 783, 'vos': 3065, 'fuiste': 1321, 'trataba': 2884, 'buscar': 379, 'intimidad': 1590, 'am': 173, 'empujaba': 1048, 'creo': 703, 'lenguaje': 1682, 'artistico': 269, 'poco': 2220, 'desnudeces': 880, 'entonces': 1090, 'simplemente': 2663, 'habilitar': 1401, 'exista': 1216, 'aparecia': 226, 'aparece': 224, 'siente': 2647, 'verdadero': 2989, 'funciona': 1323, 'revelacion': 2525, 'personal': 2179, 'intima': 1589, 'adornarlo': 121, 'linguisticamente': 1709, 'vaya': 2963, 'alejando': 154, 'posible': 2250, 'ahi': 143, 'tajante': 2754, 'tampoco': 2758, 'fijos': 1283, 'roles': 2543, 'cada': 387, 'largo': 1663, 'creacion': 691, 'videos': 3015, 'realidad': 2428, 'propuesta': 2356, 'podiamos': 2226, 'filmar': 1286, 'venia': 2978, 'parte': 2097, 'mama': 1771, 'dialogo': 907, 'permeable': 2165, 'aposto': 237, 'proyecto': 2365, 'pueden': 2381, 'darme': 785, 'ejemplo': 1013, 'alguna': 159, 'hayas': 1428, 'tenido': 2796, 'decirle': 802, 'caminata': 404, 'uruguay': 2938, 'durante': 997, 'residencia': 2497, 'autogestionada': 307, 'hicimos': 1443, 'conversando': 660, 'evidentes': 1203, 'evidente': 1202, 'nombra': 1981, 'conocimiento': 594, 'minimo': 1876, 'limitado': 1701, 'reflexion': 2461, 'siguio': 2658, 'bueno': 368, 'conozco': 596, 'monton': 1901, 'preguntas': 2273, 'tipo': 2832, 'sentis': 2630, 'original': 2062, 'potente': 2260, 'podemos': 2222, 'esquivar': 1156, 'aparecen': 225, 'ficcion': 1278, 'realizacion': 2429, 'totalmente': 2855, 'verdadera': 2988, 'segundo': 2607, 'volvio': 3063, 'relato': 2473, 'elemento': 1025, 'temerle': 2780, 'exposicion': 1235, 'claro': 500, 'escribi': 1118, 'notas': 1988, 'cuaderno': 724, 'pase': 2116, 'empece': 1040, 'cambiar': 400, 'mejor': 1846, 'formas': 1301, 'recuperar': 2452, 'archivos': 250, 'anteriores': 218, 'google': 1368, 'drive': 987, 'texto': 2821, 'mantuviera': 1795, 'insisti': 1555, 'aflojarlo': 129, 'insistio': 1556, 'sostenerlo': 2721, 'buenisimo': 367, 'abrio': 56, 'puerta': 2383, 'buscado': 373, 'anita': 208, 'filmabamos': 1285, 'genuino': 1348, 'honesto': 1457, 'traslado': 2882, 'propia': 2350, 'participacion': 2100, 'haber': 1396, 'abierto': 51, 'mamas': 1772, 'hablamos': 1404, 'estamos': 1168, 'nosotras': 1986, 'pensando': 2149, 'abriendo': 54, 'transforma': 2875, 'viene': 3016, 'lado': 1657, 'encarar': 1050, 'genero': 1345, 'teatro': 2770, 'tengo': 2793, 'cierto': 488, 'entrenamiento': 1097, 'compartir': 549, 'nunca': 2002, 'trabajado': 2858, 'hermoso': 1439, 'permitio': 2169, 'aunar': 302, 'facetas': 1243, 'divergentes': 960, 'distintas': 956, 'siento': 2648, 'tuve': 2907, 'abiertas': 50, 'encontrado': 1058, 'ponerlas': 2238, 'forma': 1298, 'efectiva': 1009, 'vengo': 2977, 'ambiente': 180, 'academico': 65, 'llena': 1726, 'libros': 1693, 'constante': 607, 'cuestionamiento': 751, 'status': 2724, 'quo': 2419, 'mundo': 1929, 'haciendo': 1422, 'cine': 491, 'juntar': 1637, 'todas': 2838, 'herramientas': 1440, 'gratificante': 1377, 'luego': 1748, 'regreso': 2466, 'ustedes': 2943, 'papa': 2087, 'viviendo': 3054, 'lejos': 1680, 'aca': 61, 'terminos': 2811, 'especializas': 1137, 'primero': 2321, 'especialice': 1135, 'cuidados': 755, 'metida': 1861, 'libro': 1692, 'infantil': 1527, 'siglo': 2650, 'xxi': 3077, 'malabaristas': 1767, 'desigual': 878, 'teniendo': 2797, 'pasa': 2110, 'mire': 1888, 'estaban': 1159, 'organizadas': 2056, 'instituciones': 1563, 'cultura': 761, 'estuvieramos': 1192, 'malabares': 1766, 'sintiendo': 2669, 'podia': 2225, 'instalada': 1560, 'veinte': 2972, 'social': 2686, 'expresamos': 1237, 'teniamos': 2795, 'condiciones': 572, 'materiales': 1819, 'permitian': 2168, 'tuvieramos': 2909, 'empleada': 1047, 'pudiera': 2374, 'cumplir': 765, 'horas': 1461, 'escuela': 1126, 'doble': 965, 'turno': 2905, 'maneras': 1786, 'organizarnos': 2057, 'abuelos': 59, 'importantes': 1501, 'sentido': 2625, 'construccion': 610, 'supuesto': 2751, 'esfuerzo': 1128, 'enorme': 1079, 'tenemos': 2787, 'duda': 988, 'insisto': 1557, 'importancia': 1499, 'agotada': 133, 'hacer': 1415, 'doctorado': 969, 'trabajaba': 2857, 'unicef': 2925, 'sola': 2692, 'resulta': 2513, 'pesado': 2190, 'venga': 2976, 'importante': 1500, 'crear': 692, 'queda': 2397, 'atado': 290, 'dificultades': 924, 'infierno': 1531, 'desafian': 854, 'aprendes': 238, 'construis': 613, 'visible': 3043, 'vas': 2962, 'agradable': 135, 'yendo': 3079, 'pasto': 2121, 'plantea': 2210, 'pelea': 2138, 'decidieron': 799, 'dejarlo': 821, 'suelen': 2732, 'conflicto': 578, 'peleamos': 2139, 'necesitariamos': 1957, 'pelearnos': 2141, 'capaz': 418, 'modos': 1895, 'manifestar': 1787, 'disconformidad': 943, 'acordamos': 87, 'diplomaticas': 934, 'apuntan': 244, 'crecimiento': 696, 'tuvimos': 2912, 'epocas': 1104, 'mostrando': 1903, 'linda': 1706, 'trabajar': 2860, 'tutoria': 2906, 'vital': 3045, 'construir': 612, 'trending': 2895, 'topics': 2852, 'horribles': 1463, 'conflictivos': 577, 'conflictos': 579, 'tuvieron': 2911, 'contextos': 641, 'fuimos': 1320, 'atravesando': 298, 'desafios': 857, 'presentando': 2294, 'medio': 1843, 'caracteristica': 424, 'predominante': 2269, 'traje': 2868, 'feliz': 1268, 'mucha': 1912, 'gente': 1347, 'generacion': 1342, 'construido': 611, 'familias': 1253, 'oposicion': 2046, 'distancia': 955, 'familia': 1250, 'escapa': 1111, 'idealizados': 1484, 'hemos': 1431, 'recibido': 2435, 'comentarios': 527, 'fantasia': 1254, 'fueran': 1317, 'tomar': 2846, 'cafe': 389, 'dentro': 838, 'conscientes': 598, 'cafes': 390, 'llevan': 1729, 'buen': 365, 'puerto': 2385, 'cortar': 680, 'valida': 2949, 'motivaciones': 1905, 'pudieron': 2375, 'padres': 2073, 'duelo': 992, 'reconvertirla': 2445, 'pensaba': 2146, 'vivido': 3052, 'situaciones': 2679, 'dificiles': 923, 'periodo': 2163, 'pienso': 2198, 'marco': 1806, 'suceden': 2727, 'sucedio': 2728, 'ningun': 1972, 'ninguna': 1973, 'logica': 1737, 'alcanzan': 152, 'sostener': 2720, 'diciendo': 914, 'inscribirlo': 1551, 'critica': 714, 'perdida': 2156, 'existe': 1217, 'historia': 1450, 'arte': 265, 'amigarse': 187, 'sinsentido': 2667, 'camino': 405, 'intentar': 1572, 'expectativa': 1222, 'tomamos': 2844, 'inscribimos': 1550, 'sentia': 2624, 'perteneciera': 2187, 'exclusivamente': 1213, 'afecto': 127, 'manera': 1785, 'muerte': 1923, 'toco': 2836, 'circulo': 492, 'intimo': 1591, 'vinieron': 3030, 'sigo': 2653, 'hermanos': 1438, 'pertenecia': 2186, 'contar': 628, 'generaba': 1341, 'cuestion': 749, 'vulnerabilidad': 3072, 'herida': 1433, 'abierta': 49, 'sentirse': 2629, 'vulnerable': 3073, 'querer': 2406, 'decirlo': 803, 'temor': 2782, 'manejarlo': 1783, 'contamos': 626, 'convirtieron': 664, 'algidos': 157, 'buena': 366, 'confianza': 574, 'presente': 2297, '14': 6, '19': 12, '20': 16, 'enero': 1068, 'hs': 1467, 'dumont': 995, '4040': 37, 'santos': 2590, 'roxana': 2550, '45': 39, 'biologica': 345, 'pareja': 2095, 'adopcion': 118, 'presion': 2305, 'senora': 2620, 'viuda': 3047, 'caritas': 431, 'solidaria': 2697, 'posicion': 2251, 'adopto': 120, 'hermana': 1434, 'partir': 2108, 'crecio': 697, 'vicente': 3008, 'lopez': 1742, 'asistio': 281, 'colegios': 515, 'catolicos': 447, 'zona': 3082, 'sonaba': 2707, 'entrar': 1095, 'ejercito': 1016, 'termino': 2810, 'secundaria': 2597, 'ilusion': 1491, 'uniforme': 2930, 'recuerdo': 2450, 'epico': 1101, 'solidario': 2699, 'malvinas': 1770, 'daban': 775, 'conscriptos': 599, 'venian': 2979, 'diferentes': 921, 'comida': 533, 'techo': 2771, 'ultima': 2918, 'embarcarse': 1033, 'pudo': 2376, 'soplo': 2714, 'corazon': 672, 'examen': 1208, 'medico': 1840, 'pulverizo': 2389, 'expectativas': 1223, 'supo': 2747, 'existia': 1218, 'influencias': 1533, 'fuerzas': 1319, 'oponia': 2045, 'destino': 893, 'empezo': 1044, 'salir': 2575, 'edad': 1004, 'quedo': 2404, 'embarazada': 1029, 'accidental': 70, 'queria': 2408, 'tenerlo': 2790, 'plata': 2213, 'sacarmelo': 2564, 'seguir': 2603, 'echo': 1000, 'verguenza': 2992, 'barrio': 329, 'alquilo': 168, 'departamento': 841, 'recoleta': 2442, 'estuviera': 1191, 'cerca': 458, 'hospital': 1464, 'hijo': 1446, 'mayor': 1828, 'epoca': 1102, 'novia': 1990, 'seria': 2636, 'amor': 191, 'mudaron': 1920, 'pieza': 2202, 'merlo': 1856, 'vivia': 3050, 'pesar': 2191, 'capitulo': 421, 'relata': 2472, 'lagrimas': 1659, 'ojos': 2033, 'nacido': 1937, 'neumonias': 1966, 'meses': 1859, 'gordo': 1371, 'rosado': 2546, 'costaba': 687, 'comer': 529, 'crecer': 694, 'retaban': 2518, 'mami': 1773, 'tenes': 2791, 'darle': 784, 'hicieron': 1442, 'medica': 1835, 'comunico': 562, 'vih': 3023, 'positivo': 2253, 'delante': 824, 'pasillo': 2117, 'terapia': 2800, 'intensiva': 1570, 'pediatria': 2130, 'nadie': 1946, 'test': 2818, 'embarazo': 1031, 'marido': 1810, 'positivos': 2254, 'diagnostico': 906, 'puso': 2396, 'energias': 1066, 'puestas': 2386, 'verlo': 2994, 'noticia': 1989, 'golpe': 1365, 'estigma': 1174, 'discriminacion': 945, 'sistema': 2674, 'enfermeras': 1072, 'dijeron': 930, 'tuvieran': 2910, 'compartieran': 547, 'miraban': 1884, 'raro': 2425, 'nosotros': 1987, 'dieron': 917, 'pensabamos': 2147, 'saliera': 2572, 'tratamiento': 2887, 'oxigeno': 2067, 'dependiente': 843, 'pulmones': 2388, 'aguantaron': 140, 'entradas': 1093, 'salidas': 2571, 'fallecio': 1247, 'evitar': 1204, 'cuan': 733, 'diferente': 920, 'habria': 1411, 'hubieran': 1469, '2002': 19, 'promulgo': 2348, '25': 31, '543': 41, 'establecio': 1163, 'obligatoriedad': 2007, 'ofrecer': 2027, 'virus': 3041, 'inmunodeficiencia': 1546, 'humana': 1473, 'mujer': 1925, 'debe': 788, 'consentimiento': 601, 'expreso': 1238, '2017': 23, 'agrego': 137, 'ultimo': 2920, 'boletin': 351, 'direccion': 936, 'its': 1610, 'hepatitis': 1432, 'virales': 3038, 'tuberculosis': 2903, 'ministerio': 1877, 'salud': 2578, 'publicado': 2370, 'diciembre': 913, '2021': 27, 'estima': 1175, '140': 7, '000': 0, 'sabe': 2556, 'datos': 786, '2018': 24, '100': 2, 'bebes': 337, 'nacen': 1935, 'positivas': 2252, 'diagnosticados': 904, 'meta': 1860, 'explica': 1229, 'salusso': 2581, 'infectologo': 1530, 'investigador': 1597, 'fundacion': 1328, 'huesped': 1471, 'reducir': 2456, 'tasa': 2768, 'transmision': 2876, 'vertical': 2997, 'principal': 2324, 'desafio': 856, 'acercar': 74, 'pruebas': 2366, 'diagnosticas': 905, 'poblacion': 2218, 'embarazadas': 1030, 'asegurar': 272, 'aquellas': 246, 'resulten': 2516, 'negativas': 1960, 'continuar': 644, 'testeo': 2819, 'regular': 2467, 'gestacion': 1351, 'derivadas': 848, 'pueda': 2378, 'brindarles': 362, 'antirretroviral': 220, 'necesario': 1953, 'rocio': 2539, 'gallovich': 1337, 'licenciada': 1694, 'obstetrica': 2013, 'hospitales': 1465, 'publicos': 2372, 'matanza': 1817, 'llega': 1719, 'contracciones': 648, 'incluso': 1512, 'control': 651, 'hacen': 1414, 'hacerle': 1416, 'rapido': 2423, 'protocolo': 2360, 'define': 815, 'nacimiento': 1939, 'inhibicion': 1541, 'lactancia': 1656, 'materna': 1820, 'antecedentes': 217, 'obstetricos': 2014, 'gestacional': 1352, 'carga': 427, 'viral': 3037, 'adherencia': 112, 'realizado': 2430, 'protocolos': 2361, 'vigentes': 3021, 'parto': 2109, 'via': 3001, 'vaginal': 2946, 'desee': 872, 'alta': 170, 'gestante': 1353, 'realizo': 2432, 'adecuado': 108, 'realizara': 2431, 'cesarea': 461, 'antirretrovirales': 221, 'toman': 2845, 'decisiones': 805, 'nacer': 1936, 'segura': 2608, 'gestantes': 1354, 'cambiando': 399, 'funcion': 1322, 'evidencia': 1201, 'hacia': 1420, 'determinadas': 897, 'circunstancias': 494, 'siguen': 2655, 'medicacion': 1836, 'nacidos': 1938, 'suministran': 2740, 'mes': 1857, 'semanas': 2612, 'casos': 440, 'sociedades': 2689, 'cientificas': 484, 'desaconsejan': 853, 'leche': 1673, 'transmitir': 2877, 'debate': 787, 'espera': 1144, 'especifica': 1140, 'sucede': 2726, 'indetectable': 1520, 'nuevamente': 1998, '2001': 18, 'sabia': 2560, '3tc': 36, 'azt': 321, 'todavia': 2839, 'practicaba': 2263, 'pasandole': 2114, 'medicinas': 1839, 'obtuvo': 2015, 'seguimiento': 2601, 'preventivo': 2312, 'temerosa': 2781, 'creer': 701, 'hubiera': 1468, 'sano': 2586, 'miedo': 1864, 'sobreprotegia': 2684, 'relajando': 2470, 'acababa': 63, 'recibir': 2437, 'derivaron': 849, 'ayuda': 317, 'organizacion': 2053, 'civil': 498, 'reunia': 2520, 'finales': 1289, '90': 43, 'conformo': 583, '2000': 17, 'juntaba': 1636, 'eva': 1194, 'peron': 2173, 're': 2427, 'ayudaron': 320, 'manejarnos': 1784, 'reuniamos': 2521, 'salvaron': 2582, 'depresion': 845, 'terrible': 2813, 'contacto': 623, 'renacimiento': 2478, 'mano': 1789, 'criaron': 708, 'upa': 2935, 'orientaciones': 2060, 'sexuales': 2643, 'preservativos': 2299, 'globos': 1360, 'colores': 519, 'educacion': 1006, 'crie': 709, 'discriminaran': 946, 'atravesar': 299, 'similar': 2662, 'quedando': 2399, 'peso': 2192, 'mirada': 1885, 'ajena': 147, 'acudia': 103, 'chica': 472, '12': 3, 'topaba': 2849, 'prejuiciosos': 2276, 'discriminatorios': 947, 'decian': 797, 'seguis': 2604, 'tuviste': 2913, 'tantos': 2762, 'podes': 2224, 'contagiarlos': 625, 'encima': 1056, 'ligas': 1700, 'trompas': 2902, 'directamente': 938, 'igual': 1487, 'unirme': 2931, 'cesareas': 462, 'asunto': 287, 'ligadura': 1699, 'metodo': 1862, 'anticonceptivo': 219, 'permanente': 2164, 'adquirio': 123, 'resonancia': 2501, 'recientemente': 2441, 'chile': 476, 'gracias': 1373, 'francisca': 1307, 'quedado': 2398, 'controles': 652, 'prenatales': 2279, 'rutina': 2553, 'salio': 2574, 'estremecida': 1177, 'mantuvo': 1796, 'secreto': 2594, 'compartido': 546, 'parir': 2096, 'anestesiaron': 204, 'practicarle': 2264, 'esterilizaron': 1172, 'informarla': 1537, 'pedirle': 2135, 'demando': 830, 'derrota': 851, 'tribunales': 2899, 'locales': 1736, 'presento': 2298, 'reproductivos': 2494, 'vive': 3048, 'demanda': 829, 'comision': 536, 'interamericana': 1574, 'solucion': 2704, 'amistosa': 190, 'reparacion': 2483, 'victima': 3010, 'implementacion': 1496, 'medidas': 1842, 'disculpa': 948, 'unico': 2926, 'denuncias': 839, 'esterilizaciones': 1171, 'forzadas': 1304, 'mariana': 1808, 'iacono': 1478, 'coordinadora': 670, 'acompanando': 81, 'honduras': 1456, 'formatos': 1302, 'convencen': 653, 'riesgos': 2536, 'llevando': 1730, 'des': 852, 'muchos': 1917, 'modus': 1896, 'operandi': 2043, 'termines': 2809, 'esterilizacion': 1170, 'estabas': 1160, 'buscando': 378, 'estudio': 1188, 'reciente': 2440, 'iniciativa': 1543, 'spotlight': 2723, 'icw': 1481, 'revelo': 2527, '10': 1, 'reportaron': 2489, 'experimentado': 1226, 'servicios': 2639, 'centros': 457, 'educativos': 1007, 'declararon': 808, 'aconsejo': 85, '2008': 21, 'vivio': 3056, 'dramatica': 983, 'repentinamente': 2485, 'infeccion': 1529, 'oido': 2029, 'actual': 102, 'cuarto': 737, 'pocas': 2219, 'cuadras': 726, 'acuerda': 104, 'exactamente': 1207, 'contando': 627, 'acerca': 73, 'cree': 698, 'vino': 3031, 'ninos': 1976, 'vieran': 3019, 'medicaciones': 1837, 'hice': 1441, 'veian': 2971, 'pastillas': 2120, 'explique': 1232, 'sangre': 2585, 'ruido': 2552, 'animales': 206, 'gallinas': 1336, 'cruzan': 722, 'abajo': 46, 'perros': 2175, 'cabra': 385, 'movimiento': 1909, 'amigos': 189, 'entran': 1094, 'salen': 2568, 'demasiadas': 833, 'fotos': 1306, 'incendio': 1507, 'feroz': 1275, 'destruyo': 894, 'vivienda': 3053, 'reconstruyendola': 2444, 'interrumpe': 1584, 'conmigo': 588, 'resolver': 2500, 'saludar': 2580, 'golpes': 1366, 'renacimientos': 2479, 'sintesis': 2668, 'variando': 2958, 'punto': 2391, 'menguo': 1850, 'panico': 2084, 'inicial': 1542, 'colecciona': 513, 'acciones': 72, 'dolorosas': 972, 'cercanos': 460, 'religiosas': 2476, 'iglesia': 1486, 'evangelica': 1197, 'iban': 1480, 'solidaridad': 2698, 'vecinos': 2967, 'mal': 1764, 'solto': 2703, 'barreras': 328, 'particulares': 2105, 'chicos': 474, 'prestaba': 2308, 'atencion': 291, 'lastimaban': 1667, 'cortaban': 679, 'tranqui': 2872, 'toca': 2835, 'timbre': 2826, 'sobrina': 2685, 'cumple': 762, 'preparan': 2288, 'calor': 396, 'irradiar': 1607, 'inquietos': 1549, 'agua': 139, 'jardin': 1612, 'menor': 1851, 'amiga': 186, 'primeros': 2322, 'chapoteos': 469, 'temporada': 2784, 'pileta': 2204, 'copa': 671, 'contenido': 636, 'exclusiva': 1212, 'responsabilidad': 2503, 'autores': 311, 'diarioar': 908, 'reflejan': 2460, 'necesariamente': 1952, 'opiniones': 2044, 'unfpa': 2923, 'imagen': 1492, 'suficiente': 2735, 'potencia': 2257, 'estudiante': 1185, 'treinta': 2893, 'asiste': 279, 'clase': 501, 'facultad': 1245, 'siete': 2649, 'teta': 2820, 'mochilita': 1893, 'companeras': 538, 'ofrecen': 2026, 'companeros': 539, 'pocos': 2221, 'ninguno': 1974, 'ofrece': 2025, 'dura': 996, 'rara': 2424, 'deja': 818, 'presta': 2307, 'entrega': 1096, 'trabajos': 2862, 'criticos': 716, 'sale': 2567, 'vuelta': 3069, 'docente': 967, 'llama': 1717, 'genera': 1340, 'curiosidad': 767, 'avanzan': 312, 'clases': 502, 've': 2964, 'amalgaman': 175, 'cursada': 769, 'natural': 1949, 'pertenece': 2185, 'pensado': 2148, 'menores': 1852, 'reorganiza': 2481, 'aula': 300, 'ensena': 1083, 'escritura': 1122, 'creativa': 693, 'tine': 2828, 'color': 518, 'sugirio': 2736, 'extraordinario': 1241, 'resulto': 2517, 'cautivante': 449, 'rol': 2542, 'juegan': 1623, 'entorno': 1091, 'gustos': 1395, 'voluntad': 3059, 'mezclar': 1863, 'universitario': 2934, 'hablemos': 1409, 'paola': 2086, 'universidad': 2933, '32': 34, 'honda': 1455, 'tolima': 2842, 'litoral': 1716, 'colombiano': 517, 'adoptaron': 119, 'contaron': 631, 'finca': 1290, 'vecina': 2966, 'tenerla': 2789, 'emocionada': 1035, 'recibirla': 2438, 'nena': 1963, 'crecia': 695, 'oscurecerse': 2064, 'desesperacion': 875, 'negocios': 1962, 'enredados': 1080, 'reconstruye': 2443, 'bar': 325, 'almagro': 166, 'lidia': 1697, 'sonriente': 2712, 'apacible': 222, 'taza': 2769, 'caliente': 393, 'viaje': 3006, 'auto': 304, 'bogota': 349, 'apenas': 233, 'pasaba': 2111, 'viajaba': 3002, 'falda': 1246, 'asiento': 278, 'acompanante': 82, 'choco': 482, 'camion': 406, 'saldo': 2566, 'tragico': 2867, 'murieron': 1930, 'primo': 2323, 'milagrosamente': 1869, 'ilesa': 1489, 'monica': 1900, 'dano': 782, 'severamente': 2642, 'pierna': 2201, 'tras': 2879, 'operacion': 2042, 'estuvo': 1193, 'invierno': 1599, 'penso': 2152, 'semana': 2611, 'salia': 2570, 'diez': 919, 'conocio': 595, 'actor': 97, 'cursaba': 768, 'carrera': 434, 'lenguas': 1683, 'estudiaba': 1183, 'viajando': 3003, 'latinoamerica': 1668, 'anoto': 211, 'curso': 772, 'dramaturgia': 986, 'instalaron': 1561, 'viajar': 3004, 'peru': 2188, 'ecuador': 1003, 'bolivia': 353, '2015': 22, 'asentaron': 273, 'compania': 540, 'idas': 1482, 'venidas': 2980, 'viajes': 3007, 'licenciatura': 1695, 'artes': 266, 'escenicas': 1115, 'actuacion': 101, 'espacios': 1131, 'abiertos': 52, 'lentamente': 1684, 'vivieron': 3055, 'entusiasmo': 1100, 'actores': 98, 'magos': 1763, 'utilizo': 2944, 'magia': 1759, 'contarle': 629, 'videollamada': 3014, 'invitacion': 1601, 'zoom': 3083, 'arme': 256, 'mamushkas': 1776, 'direccionando': 937, 'eligiera': 1028, 'decia': 796, 'adentro': 111, 'sacaba': 2562, 'mamushka': 1775, 'aparecio': 227, 'papelito': 2088, 'chiquitito': 480, 'desdoble': 871, 'puse': 2395, 'pantalla': 2085, 'felicitaciones': 1265, 'abuela': 58, 'decidio': 800, 'hacerse': 1419, 'hermanita': 1435, 'llamo': 1718, 'dejo': 823, 'hacerlo': 1417, 'dude': 991, 'contexto': 640, 'compartia': 544, 'tios': 2830, 'querian': 2409, 'quedarse': 2401, 'criarla': 707, 'deje': 822, 'llegue': 1725, 'escaparme': 1112, 'tio': 2829, 'noches': 1978, 'dormia': 977, 'arriba': 260, 'pecho': 2127, 'repetia': 2486, 'vientre': 3018, 'joven': 1618, 'habiendo': 1400, 'superar': 2742, 'acostumbro': 89, 'combinar': 525, 'actividades': 94, 'estudiar': 1187, 'asistia': 280, 'ingeniera': 1538, 'petroleos': 2194, 'sabian': 2561, 'pagar': 2075, 'ninera': 1971, 'impedian': 1495, 'cambiado': 398, 'veia': 2970, 'trabajando': 2859, 'pozo': 2261, 'petrolero': 2195, 'drama': 982, 'sumo': 2741, 'capa': 417, 'acaso': 67, 'sesgo': 2640, 'espectacular': 1142, 'concluyeron': 567, 'premeditado': 2277, 'esposa': 1153, 'serios': 2638, 'problemas': 2334, 'laborales': 1654, 'caido': 392, 'mantenia': 1791, 'fantasmatico': 1256, 'supieron': 2746, 'paralelas': 2091, 'negada': 1958, 'despreciaba': 887, 'consideraba': 602, 'feminismos': 1269, 'especie': 1139, 'sensacion': 2621, 'sos': 2719, 'feminista': 1270, 'priorizar': 2327, 'quede': 2402, 'pude': 2373, 'deseo': 874, 'reorganizacion': 2482, 'profesional': 2339, 'difiera': 925, 'comparten': 543, 'mantiene': 1794, 'turnando': 2904, 'cursar': 771, 'lleva': 1727, 'ensayar': 1081, 'excepcionales': 1210, 'festival': 1277, 'brasil': 358, 'quise': 2416, 'cursando': 770, 'manteniendo': 1793, 'trabaja': 2856, 'puedo': 2382, 'costear': 688, 'aqui': 248, 'cuidan': 756, 'tias': 2822, 'sintio': 2670, 'tensionada': 2798, 'siguiente': 2656, 'enfermo': 1073, 'acerco': 76, 'conto': 645, 'contesto': 639, 'siguiera': 2657, 'verian': 2993, 'dando': 779, 'dejar': 819, 'materia': 1818, 'probar': 2332, 'minima': 1874, 'molestia': 1897, 'calmarlo': 395, 'acercarse': 75, 'jugarle': 1629, 'mala': 1765, 'cara': 423, 'nene': 1964, 'tranquilo': 2874, 'limpieza': 1705, 'abrieron': 55, 'puertas': 2384, 'office': 2022, 'contencion': 634, 'charla': 470, 'tiraron': 2834, 'onda': 2040, 'relaje': 2471, 'justamente': 1644, 'motivo': 1907, 'nieto': 1969, 'ingenieria': 1539, 'chiquita': 478, 'encargos': 1055, 'redaccion': 2454, 'correccion': 674, 'activa': 92, 'tecnicatura': 2774, 'arreglar': 259, 'computadoras': 559, 'cumplio': 764, '15': 8, 'psicologia': 2368, 'recibio': 2436, 'ejerce': 1014, 'aprendizaje': 240, 'cosa': 684, 'motivarnos': 1906, 'veo': 2983, 'creen': 700, 'felicidad': 1264, 'olvida': 2036, 'seguimos': 2602, 'ensenarle': 1085, 'valorar': 2952, 'palabras': 2078, 'ama': 174, 'ame': 184, 'trate': 2890, 'circunstancia': 493, 'amas': 177, 'consigues': 605, 'quieres': 2414, 'nada': 1945, 'discoteca': 944, 'madrugada': 1757, 'restaurantes': 2508, 'bailaba': 322, 'cargaba': 428, 'acampar': 66, 'chiquitica': 479, 'dije': 929, 'sales': 2569, 'nino': 1975, 'mudas': 1921, 'ropa': 2545, 'significa': 2652, 'acabo': 64, 'contrario': 650, 'valor': 2950, 'avanzando': 313, 'disfrutar': 951, 'magica': 1760, 'maravillosa': 1801, 'repite': 2487, 'lados': 1658, 'preferiria': 2270, 'manos': 1790, 'permitan': 2166, 'autonoma': 309, 'hago': 1424, 'divierte': 963, 'prefiero': 2271, 'gustaria': 1392, 'contento': 637, 'jugando': 1628, 'juegos': 1624, 'sabado': 2554, 'dietetica': 918, 'cambiaron': 401, 'venta': 2981, 'granel': 1376, 'abuso': 60, 'plastico': 2212, 'permitirse': 2171, 'cobrar': 508, 'triple': 2901, 'bolsita': 354, 'semillas': 2613, 'lino': 1710, 'catarsis': 445, 'chic': 471, 'barra': 327, 'esquinita': 1155, 'negocio': 1961, 'sentar': 2623, 'atendida': 293, 'dele': 825, 'maquina': 1799, 'abre': 53, 'cierra': 486, 'hornito': 1462, 'templa': 2783, 'croissants': 717, 'espumita': 1154, 'arcoiris': 252, 'leches': 1674, 'vegetales': 2969, 'habla': 1402, 'clientes': 506, 'prepara': 2287, 'tostado': 2854, 'apto': 242, 'celiaco': 453, 'furia': 1332, 'agotamiento': 134, 'verborragia': 2986, 'aguanto': 141, 'berrinche': 342, 'media': 1833, 'gritos': 1381, 'banarse': 324, 'anteayer': 215, 'sento': 2631, 'supermercado': 2743, 'moverse': 1908, 'asienten': 277, 'pena': 2143, 'tiran': 2833, 'interpretaciones': 1583, 'anecdotas': 203, 'personales': 2180, 'denotan': 837, 'bibliografia': 343, 'consumo': 622, 'item': 1609, 'gondola': 1367, 'redes': 2455, 'trato': 2891, 'escuchar': 1123, 'acto': 96, 'liberador': 1689, 'haberme': 1397, 'despertado': 882, 'unas': 2922, 'cortesia': 682, 'atrapante': 296, 'energia': 1065, 'inesperada': 1524, 'leerlo': 1676, 'sintonizar': 2672, 'topico': 2850, 'apagar': 223, 'oidos': 2030, 'funcionaba': 1324, 'contracara': 647, 'diurna': 959, 'tipica': 2831, 'situada': 2680, 'lugubre': 1751, 'humeante': 1475, 'borrachos': 357, 'solitarios': 2701, 'penas': 2144, 'barman': 326, 'comidas': 534, 'saludable': 2579, 'mamis': 1774, 'ojerosas': 2031, 'compartian': 545, 'acongojado': 84, 'energico': 1067, 'hacerme': 1418, 'quejandose': 2405, 'persiguiendo': 2177, 'preactivada': 2265, 'escucharlo': 1124, 'crea': 690, 'quiera': 2411, 'atrae': 295, 'confieso': 575, 'obvio': 2016, 'posar': 2246, 'ojo': 2032, 'mirilla': 1889, 'conocer': 593, 'historias': 1451, 'logisticas': 1738, 'dinamicas': 932, 'tremendamente': 2894, 'variadas': 2957, 'privadas': 2328, 'detras': 900, 'forjan': 1297, 'pequenos': 2154, 'grupos': 1384, 'accedemos': 68, 'casualidad': 442, 'fisgoneo': 1295, 'explota': 1233, 'rabia': 2420, 'daniela': 781, 'tomas': 2848, 'esconde': 1117, 'cortina': 683, 'comercial': 530, 'entra': 1092, 'predio': 2268, 'inmenso': 1545, 'insospechado': 1559, 'pleno': 2216, 'villa': 3024, 'crespo': 704, 'sentados': 2622, 'sillas': 2660, 'separo': 2633, 'conversar': 661, 'grupito': 1382, 'doce': 966, 'ordenadas': 2051, 'filas': 1284, 'prolijas': 2345, 'mirando': 1887, 'tarima': 2767, 'improvisada': 1503, 'miniatura': 1873, 'pastor': 2122, 'feligreses': 1266, 'revestirse': 2528, 'espiritualidad': 1152, 'ambientes': 181, 'persiana': 2176, 'conviven': 666, 'kiosco': 1651, 'minimercado': 1875, 'salon': 2576, 'pelopincho': 2142, 'cubierta': 739, 'soportar': 2715, 'verano': 2985, 'cama': 397, 'cuna': 766, 'cocina': 509, 'lindante': 1707, 'advirtio': 126, 'breve': 360, 'traerlo': 2865, 'correr': 675, 'tecnica': 2772, 'nocturna': 1979, 'once': 2039, 'terminando': 2805, 'ocuparse': 2020, 'detalles': 895, 'festejo': 1276, 'suegra': 2731, 'responsable': 2504, 'alquiler': 167, 'invito': 1602, 'gusta': 1390, 'pagamos': 2074, 'electricidad': 1022, 'adolescentes': 117, 'categoria': 446, 'exuberante': 1242, 'descenso': 863, 'ultimas': 2919, 'estadisticas': 1165, 'alrededor': 169, '53': 40, 'nombre': 1982, 'forman': 1300, 'embarazos': 1032, 'intencionales': 1569, 'buscados': 376, 'intencional': 1568, '70': 42, 'agenda': 131, 'organizaciones': 2054, 'dedicadas': 810, 'infancias': 1526, 'organizada': 2055, 'feim': 1263, 'intervalos': 1585, 'cliente': 505, 'petaca': 2193, 'figuritas': 1282, 'mundial': 1928, 'retrotrae': 2519, 'oscuridad': 2065, 'estuve': 1190, 'adelante': 109, 'sonar': 2708, 'hable': 1408, 'encargado': 1053, 'timida': 2827, 'conversamos': 659, 'principio': 2326, 'costo': 689, 'pense': 2151, 'hermanito': 1436, 'chiquito': 481, 'conforme': 582, 'pasan': 2113, 'doy': 980, 'sentimiento': 2627, 'queres': 2407, 'vigilando': 3022, 'pendiente': 2145, 'comparacion': 541, 'casual': 441, 'abandono': 47, 'cuidaba': 753, 'reunio': 2522, 'cuido': 759, 'enseno': 1086, 'sucia': 2730, 'ayudar': 319, 'juntara': 1638, 'llevaba': 1728, 'volviamos': 3062, 'desordenamos': 881, 'llegaba': 1720, 'limpiar': 1703, 'cocinar': 510, 'pesada': 2189, 'gusto': 1394, 'mandar': 1779, 'limpiemos': 1704, 'gustaba': 1391, 'eramos': 1108, 'nenes': 1965, 'cuida': 752, 'encargan': 1054, 'necesidad': 1955, 'confia': 573, 'demasiada': 832, 'cuiden': 758, 'orgullo': 2059, 'encarga': 1051, 'lavar': 1670, 'construyo': 615, 'viven': 3049, 'mudo': 1922, 'varias': 2960, 'guernica': 1386, 'glew': 1359, 'ubica': 2915, 'terrenito': 2812, 'regalo': 2463, 'terminamos': 2804, 'terminar': 2806, 'escalera': 1109, 'piso': 2206, 'contrapiso': 649, 'aparte': 228, 'complica': 553, 'esperar': 1146, 'albanil': 150, 'construya': 614, 'perdido': 2157, 'hacemos': 1413, 'permite': 2167, 'acortar': 88, 'organizarse': 2058, 'jakaira': 1611, 'maternal': 1821, 'gratuito': 1378, 'dirigido': 942, 'ninas': 1970, 'fundado': 1329, 'colaboracion': 512, 'kaleidos': 1647, 'children': 475, 'action': 91, 'suiza': 2737, 'establecimiento': 1162, 'chacarita': 465, 'traslasierra': 2883, 'cordoba': 673, 'programa': 2343, 'acompanar': 83, 'especificas': 1141, 'acompanamientos': 80, 'personalizados': 2182, 'necesarios': 1954, 'inicio': 1544, 'dedicado': 811, 'especialmente': 1138, 'ampliando': 193, 'convocar': 668, 'mayoria': 1829, 'problematica': 2335, 'atendemos': 292, 'aislamiento': 146, 'vulneracion': 3074, 'solas': 2694, 'fortalecer': 1303, 'criar': 706, '16': 9, 'partiendo': 2107, 'ciento': 485, 'alejandra': 155, 'scialabba': 2591, 'directora': 940, 'observa': 2009, 'fenomenos': 1272, 'involucramiento': 1603, 'reforzo': 2462, 'problematicas': 2336, 'volver': 3060, 'replegaron': 2488, 'decidido': 798, 'terminarlo': 2808, 'entusiasman': 1098, 'talleres': 2757, 'vinculados': 3027, 'electronica': 1023, 'especial': 1134, 'samsung': 2583, 'celulares': 455, 'equipan': 1106, 'kit': 1653, 'imagina': 1493, 'estudiando': 1184, 'logre': 1741, 'piensa': 2197, 'superpuestos': 2744, 'escurre': 1127, 'cuestan': 748, 'jovenes': 1619, 'ponerle': 2239, 'limites': 1702, 'ambitos': 182, 'miran': 1886, 'distinto': 957, 'ven': 2974, 'dicen': 911, 'mira': 1883, 'usa': 2939, 'panal': 2081, 'cuesta': 747, 'sacarle': 2563, 'quizas': 2418, 'entienden': 1089, 'expertos': 1228, 'maduros': 1758, 'tratar': 2889, 'explicarle': 1231, 'panales': 2082, 'combinacion': 522, 'flete': 1296, 'llevarlo': 1733, 'apurado': 245, 'tuviera': 2908, 'pedir': 2133, 'pediria': 2134, 'quiero': 2415, 'jugueteria': 1630, 'buscarlo': 380, 'volvia': 3061, 'pregunto': 2275, 'primas': 2317, 'complicado': 555, 'restaurante': 2507, 'lio': 1711, 'suenos': 2734, 'relaciones': 2469, 'inagotable': 1505, 'futuro': 1334, 'alegria': 153, 'emocionante': 1037, 'termina': 2803, 'aprovechar': 241, 'contarles': 630, 'desmadres': 879, 'escritora': 1121, 'gorodischer': 1372, 'combina': 521, 'generos': 1346, 'cronica': 718, 'ensayo': 1082, 'multiples': 1927, 'voces': 3058, 'topicos': 2851, 'contemporanea': 633, 'tribus': 2900, 'perinatal': 2160, 'capitulos': 422, 'conmovedores': 589, 'dedicar': 812, 'profundidad': 2341, 'vale': 2948, '28': 32, '18': 11, 'lectura': 1675, 'lavalleja': 1669, '924': 44, 'alli': 165, 'estare': 1169, 'karina': 1648, 'felitti': 1267, 'autora': 310, 'ns': 1993, 'puesto': 2387, 'supongo': 2748, 'bolita': 352, 'desenredando': 873, 'progresivamente': 2344, 'nomas': 1980, 'adquirir': 124, 'basto': 334, 'convivir': 667, 'aprendiendo': 239, 'debia': 792, 'basada': 330, 'experto': 1227, 'cinco': 489, 'pregunte': 2274, 'altura': 172, 'sonrie': 2710, 'sonrien': 2711, 'destaco': 891, 'sonreian': 2709, 'desplego': 885, 'serie': 2637, 'interesaba': 1576, 'profundizar': 2342, 'despliega': 886, 'acumulacion': 106, 'obsesiva': 2012, 'trama': 2869, 'inquietante': 1548, 'navegar': 1951, 'respuestas': 2506, 'concretas': 568, 'cuantificadas': 735, 'fecha': 1261, 'eventualmente': 1200, 'sonrio': 2713, 'enigma': 1076, 'develado': 901, 'empezaba': 1041, 'buscador': 374, 'convirtio': 665, 'aliado': 162, 'espinoso': 1150, 'observacion': 2010, 'definicion': 816, 'frenemy': 1311, 'enorgullece': 1078, 'abruma': 57, 'busqueda': 382, 'compulsiva': 557, 'actividad': 93, 'vergonzante': 2991, 'inconducente': 1513, 'inevitable': 1525, 'internet': 1582, 'devuelve': 902, 'sabemos': 2557, 'fiebre': 1280, 'combinada': 523, 'vomitos': 3064, 'gravisima': 1380, 'cualunque': 732, 'busquedas': 383, 'sintomas': 2671, 'congresos': 586, 'ejercicio': 1015, 'divertido': 962, 'trends': 2896, 'tendencias': 2785, 'enfermedades': 1071, 'infantiles': 1528, 'malquerida': 1769, 'bronquilitis': 363, 'terror': 2816, 'inviernos': 1600, 'estacionalidad': 1164, 'cuerpos': 745, 'bebitos': 338, 'pruebita': 2367, 'fantasma': 1255, 'recorrio': 2448, 'consultorios': 621, 'whatsapp': 3076, 'pediatricos': 2132, 'medios': 1844, 'espasmodica': 1133, 'origen': 2061, 'desconocido': 864, 'enterarse': 1088, 'preocuparse': 2285, 'cuento': 743, 'brevemente': 361, 'potencialmente': 2258, 'letal': 1686, 'contagiaba': 624, 'siquiera': 2673, 'realmente': 2433, 'aumentado': 301, 'impacto': 1494, 'sistemas': 2675, 'medicos': 1841, 'enfocandose': 1074, 'salieron': 2573, 'salteadas': 2577, 'debido': 793, 'puntuales': 2392, 'investigaciones': 1596, 'trataban': 2885, 'echar': 999, 'luz': 1753, 'olvidamos': 2037, 'frecuencia': 1309, 'muestra': 1924, 'tosco': 2853, 'patron': 2125, 'buscamos': 377, 'voy': 3068, 'baston': 335, 'acrecentar': 90, 'atenuar': 294, 'nuestros': 1996, 'encuesta': 1064, 'onepoll': 2041, 'encargada': 1052, 'marca': 1802, 'dermatologica': 850, 'mostro': 1904, 'primerizos': 2320, 'hacian': 1421, 'promedio': 2346, 'marcas': 1804, 'quieren': 2413, 'encontradas': 1057, 'buscadores': 375, 'aplican': 235, 'tecnicas': 2773, 'optimizacion': 2049, 'paspa': 2119, 'cola': 511, 'magicamente': 1761, 'sitio': 2676, 'crema': 702, 'vende': 2975, 'arrojan': 264, 'algoritmos': 158, 'valoran': 2951, 'descartan': 862, 'sitios': 2677, 'variables': 2956, 'conocemos': 591, 'aquello': 247, 'levanta': 1687, 'contestar': 638, 'insomne': 1558, 'fidedigna': 1279, 'silenciosamente': 2659, 'logran': 1740, 'intervenir': 1588, 'preocupaciones': 2281, 'alivios': 163, 'adquirimos': 122, 'aristas': 255, 'problema': 2333, 'apasiona': 229, 'enloquece': 1077, 'partes': 2098, 'iguales': 1488, 'ramas': 2422, 'pediatra': 2128, 'guillermo': 1388, 'goldfarb': 1364, 'temas': 2779, 'director': 939, 'pediatrico': 2131, 'belgrano': 339, 'planta': 2209, 'posgrado': 2247, 'tecnologias': 2776, 'practica': 2262, 'expandida': 1221, '2007': 20, 'publico': 2371, 'articulo': 267, 'equipo': 1107, 'pediatras': 2129, 'internacional': 1580, 'encontramos': 1059, 'consultaba': 617, 'doctor': 968, 'dr': 981, 'intervenia': 1587, 'formaba': 1299, 'paciente': 2069, 'consultamos': 618, 'vimos': 3025, 'hablaba': 1403, 'consulta': 616, 'asesorar': 274, 'pacientes': 2070, 'evaluar': 1196, 'criticamente': 715, 'encuentran': 1062, 'masificacion': 1815, 'democratizacion': 835, 'reservadas': 2496, 'disponibles': 953, 'detenta': 896, 'medicina': 1838, 'restringe': 2510, 'pura': 2393, 'puro': 2394, 'conjuga': 587, 'cualidades': 729, 'exclusivo': 1214, 'patrimonio': 2124, 'intuicion': 1592, 'clinica': 507, 'podrias': 2229, 'administrar': 114, 'entender': 1087, 'aplica': 234, 'particular': 2104, 'aplicarla': 236, 'juiciosamente': 1632, 'destaca': 889, 'compartan': 542, 'asesorarlos': 275, 'marcela': 1805, 'arquitecta': 257, '42': 38, 'mar': 1800, 'ansiosa': 213, 'googleo': 1370, 'propios': 2355, 'franco': 1308, 'contener': 635, 'dudarlo': 989, 'peor': 2153, 'pegue': 2137, 'pasar': 2115, 'ansioso': 214, 'saber': 2559, 'ansiedad': 212, 'funcional': 1325, 'humor': 1476, 'culposo': 760, 'adulto': 125, 'carburando': 425, 'tragedias': 2866, 'computadora': 558, 'celular': 454, 'buscaba': 372, 'comentaba': 526, 'evaluando': 1195, 'determinados': 898, 'correspondian': 678, '39': 35, 'cansado': 415, 'chico': 473, 'activo': 95, 'preocupo': 2286, 'seguia': 2600, 'trapo': 2878, 'googlear': 1369, 'cansancio': 416, 'debilidad': 794, 'cronico': 719, 'millones': 1872, 'analizando': 198, 'leia': 1679, 'insuficiencia': 1564, 'cardiaca': 426, 'compartio': 548, 'llevara': 1732, 'reviso': 2529, 'vio': 3032, 'indico': 1521, 'completo': 552, 'intervencion': 1586, 'dejarla': 820, 'tranquila': 2873, 'tardaron': 2764, 'recuperando': 2451, 'normalidad': 1984, 'preocupacion': 2280, 'depositada': 844, 'cabeza': 384, 'fingia': 1292, 'interes': 1575, 'sentiran': 2628, 'identificados': 1485, 'anecdota': 202, 'excede': 1209, 'campo': 408, 'propiedad': 2353, 'efectos': 1011, 'acceso': 69, 'ilimitado': 1490, 'ubicuo': 2916, 'potenciarla': 2259, 'asuntos': 288, 'parecio': 2094, 'interesante': 1577, 'posibilidad': 2248, 'prescripcion': 2289, 'cuadros': 727, 'preocupan': 2283, 'on': 2038, 'demand': 828, 'grave': 1379, 'mandarle': 1781, 'catarata': 444, 'caca': 386, 'muchisimas': 1914, 'consultorio': 620, 'acompanaba': 78, 'propuso': 2358, 'tecnologia': 2775, 'preocupado': 2282, 'comprar': 556, 'rollo': 2544, 'mandarlas': 1780, 'revelar': 2526, 'representaba': 2491, 'inversion': 1594, 'apelado': 232, 'primario': 2316, 'asumo': 285, 'normal': 1983, 'listo': 1714, 'detiene': 899, 'clave': 504, 'criterio': 713, 'tercerizas': 2802, 'foto': 1305, 'perdes': 2155, 'pierde': 2200, 'usarla': 2941, 'especialistas': 1136, 'aficionados': 128, 'obsesion': 2011, 'paradojicamente': 2090, 'vincula': 3026, 'fenomeno': 1271, 'soporte': 2716, 'plataforma': 2214, 'digo': 928, 'creemos': 699, 'necesitamos': 1956, 'consultar': 619, 'vuelvo': 3071, 'pierda': 2199, 'duerma': 993, 'lidie': 1698, 'estres': 1181, 'emocional': 1036, 'confronte': 584, 'acusatorios': 107, 'defensa': 814, 'convencida': 654, 'exceso': 1211, 'informada': 1535, 'resuelve': 2511, 'importa': 1498, 'dormir': 978, 'preocuparme': 2284, 'ventaja': 2982, 'implica': 1497, 'difusion': 927, 'brechas': 359, 'achican': 77, 'administrada': 113, 'favorable': 1259, 'adolescente': 116, 'saben': 2558, 'conocen': 592, 'informados': 1536, 'apunta': 243, 'encontrar': 1060, 'equilibrio': 1105, 'virtudes': 3040, 'razonable': 2426, 'caer': 388, 'trampa': 2871}\n"
     ]
    }
   ],
   "source": [
    "spanishStemmer=SnowballStemmer(\"spanish\")\n",
    "stopwords_sp = stopwords.words('spanish')\n",
    "\n",
    "# si no hacemos esto y usamos directo stopwords_sp, CountVectorizer devuelve un warning\n",
    "stopwords_sp_stem = [spanishStemmer.stem(x) for x in stopwords_sp]\n",
    "\n",
    "vectorizer = CountVectorizer(stop_words = stopwords_sp_stem, lowercase = True, strip_accents = 'unicode');\n",
    "\n",
    "vectorizer.fit(textos['texto']);\n",
    "print('Vocabulario:\\n',vectorizer.vocabulary_) # vocabulario del corpus con la frecuencia de cada término\n"
   ]
  },
  {
   "cell_type": "code",
   "execution_count": 43,
   "metadata": {},
   "outputs": [],
   "source": [
    "countvectorizer_encoding = vectorizer.transform(textos['texto'])"
   ]
  },
  {
   "cell_type": "code",
   "execution_count": 44,
   "metadata": {},
   "outputs": [
    {
     "name": "stdout",
     "output_type": "stream",
     "text": [
      "\n",
      " Transformamos los textos a una matriz esparsa: <class 'scipy.sparse.csr.csr_matrix'>\n"
     ]
    }
   ],
   "source": [
    "countvectorizer_encoding = vectorizer.transform(textos['texto'])\n",
    "print('\\n Transformamos los textos a una matriz esparsa:',type(countvectorizer_encoding))\n",
    "\n",
    "data = pd.DataFrame(countvectorizer_encoding.todense(), \n",
    "             columns = vectorizer.get_feature_names_out()) # Usamos el método .todense() para ver la matriz completa"
   ]
  },
  {
   "cell_type": "code",
   "execution_count": 49,
   "metadata": {},
   "outputs": [
    {
     "data": {
      "text/plain": [
       "0    0\n",
       "1    0\n",
       "2    0\n",
       "3    0\n",
       "4    0\n",
       "5    7\n",
       "6    2\n",
       "7    6\n",
       "8    2\n",
       "9    1\n",
       "Name: madre, dtype: int64"
      ]
     },
     "execution_count": 49,
     "metadata": {},
     "output_type": "execute_result"
    }
   ],
   "source": [
    "data['madre']"
   ]
  },
  {
   "cell_type": "code",
   "execution_count": 51,
   "metadata": {},
   "outputs": [],
   "source": [
    "from sklearn.feature_extraction.text import TfidfTransformer\n",
    "\n",
    "Tfidf_encoding=TfidfTransformer().fit_transform(countvectorizer_encoding);\n",
    "\n",
    "data_2 = pd.DataFrame(Tfidf_encoding.todense(),columns=vectorizer.get_feature_names_out())"
   ]
  },
  {
   "cell_type": "code",
   "execution_count": 58,
   "metadata": {},
   "outputs": [
    {
     "data": {
      "text/html": [
       "<div>\n",
       "<style scoped>\n",
       "    .dataframe tbody tr th:only-of-type {\n",
       "        vertical-align: middle;\n",
       "    }\n",
       "\n",
       "    .dataframe tbody tr th {\n",
       "        vertical-align: top;\n",
       "    }\n",
       "\n",
       "    .dataframe thead th {\n",
       "        text-align: right;\n",
       "    }\n",
       "</style>\n",
       "<table border=\"1\" class=\"dataframe\">\n",
       "  <thead>\n",
       "    <tr style=\"text-align: right;\">\n",
       "      <th></th>\n",
       "      <th>000</th>\n",
       "      <th>10</th>\n",
       "      <th>100</th>\n",
       "      <th>12</th>\n",
       "      <th>13</th>\n",
       "      <th>130</th>\n",
       "      <th>14</th>\n",
       "      <th>140</th>\n",
       "      <th>15</th>\n",
       "      <th>16</th>\n",
       "      <th>...</th>\n",
       "      <th>vulneracion</th>\n",
       "      <th>wado</th>\n",
       "      <th>whatsapp</th>\n",
       "      <th>xxi</th>\n",
       "      <th>yasky</th>\n",
       "      <th>yendo</th>\n",
       "      <th>york</th>\n",
       "      <th>zamora</th>\n",
       "      <th>zona</th>\n",
       "      <th>zoom</th>\n",
       "    </tr>\n",
       "  </thead>\n",
       "  <tbody>\n",
       "    <tr>\n",
       "      <th>0</th>\n",
       "      <td>0.000000</td>\n",
       "      <td>0.000000</td>\n",
       "      <td>0.000000</td>\n",
       "      <td>0.000000</td>\n",
       "      <td>0.000000</td>\n",
       "      <td>0.066530</td>\n",
       "      <td>0.000000</td>\n",
       "      <td>0.000000</td>\n",
       "      <td>0.000000</td>\n",
       "      <td>0.000000</td>\n",
       "      <td>...</td>\n",
       "      <td>0.000000</td>\n",
       "      <td>0.066530</td>\n",
       "      <td>0.000000</td>\n",
       "      <td>0.000000</td>\n",
       "      <td>0.078262</td>\n",
       "      <td>0.000000</td>\n",
       "      <td>0.000000</td>\n",
       "      <td>0.078262</td>\n",
       "      <td>0.000000</td>\n",
       "      <td>0.000000</td>\n",
       "    </tr>\n",
       "    <tr>\n",
       "      <th>1</th>\n",
       "      <td>0.000000</td>\n",
       "      <td>0.000000</td>\n",
       "      <td>0.000000</td>\n",
       "      <td>0.000000</td>\n",
       "      <td>0.000000</td>\n",
       "      <td>0.084081</td>\n",
       "      <td>0.000000</td>\n",
       "      <td>0.000000</td>\n",
       "      <td>0.000000</td>\n",
       "      <td>0.000000</td>\n",
       "      <td>...</td>\n",
       "      <td>0.000000</td>\n",
       "      <td>0.084081</td>\n",
       "      <td>0.000000</td>\n",
       "      <td>0.000000</td>\n",
       "      <td>0.000000</td>\n",
       "      <td>0.000000</td>\n",
       "      <td>0.000000</td>\n",
       "      <td>0.000000</td>\n",
       "      <td>0.000000</td>\n",
       "      <td>0.000000</td>\n",
       "    </tr>\n",
       "    <tr>\n",
       "      <th>2</th>\n",
       "      <td>0.000000</td>\n",
       "      <td>0.000000</td>\n",
       "      <td>0.000000</td>\n",
       "      <td>0.000000</td>\n",
       "      <td>0.000000</td>\n",
       "      <td>0.000000</td>\n",
       "      <td>0.000000</td>\n",
       "      <td>0.000000</td>\n",
       "      <td>0.000000</td>\n",
       "      <td>0.000000</td>\n",
       "      <td>...</td>\n",
       "      <td>0.000000</td>\n",
       "      <td>0.000000</td>\n",
       "      <td>0.000000</td>\n",
       "      <td>0.000000</td>\n",
       "      <td>0.000000</td>\n",
       "      <td>0.000000</td>\n",
       "      <td>0.000000</td>\n",
       "      <td>0.000000</td>\n",
       "      <td>0.000000</td>\n",
       "      <td>0.000000</td>\n",
       "    </tr>\n",
       "    <tr>\n",
       "      <th>3</th>\n",
       "      <td>0.000000</td>\n",
       "      <td>0.000000</td>\n",
       "      <td>0.000000</td>\n",
       "      <td>0.000000</td>\n",
       "      <td>0.041029</td>\n",
       "      <td>0.000000</td>\n",
       "      <td>0.000000</td>\n",
       "      <td>0.000000</td>\n",
       "      <td>0.000000</td>\n",
       "      <td>0.000000</td>\n",
       "      <td>...</td>\n",
       "      <td>0.000000</td>\n",
       "      <td>0.000000</td>\n",
       "      <td>0.000000</td>\n",
       "      <td>0.000000</td>\n",
       "      <td>0.000000</td>\n",
       "      <td>0.000000</td>\n",
       "      <td>0.000000</td>\n",
       "      <td>0.000000</td>\n",
       "      <td>0.000000</td>\n",
       "      <td>0.000000</td>\n",
       "    </tr>\n",
       "    <tr>\n",
       "      <th>4</th>\n",
       "      <td>0.000000</td>\n",
       "      <td>0.000000</td>\n",
       "      <td>0.000000</td>\n",
       "      <td>0.000000</td>\n",
       "      <td>0.000000</td>\n",
       "      <td>0.000000</td>\n",
       "      <td>0.000000</td>\n",
       "      <td>0.000000</td>\n",
       "      <td>0.000000</td>\n",
       "      <td>0.000000</td>\n",
       "      <td>...</td>\n",
       "      <td>0.000000</td>\n",
       "      <td>0.000000</td>\n",
       "      <td>0.000000</td>\n",
       "      <td>0.000000</td>\n",
       "      <td>0.000000</td>\n",
       "      <td>0.000000</td>\n",
       "      <td>0.000000</td>\n",
       "      <td>0.000000</td>\n",
       "      <td>0.000000</td>\n",
       "      <td>0.000000</td>\n",
       "    </tr>\n",
       "    <tr>\n",
       "      <th>5</th>\n",
       "      <td>0.000000</td>\n",
       "      <td>0.000000</td>\n",
       "      <td>0.000000</td>\n",
       "      <td>0.000000</td>\n",
       "      <td>0.000000</td>\n",
       "      <td>0.000000</td>\n",
       "      <td>0.019729</td>\n",
       "      <td>0.000000</td>\n",
       "      <td>0.000000</td>\n",
       "      <td>0.000000</td>\n",
       "      <td>...</td>\n",
       "      <td>0.000000</td>\n",
       "      <td>0.000000</td>\n",
       "      <td>0.000000</td>\n",
       "      <td>0.019729</td>\n",
       "      <td>0.000000</td>\n",
       "      <td>0.014673</td>\n",
       "      <td>0.039458</td>\n",
       "      <td>0.000000</td>\n",
       "      <td>0.000000</td>\n",
       "      <td>0.000000</td>\n",
       "    </tr>\n",
       "    <tr>\n",
       "      <th>6</th>\n",
       "      <td>0.017154</td>\n",
       "      <td>0.030015</td>\n",
       "      <td>0.020179</td>\n",
       "      <td>0.020179</td>\n",
       "      <td>0.000000</td>\n",
       "      <td>0.000000</td>\n",
       "      <td>0.000000</td>\n",
       "      <td>0.020179</td>\n",
       "      <td>0.000000</td>\n",
       "      <td>0.000000</td>\n",
       "      <td>...</td>\n",
       "      <td>0.000000</td>\n",
       "      <td>0.000000</td>\n",
       "      <td>0.000000</td>\n",
       "      <td>0.000000</td>\n",
       "      <td>0.000000</td>\n",
       "      <td>0.015007</td>\n",
       "      <td>0.000000</td>\n",
       "      <td>0.000000</td>\n",
       "      <td>0.040357</td>\n",
       "      <td>0.000000</td>\n",
       "    </tr>\n",
       "    <tr>\n",
       "      <th>7</th>\n",
       "      <td>0.000000</td>\n",
       "      <td>0.000000</td>\n",
       "      <td>0.000000</td>\n",
       "      <td>0.000000</td>\n",
       "      <td>0.000000</td>\n",
       "      <td>0.000000</td>\n",
       "      <td>0.000000</td>\n",
       "      <td>0.000000</td>\n",
       "      <td>0.024582</td>\n",
       "      <td>0.000000</td>\n",
       "      <td>...</td>\n",
       "      <td>0.000000</td>\n",
       "      <td>0.000000</td>\n",
       "      <td>0.000000</td>\n",
       "      <td>0.000000</td>\n",
       "      <td>0.000000</td>\n",
       "      <td>0.018282</td>\n",
       "      <td>0.000000</td>\n",
       "      <td>0.000000</td>\n",
       "      <td>0.000000</td>\n",
       "      <td>0.024582</td>\n",
       "    </tr>\n",
       "    <tr>\n",
       "      <th>8</th>\n",
       "      <td>0.019307</td>\n",
       "      <td>0.016891</td>\n",
       "      <td>0.000000</td>\n",
       "      <td>0.000000</td>\n",
       "      <td>0.000000</td>\n",
       "      <td>0.000000</td>\n",
       "      <td>0.000000</td>\n",
       "      <td>0.000000</td>\n",
       "      <td>0.000000</td>\n",
       "      <td>0.022712</td>\n",
       "      <td>...</td>\n",
       "      <td>0.090847</td>\n",
       "      <td>0.000000</td>\n",
       "      <td>0.000000</td>\n",
       "      <td>0.000000</td>\n",
       "      <td>0.000000</td>\n",
       "      <td>0.000000</td>\n",
       "      <td>0.000000</td>\n",
       "      <td>0.000000</td>\n",
       "      <td>0.000000</td>\n",
       "      <td>0.000000</td>\n",
       "    </tr>\n",
       "    <tr>\n",
       "      <th>9</th>\n",
       "      <td>0.000000</td>\n",
       "      <td>0.017245</td>\n",
       "      <td>0.000000</td>\n",
       "      <td>0.000000</td>\n",
       "      <td>0.000000</td>\n",
       "      <td>0.000000</td>\n",
       "      <td>0.000000</td>\n",
       "      <td>0.000000</td>\n",
       "      <td>0.000000</td>\n",
       "      <td>0.000000</td>\n",
       "      <td>...</td>\n",
       "      <td>0.000000</td>\n",
       "      <td>0.000000</td>\n",
       "      <td>0.046376</td>\n",
       "      <td>0.000000</td>\n",
       "      <td>0.000000</td>\n",
       "      <td>0.000000</td>\n",
       "      <td>0.000000</td>\n",
       "      <td>0.000000</td>\n",
       "      <td>0.000000</td>\n",
       "      <td>0.000000</td>\n",
       "    </tr>\n",
       "  </tbody>\n",
       "</table>\n",
       "<p>10 rows × 3084 columns</p>\n",
       "</div>"
      ],
      "text/plain": [
       "        000        10       100        12        13       130        14  \\\n",
       "0  0.000000  0.000000  0.000000  0.000000  0.000000  0.066530  0.000000   \n",
       "1  0.000000  0.000000  0.000000  0.000000  0.000000  0.084081  0.000000   \n",
       "2  0.000000  0.000000  0.000000  0.000000  0.000000  0.000000  0.000000   \n",
       "3  0.000000  0.000000  0.000000  0.000000  0.041029  0.000000  0.000000   \n",
       "4  0.000000  0.000000  0.000000  0.000000  0.000000  0.000000  0.000000   \n",
       "5  0.000000  0.000000  0.000000  0.000000  0.000000  0.000000  0.019729   \n",
       "6  0.017154  0.030015  0.020179  0.020179  0.000000  0.000000  0.000000   \n",
       "7  0.000000  0.000000  0.000000  0.000000  0.000000  0.000000  0.000000   \n",
       "8  0.019307  0.016891  0.000000  0.000000  0.000000  0.000000  0.000000   \n",
       "9  0.000000  0.017245  0.000000  0.000000  0.000000  0.000000  0.000000   \n",
       "\n",
       "        140        15        16  ...  vulneracion      wado  whatsapp  \\\n",
       "0  0.000000  0.000000  0.000000  ...     0.000000  0.066530  0.000000   \n",
       "1  0.000000  0.000000  0.000000  ...     0.000000  0.084081  0.000000   \n",
       "2  0.000000  0.000000  0.000000  ...     0.000000  0.000000  0.000000   \n",
       "3  0.000000  0.000000  0.000000  ...     0.000000  0.000000  0.000000   \n",
       "4  0.000000  0.000000  0.000000  ...     0.000000  0.000000  0.000000   \n",
       "5  0.000000  0.000000  0.000000  ...     0.000000  0.000000  0.000000   \n",
       "6  0.020179  0.000000  0.000000  ...     0.000000  0.000000  0.000000   \n",
       "7  0.000000  0.024582  0.000000  ...     0.000000  0.000000  0.000000   \n",
       "8  0.000000  0.000000  0.022712  ...     0.090847  0.000000  0.000000   \n",
       "9  0.000000  0.000000  0.000000  ...     0.000000  0.000000  0.046376   \n",
       "\n",
       "        xxi     yasky     yendo      york    zamora      zona      zoom  \n",
       "0  0.000000  0.078262  0.000000  0.000000  0.078262  0.000000  0.000000  \n",
       "1  0.000000  0.000000  0.000000  0.000000  0.000000  0.000000  0.000000  \n",
       "2  0.000000  0.000000  0.000000  0.000000  0.000000  0.000000  0.000000  \n",
       "3  0.000000  0.000000  0.000000  0.000000  0.000000  0.000000  0.000000  \n",
       "4  0.000000  0.000000  0.000000  0.000000  0.000000  0.000000  0.000000  \n",
       "5  0.019729  0.000000  0.014673  0.039458  0.000000  0.000000  0.000000  \n",
       "6  0.000000  0.000000  0.015007  0.000000  0.000000  0.040357  0.000000  \n",
       "7  0.000000  0.000000  0.018282  0.000000  0.000000  0.000000  0.024582  \n",
       "8  0.000000  0.000000  0.000000  0.000000  0.000000  0.000000  0.000000  \n",
       "9  0.000000  0.000000  0.000000  0.000000  0.000000  0.000000  0.000000  \n",
       "\n",
       "[10 rows x 3084 columns]"
      ]
     },
     "execution_count": 58,
     "metadata": {},
     "output_type": "execute_result"
    }
   ],
   "source": [
    "data_2"
   ]
  },
  {
   "cell_type": "code",
   "execution_count": 55,
   "metadata": {},
   "outputs": [
    {
     "data": {
      "image/png": "[encoded data removed]",
      "text/plain": [
       "<Figure size 432x288 with 1 Axes>"
      ]
     },
     "metadata": {
      "needs_background": "light"
     },
     "output_type": "display_data"
    }
   ],
   "source": [
    "import matplotlib.pyplot as plt\n",
    "import matplotlib.patches as mpatches\n",
    "from sklearn.decomposition import TruncatedSVD\n",
    "\n",
    "svd = TruncatedSVD(n_components=2);\n",
    "P = svd.fit_transform(Tfidf_encoding)\n",
    "\n",
    "plt.figure()\n",
    "\n",
    "for i in range(textos.shape[0]):\n",
    "    plt.annotate(textos['Categoria'].iloc[i][0],P[i])\n",
    "    \n",
    "    \n",
    "\n",
    "plt.xlabel('dimension 1')\n",
    "plt.ylabel('dimension 2')\n",
    "plt.axis([0, 1, -1, 1])\n",
    "plt.show()"
   ]
  },
  {
   "cell_type": "code",
   "execution_count": 56,
   "metadata": {},
   "outputs": [],
   "source": [
    "import numpy as np"
   ]
  },
  {
   "cell_type": "code",
   "execution_count": 57,
   "metadata": {},
   "outputs": [
    {
     "name": "stdout",
     "output_type": "stream",
     "text": [
      "Dimension 1:\n",
      "['para' 'como' 'cuando' 'hijo' 'pero' 'mama' 'bebe' 'vih' 'anos' 'tiempo'\n",
      " 'paola' 'vida' 'tiene' 'informacion' 'tenia' 'todo' 'despues' 'habia'\n",
      " 'padres' 'lucas' 'hija' 'medico' 'casa' 'hijos' 'obra' 'porque' 'dos'\n",
      " 'google' 'estaba' 'vez']\n",
      "Dimension 2:\n",
      "['kirchner' 'nacional' 'fernandez' 'alberto' 'sergio' 'sede' 'mesa'\n",
      " 'massa' 'cristina' 'ministro' 'pj' 'reunion' 'vicepresidenta'\n",
      " 'bonaerense' 'moyano' 'pablo' 'peronismo' 'santiago' 'elecciones'\n",
      " 'palazzo' 'justicialista' 'anabel' 'abel' 'axel' 'larroque' 'partido'\n",
      " 'mendoza' 'maximo' 'matheu' 'sagasti']\n"
     ]
    }
   ],
   "source": [
    "n = 30\n",
    "# coeficientes (pesos) de los términos en cada una de las dos dimensiones\n",
    "comp1,comp2 = svd.components_ \n",
    "\n",
    "# los ordenamos de menor a mayor y nos quedamos con los índices de sus posiciones en el array\n",
    "indices_1=np.argsort(comp1)\n",
    "indices_2=np.argsort(comp2)\n",
    "\n",
    "# invertimos para que queden ordenados de mayor a menor\n",
    "indices_1=indices_1[::-1] \n",
    "indices_2=indices_2[::-1]\n",
    "\n",
    "# Evaluamos los términos en estas posiciones\n",
    "print('Dimension 1:')\n",
    "print(np.array(vectorizer.get_feature_names_out())[indices_1[:n]])\n",
    "\n",
    "\n",
    "print('Dimension 2:')\n",
    "print(np.array(vectorizer.get_feature_names_out())[indices_2][:n])"
   ]
  }
 ],
 "metadata": {
  "kernelspec": {
   "display_name": "base",
   "language": "python",
   "name": "python3"
  },
  "language_info": {
   "codemirror_mode": {
    "name": "ipython",
    "version": 3
   },
   "file_extension": ".py",
   "mimetype": "text/x-python",
   "name": "python",
   "nbconvert_exporter": "python",
   "pygments_lexer": "ipython3",
   "version": "3.9.12"
  },
  "orig_nbformat": 4,
  "vscode": {
   "interpreter": {
    "hash": "499a1cf83386e9cdb50680be6c4b00d5e02a649406be4f417a406efedf754313"
   }
  }
 },
 "nbformat": 4,
 "nbformat_minor": 2
}
