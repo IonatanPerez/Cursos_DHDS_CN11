{
 "cells": [
  {
   "cell_type": "markdown",
   "id": "6d305f57-2896-437f-b33e-1e51acb85533",
   "metadata": {},
   "source": [
    "# Problema de ejemplo de uso\n",
    "\n",
    "Tenemos datos de la inflación mes a mes en termino porcentuales. Y tenemos la serie de precios correspondientes a cada mes de 6 productos. Queremos saber:\n",
    "\n",
    "- Si cada producto aumento su precio mas, igual o menos que la inflacion tomando los doce meses en su conjunto.\n",
    "- En que meses que productos aumentaron mas que la inflacion o menos. \n",
    "- Durante que periodos los productos tuvieron sus precios por debajo de lo que corresponderia segun la inflacion y cuales por encima. \n",
    "- Lo mismo para una canasta compuesta por: 10 producto 1, 1 producto 2, 500 productos 3, 5 productos 4, 0.25 producto 5 y 1200 productos 6 (este queda de ejecicio)\n",
    "\n",
    "![datos del problema](datos.png)"
   ]
  },
  {
   "cell_type": "code",
   "execution_count": 1,
   "id": "560b0bec-ee94-43bf-b242-d16eb8c8dbce",
   "metadata": {},
   "outputs": [],
   "source": [
    "# Lo primero que vamos a hacer es cargar los datos. No vamos a usar pandas porque hoy queremos limitarnos a numpy\n",
    "\n",
    "import numpy as np"
   ]
  },
  {
   "cell_type": "code",
   "execution_count": 2,
   "id": "b56f2b41-c8d1-4348-963e-c21e84ea916e",
   "metadata": {},
   "outputs": [
    {
     "data": {
      "text/plain": [
       "array([['', '', '', '', '', '', '', '', '', '', '', '', ''],\n",
       "       ['Mes', 'Enero', 'Febrero', 'Marzo', 'Abril', 'Mayo', 'Junio',\n",
       "        'Julio', 'Agosto', 'Septiembre', 'Octubre', 'Noviembre',\n",
       "        'Diciembre'],\n",
       "       ['Inflacion mensual (%)', '1', '1.5', '3', '2.3', '2', '1.9',\n",
       "        '1.8', '2.5', '1', '0.5', '1', '1.1'],\n",
       "       ['Producto 1', '123', '124.845', '129.8388', '132.8250924',\n",
       "        '135.4815942', '139.4105605', '144.7081618', '148.3258658',\n",
       "        '152.7756418', '153.53952', '158.1457056', '163.0482225'],\n",
       "       ['Producto 2', '5563', '5646.445', '5759.3739', '5891.8395',\n",
       "        '5950.757895', '6004.314716', '6172.435528', '6265.022061',\n",
       "        '6327.672281', '6296.03392', '6296.03392', '6428.250632'],\n",
       "       ['Producto 3', '12.4', '12.586', '12.83772', '13.00461036',\n",
       "        '13.13465646', '13.25286837', '13.49142', '13.8287055',\n",
       "        '13.8287055', '13.89784903', '13.89784903', '14.05072537'],\n",
       "       ['Producto 4', '108', '106.38', '104.2524', '111.8628252',\n",
       "        '104.0324274', '102.8880707', '115.0288631', '121.3554506',\n",
       "        '120.141896', '114.7355107', '125.0617067', '117.683066'],\n",
       "       ['Pruducto 5', '13234', '14094.21', '14376.0942', '15569.31002',\n",
       "        '16347.77552', '16331.42774', '16625.39344', '17706.04402',\n",
       "        '17528.98358', '19018.94718', '20540.46296', '21177.21731'],\n",
       "       ['Producto 6', '3', '3.045', '3.045', '3.145485', '3.11403015',\n",
       "        '3.204337024', '3.326101831', '3.475776414', '3.406260885',\n",
       "        '3.321104363', '3.321104363', '3.357636511']], dtype='<U21')"
      ]
     },
     "execution_count": 2,
     "metadata": {},
     "output_type": "execute_result"
    }
   ],
   "source": [
    "filename = \"./C3-Ejemplo.csv\"\n",
    "\n",
    "data_cruda = np.genfromtxt(filename, delimiter=',', dtype = str) # Notar que si no ponemos el separador correcto tira error. Y si no ponemos dtype lee todo como vacio.\n",
    "\n",
    "data_cruda"
   ]
  },
  {
   "cell_type": "code",
   "execution_count": 17,
   "id": "4ffe8f9a-f062-4827-9ab5-fddc1514a440",
   "metadata": {},
   "outputs": [
    {
     "data": {
      "text/plain": [
       "array(['Enero', 'Febrero', 'Marzo', 'Abril', 'Mayo', 'Junio', 'Julio',\n",
       "       'Agosto', 'Septiembre', 'Octubre', 'Noviembre', 'Diciembre'],\n",
       "      dtype='<U21')"
      ]
     },
     "metadata": {},
     "output_type": "display_data"
    },
    {
     "data": {
      "text/plain": [
       "array(['Producto 1', 'Producto 2', 'Producto 3', 'Producto 4',\n",
       "       'Pruducto 5', 'Producto 6'], dtype='<U21')"
      ]
     },
     "metadata": {},
     "output_type": "display_data"
    },
    {
     "data": {
      "text/plain": [
       "array([1. , 1.5, 3. , 2.3, 2. , 1.9, 1.8, 2.5, 1. , 0.5, 1. , 1.1])"
      ]
     },
     "metadata": {},
     "output_type": "display_data"
    },
    {
     "data": {
      "text/plain": [
       "array([[  123.        ,   124.845     ,   129.8388    ,   132.8250924 ,\n",
       "          135.4815942 ,   139.4105605 ,   144.7081618 ,   148.3258658 ,\n",
       "          152.7756418 ,   153.53952   ,   158.1457056 ,   163.0482225 ],\n",
       "       [ 5563.        ,  5646.445     ,  5759.3739    ,  5891.8395    ,\n",
       "         5950.757895  ,  6004.314716  ,  6172.435528  ,  6265.022061  ,\n",
       "         6327.672281  ,  6296.03392   ,  6296.03392   ,  6428.250632  ],\n",
       "       [   12.4       ,    12.586     ,    12.83772   ,    13.00461036,\n",
       "           13.13465646,    13.25286837,    13.49142   ,    13.8287055 ,\n",
       "           13.8287055 ,    13.89784903,    13.89784903,    14.05072537],\n",
       "       [  108.        ,   106.38      ,   104.2524    ,   111.8628252 ,\n",
       "          104.0324274 ,   102.8880707 ,   115.0288631 ,   121.3554506 ,\n",
       "          120.141896  ,   114.7355107 ,   125.0617067 ,   117.683066  ],\n",
       "       [13234.        , 14094.21      , 14376.0942    , 15569.31002   ,\n",
       "        16347.77552   , 16331.42774   , 16625.39344   , 17706.04402   ,\n",
       "        17528.98358   , 19018.94718   , 20540.46296   , 21177.21731   ],\n",
       "       [    3.        ,     3.045     ,     3.045     ,     3.145485  ,\n",
       "            3.11403015,     3.20433702,     3.32610183,     3.47577641,\n",
       "            3.40626089,     3.32110436,     3.32110436,     3.35763651]])"
      ]
     },
     "metadata": {},
     "output_type": "display_data"
    },
    {
     "data": {
      "text/plain": [
       "array([[  123.        ,   124.845     ,   129.8388    ,   132.8250924 ,\n",
       "          135.4815942 ,   139.4105605 ,   144.7081618 ,   148.3258658 ,\n",
       "          152.7756418 ,   153.53952   ,   158.1457056 ,   163.0482225 ],\n",
       "       [ 5563.        ,  5646.445     ,  5759.3739    ,  5891.8395    ,\n",
       "         5950.757895  ,  6004.314716  ,  6172.435528  ,  6265.022061  ,\n",
       "         6327.672281  ,  6296.03392   ,  6296.03392   ,  6428.250632  ],\n",
       "       [   12.4       ,    12.586     ,    12.83772   ,    13.00461036,\n",
       "           13.13465646,    13.25286837,    13.49142   ,    13.8287055 ,\n",
       "           13.8287055 ,    13.89784903,    13.89784903,    14.05072537],\n",
       "       [  108.        ,   106.38      ,   104.2524    ,   111.8628252 ,\n",
       "          104.0324274 ,   102.8880707 ,   115.0288631 ,   121.3554506 ,\n",
       "          120.141896  ,   114.7355107 ,   125.0617067 ,   117.683066  ],\n",
       "       [13234.        , 14094.21      , 14376.0942    , 15569.31002   ,\n",
       "        16347.77552   , 16331.42774   , 16625.39344   , 17706.04402   ,\n",
       "        17528.98358   , 19018.94718   , 20540.46296   , 21177.21731   ],\n",
       "       [    3.        ,     3.045     ,     3.045     ,     3.145485  ,\n",
       "            3.11403015,     3.20433702,     3.32610183,     3.47577641,\n",
       "            3.40626089,     3.32110436,     3.32110436,     3.35763651]])"
      ]
     },
     "metadata": {},
     "output_type": "display_data"
    }
   ],
   "source": [
    "# Mirando los datos vamos a separar la parte de etiquetas que son texto de los numeros. Y los numeros los vamos a transformar a ese tipo.\n",
    "\n",
    "etiqueta_meses = data_cruda[1,1:]\n",
    "display (etiqueta_meses)\n",
    "\n",
    "etiqueta_productos = data_cruda[3:,0]\n",
    "display (etiqueta_productos)\n",
    "\n",
    "serie_inflacion_mensual = data_cruda[2,1:].astype(float)\n",
    "display (serie_inflacion_mensual)\n",
    "\n",
    "precios = data_cruda[3:,1:].astype(float)\n",
    "display (precios)\n",
    "\n",
    "# Con https://numpy.org/doc/stable/reference/generated/numpy.set_printoptions.html podemos configurar como se imprime. Vamos a sacarle el punto flotante.\n",
    "\n",
    "np.set_printoptions(suppress=True)\n",
    "display (precios)\n"
   ]
  },
  {
   "cell_type": "markdown",
   "id": "18a1b503-9c0a-48bc-8b5a-aabd889db367",
   "metadata": {},
   "source": [
    "# Pensar la matematica que necesitamos resolver\n",
    "\n",
    "Tenemos la inflacion mes a mes en termino porcentuales. Si en un periodo hay 5% de inflacion y el precio original de algo es X entonces al finalizar el periodo la cuenta que debemos hacer es $X_f = X_i \\cdot (\\frac{5}{100} + 1 )$ Y debemos repetir esa cuenta tomando en cada periodo el resultado del periodo anterior.\n",
    "\n",
    "Veamos como hacer esa transformacion con y cuenta de forma piola con numpy"
   ]
  },
  {
   "cell_type": "code",
   "execution_count": 27,
   "id": "e4570065-fa21-49c2-875e-160fe08b30a9",
   "metadata": {},
   "outputs": [
    {
     "data": {
      "text/plain": [
       "array([1.01 , 1.015, 1.03 , 1.023, 1.02 , 1.019, 1.018, 1.025, 1.01 ,\n",
       "       1.005, 1.01 , 1.011])"
      ]
     },
     "metadata": {},
     "output_type": "display_data"
    },
    {
     "data": {
      "text/plain": [
       "array([1.   , 1.015, 1.03 , 1.023, 1.02 , 1.019, 1.018, 1.025, 1.01 ,\n",
       "       1.005, 1.01 , 1.011])"
      ]
     },
     "metadata": {},
     "output_type": "display_data"
    },
    {
     "name": "stdout",
     "output_type": "stream",
     "text": [
      "1.0\n",
      "1.015\n",
      "1.04545\n",
      "1.06949535\n",
      "1.090885257\n",
      "1.111612076883\n",
      "1.131621094266894\n",
      "1.1599116216235663\n",
      "1.171510737839802\n",
      "1.177368291529001\n",
      "1.189141974444291\n",
      "1.2022225361631782\n"
     ]
    },
    {
     "data": {
      "text/plain": [
       "array([1.        , 1.015     , 1.04545   , 1.06949535, 1.09088526,\n",
       "       1.11161208, 1.13162109, 1.15991162, 1.17151074, 1.17736829,\n",
       "       1.18914197, 1.20222254])"
      ]
     },
     "metadata": {},
     "output_type": "display_data"
    }
   ],
   "source": [
    "inflacion_multiplicativa = serie_inflacion_mensual/100 + 1 # Aca entra en juego el tema de broadcasting. Como dividimos un vector por un numero divide elemento a elemento (esto no funciona con listas), y lo mismo al sumar un numero\n",
    "display (inflacion_multiplicativa)\n",
    "\n",
    "# De esta serie vamos a formzar el primer valor porque es el valor de referencia y no tenemos valor de los productos antes de ese periodo. Tiene sentido que el precio relativo al iniciar la serie sea 1\n",
    "inflacion_multiplicativa[0] = 1\n",
    "display (inflacion_multiplicativa)\n",
    "\n",
    "# Podemos implementarlo a mano:\n",
    "valor = 1\n",
    "for factor in inflacion_multiplicativa:\n",
    "    valor = valor * factor\n",
    "    print (valor)\n",
    "    \n",
    "# Pero numpy tiene eso resuelto\n",
    "inflacion_acumulada = inflacion_multiplicativa.cumprod()\n",
    "display (inflacion_acumulada)"
   ]
  },
  {
   "cell_type": "markdown",
   "id": "ddc2aa86-9e0f-4d6b-ad0d-e223d91fe48c",
   "metadata": {},
   "source": [
    "## Como responder la primer pregunta\n",
    "\n",
    "Queremos saber cual hubiese sido el precio del producto 1 si hubiese incrementado su precio segun la inflacion.\n",
    "\n",
    "Para eso el primer mes tenemos que multiplicar el precio 123 por 1,01 el segundo por 1.02515 y asi... Con esa cuenta tenemos cuanto deberia costar el producto cada mes si siguiera la inflacion, y despues hay que comparar con la variacion real del precio.\n"
   ]
  },
  {
   "cell_type": "code",
   "execution_count": 36,
   "id": "f834709b-a666-41c3-a121-b3bb9e1cbe0a",
   "metadata": {},
   "outputs": [
    {
     "data": {
      "text/plain": [
       "array([123.       , 124.845    , 129.8388   , 132.8250924, 135.4815942,\n",
       "       139.4105605, 144.7081618, 148.3258658, 152.7756418, 153.53952  ,\n",
       "       158.1457056, 163.0482225])"
      ]
     },
     "metadata": {},
     "output_type": "display_data"
    },
    {
     "name": "stdout",
     "output_type": "stream",
     "text": [
      "[123.         124.845      128.59035    131.54792805 134.17888661\n",
      " 136.72828546 139.18939459 142.66912946 144.09582075 144.81629986\n",
      " 146.26446286 147.87337195]\n",
      "La inflacion acumulada de todo el periodo segun el indice de inflación es 20.22%\n",
      "La inflacion acumulada de todo el periodo para el producto 1 es 32.56%\n"
     ]
    }
   ],
   "source": [
    "precio_prod1 = precios[0]\n",
    "display (precio_prod1)\n",
    "\n",
    "precio_teorico_prod1 = precios[0,0] * inflacion_acumulada\n",
    "print (precio_teorico_prod1)\n",
    "\n",
    "\n",
    "# Si queremos saber la inflacion acumulada en todo el periodo lo que hay que hacer es dividir el precio final de las cosas sobre el del primer mes\n",
    "\n",
    "print (f'La inflacion acumulada de todo el periodo segun el indice de inflación es {(inflacion_acumulada[-1] - 1) * 100:.2f}%') # Aca no dividimos por uno porque es redundante\n",
    "print (f'La inflacion acumulada de todo el periodo para el producto 1 es {(precio_prod1[-1]/precio_prod1[0] - 1) * 100:.2f}%') \n",
    "\n",
    "# Vemos que el producto 1 subio por encima de la inflacion. "
   ]
  },
  {
   "cell_type": "code",
   "execution_count": 37,
   "id": "abbabaad-6ba2-4192-b66a-6a34e0a39e31",
   "metadata": {},
   "outputs": [
    {
     "name": "stdout",
     "output_type": "stream",
     "text": [
      "La inflacion acumulada de todo el periodo segun el indice de inflación es 20.22%\n",
      "El producto Producto 1 aumento por encima de la inflación\n",
      "El producto Producto 2 aumento por debajo de la inflación\n",
      "El producto Producto 3 aumento por debajo de la inflación\n",
      "El producto Producto 4 aumento por debajo de la inflación\n",
      "El producto Pruducto 5 aumento por encima de la inflación\n",
      "El producto Producto 6 aumento por debajo de la inflación\n"
     ]
    }
   ],
   "source": [
    "valor_referencia = (inflacion_acumulada[-1] - 1) * 100\n",
    "print (f'La inflacion acumulada de todo el periodo segun el indice de inflación es {valor_referencia:.2f}%') # Aplicamos formato para que muestre dos decimales\n",
    "# Buscamos el indice para el cociente de los precios reales\n",
    "#display (precios[:,-1]/precios[:,0])\n",
    "for nombre, aumento in zip(etiqueta_productos, precios[:,-1]/precios[:,0]):\n",
    "    #print (f'La inflacion acumulada de todo el periodo para {nombre} es {(aumento - 1) * 100:.2f}%') \n",
    "    if aumento > inflacion_acumulada[-1]:\n",
    "        print (f'El producto {nombre} aumento por encima de la inflación')\n",
    "    else:\n",
    "        print (f'El producto {nombre} aumento por debajo de la inflación')"
   ]
  },
  {
   "cell_type": "markdown",
   "id": "d9d6b6f9-5441-40fe-b530-dde2503c21ba",
   "metadata": {},
   "source": [
    "Vamos ahora a responder la pregunta 3, es decir, queremos saber que meses los precios de los productos obervados se mantienen por encima o por debajo de lo que deberian valor si hubiesen acompañado a la inflación.\n",
    "\n",
    "Para eso tenemos que tomar el precio inicial de cada producto, calcular cuanto deberian valer mes a mes segun la inflacion y comparar con el valor real. Comparar esos dos valores e informar en que meses fue menor y cuales mayor."
   ]
  },
  {
   "cell_type": "code",
   "execution_count": 56,
   "id": "b07c399c-4558-4cfb-bfdd-004f84ac4196",
   "metadata": {},
   "outputs": [
    {
     "data": {
      "text/plain": [
       "(6,)"
      ]
     },
     "metadata": {},
     "output_type": "display_data"
    },
    {
     "data": {
      "text/plain": [
       "(12,)"
      ]
     },
     "metadata": {},
     "output_type": "display_data"
    },
    {
     "data": {
      "text/plain": [
       "array([  123. ,  5563. ,    12.4,   108. , 13234. ,     3. ])"
      ]
     },
     "metadata": {},
     "output_type": "display_data"
    },
    {
     "data": {
      "text/plain": [
       "array([[  123. ],\n",
       "       [ 5563. ],\n",
       "       [   12.4],\n",
       "       [  108. ],\n",
       "       [13234. ],\n",
       "       [    3. ]])"
      ]
     },
     "metadata": {},
     "output_type": "display_data"
    },
    {
     "data": {
      "text/plain": [
       "array([[  123.        ,   124.845     ,   128.59035   ,   131.54792805,\n",
       "          134.17888661,   136.72828546,   139.18939459,   142.66912946,\n",
       "          144.09582075,   144.81629986,   146.26446286,   147.87337195],\n",
       "       [ 5563.        ,  5646.445     ,  5815.83835   ,  5949.60263205,\n",
       "         6068.59468469,  6183.8979837 ,  6295.20814741,  6452.58835109,\n",
       "         6517.1142346 ,  6549.69980578,  6615.19680383,  6687.96396868],\n",
       "       [   12.4       ,    12.586     ,    12.96358   ,    13.26174234,\n",
       "           13.52697719,    13.78398975,    14.03210157,    14.38290411,\n",
       "           14.52673315,    14.59936681,    14.74536048,    14.90755945],\n",
       "       [  108.        ,   109.62      ,   112.9086    ,   115.5054978 ,\n",
       "          117.81560776,   120.0541043 ,   122.21507818,   125.27045514,\n",
       "          126.52315969,   127.15577549,   128.42733324,   129.84003391],\n",
       "       [13234.        , 13432.51      , 13835.4853    , 14153.7014619 ,\n",
       "        14436.77549114, 14711.07422547, 14975.87356153, 15350.27040057,\n",
       "        15503.77310457, 15581.29197009, 15737.1048898 , 15910.21304358],\n",
       "       [    3.        ,     3.045     ,     3.13635   ,     3.20848605,\n",
       "            3.27265577,     3.33483623,     3.39486328,     3.47973486,\n",
       "            3.51453221,     3.53210487,     3.56742592,     3.60666761]])"
      ]
     },
     "metadata": {},
     "output_type": "display_data"
    }
   ],
   "source": [
    "# Para empezar queremos tomar los precios iniciales de cada producto y multiplicar cada uno de ellos por toda la serie de inflacion. \n",
    "# Veamos las dimencionalidades de los elementos que queremos multiplicar\n",
    "display (precios[:,0].shape)\n",
    "display (inflacion_acumulada.shape)\n",
    "# precios[:,0]*inflacion_acumulada\n",
    "# No sirve, queremos que uno sea de 1x6 y el otro de 12x1 para que nos quede una cosa de 12x6 que es el precio los doce meses de los 6 productos\n",
    "\n",
    "# https://stackoverflow.com/questions/36384760/transforming-a-row-vector-into-a-column-vector-in-numpy\n",
    "\n",
    "display (precios[:,0])\n",
    "display (precios[:,0].reshape(-1,1))\n",
    "precios_teoricos = precios[:,0].reshape(-1,1) * inflacion_acumulada\n",
    "display (precios_teoricos)"
   ]
  },
  {
   "cell_type": "code",
   "execution_count": 60,
   "id": "57e51070-c9bd-4748-b6cf-a7afde8a12c8",
   "metadata": {},
   "outputs": [
    {
     "data": {
      "text/plain": [
       "array([[False,  True,  True,  True,  True,  True,  True,  True,  True,\n",
       "         True,  True,  True],\n",
       "       [False, False, False, False, False, False, False, False, False,\n",
       "        False, False, False],\n",
       "       [False,  True, False, False, False, False, False, False, False,\n",
       "        False, False, False],\n",
       "       [False, False, False, False, False, False, False, False, False,\n",
       "        False, False, False],\n",
       "       [False,  True,  True,  True,  True,  True,  True,  True,  True,\n",
       "         True,  True,  True],\n",
       "       [False, False, False, False, False, False, False, False, False,\n",
       "        False, False, False]])"
      ]
     },
     "metadata": {},
     "output_type": "display_data"
    },
    {
     "data": {
      "text/plain": [
       "array([[1.        , 1.        , 0.99038462, 0.99038462, 0.99038462,\n",
       "        0.98075989, 0.96186278, 0.96186278, 0.94318583, 0.94318583,\n",
       "        0.92487154, 0.90693029],\n",
       "       [1.        , 1.        , 1.00980392, 1.00980392, 1.01980198,\n",
       "        1.02990904, 1.01989047, 1.02993865, 1.02993865, 1.04028979,\n",
       "        1.05069269, 1.04040187],\n",
       "       [1.        , 1.        , 1.00980392, 1.01977237, 1.02986913,\n",
       "        1.04007596, 1.04007596, 1.04007596, 1.05047672, 1.05047672,\n",
       "        1.06098148, 1.06098148],\n",
       "       [1.        , 1.03045685, 1.08303118, 1.03256375, 1.13248927,\n",
       "        1.16684183, 1.06247315, 1.03226064, 1.05311439, 1.10825127,\n",
       "        1.02691173, 1.10330261],\n",
       "       [1.        , 0.95305164, 0.96239529, 0.90907699, 0.88310336,\n",
       "        0.90078311, 0.90078311, 0.86695088, 0.88446504, 0.81925102,\n",
       "        0.76615142, 0.75128912],\n",
       "       [1.        , 1.        , 1.03      , 1.02002904, 1.05093901,\n",
       "        1.04072581, 1.02067329, 1.00113887, 1.03178598, 1.06353324,\n",
       "        1.07416857, 1.07416857]])"
      ]
     },
     "metadata": {},
     "output_type": "display_data"
    }
   ],
   "source": [
    "# Ahora vamos a comparar\n",
    "\n",
    "precio_producto_atrasado = precios_teoricos < precios\n",
    "\n",
    "display (precio_producto_atrasado)\n",
    "\n",
    "# Tambien podriamos ver el nivel de atraso\n",
    "\n",
    "atraso_productos = precios_teoricos / precios\n",
    "display (atraso_productos)\n",
    "\n",
    "\n",
    "# Notar que el 1 es engañoso!!! Eso es porque si hay una diferencia muy sutil puede haber cuestiones de redondeo!"
   ]
  },
  {
   "cell_type": "code",
   "execution_count": 74,
   "id": "18a59536-6cc6-4cc5-8eb9-94cf21377ccb",
   "metadata": {},
   "outputs": [
    {
     "name": "stdout",
     "output_type": "stream",
     "text": [
      "0\n",
      "[False  True  True  True  True  True  True  True  True  True  True  True]\n",
      "['Febrero' 'Marzo' 'Abril' 'Mayo' 'Junio' 'Julio' 'Agosto' 'Septiembre'\n",
      " 'Octubre' 'Noviembre' 'Diciembre']\n",
      "1\n",
      "[False False False False False False False False False False False False]\n",
      "[]\n",
      "2\n",
      "[False  True False False False False False False False False False False]\n",
      "['Febrero']\n",
      "3\n",
      "[False False False False False False False False False False False False]\n",
      "[]\n",
      "4\n",
      "[False  True  True  True  True  True  True  True  True  True  True  True]\n",
      "['Febrero' 'Marzo' 'Abril' 'Mayo' 'Junio' 'Julio' 'Agosto' 'Septiembre'\n",
      " 'Octubre' 'Noviembre' 'Diciembre']\n",
      "5\n",
      "[False False False False False False False False False False False False]\n",
      "[]\n"
     ]
    }
   ],
   "source": [
    "# Vamos a reportar los meses en que hubo atraso para cada producto\n",
    "\n",
    "for i, nombre in enumerate(etiqueta_productos):\n",
    "    print (i)\n",
    "    mascara = precio_producto_atrasado[i]\n",
    "    print (mascara)\n",
    "    print (etiqueta_meses[mascara])\n",
    "    #for mes in etiqueta_meses[mascara]:\n",
    "    #    print (f'Tomando como referencia el mes de enero, el mes {mes} el producto {nombre} mantuvo su precio retrasado respecto a la inflación')"
   ]
  },
  {
   "cell_type": "code",
   "execution_count": 72,
   "id": "3919a19e-d21c-42e6-a05c-366e2f82ef9d",
   "metadata": {},
   "outputs": [
    {
     "name": "stdout",
     "output_type": "stream",
     "text": [
      "[2 4]\n"
     ]
    }
   ],
   "source": [
    "lista = [1,2,3,4]\n",
    "lista = np.array(lista)\n",
    "print (lista[[False, True, False,True]])"
   ]
  }
 ],
 "metadata": {
  "kernelspec": {
   "display_name": "Python 3 (ipykernel)",
   "language": "python",
   "name": "python3"
  },
  "language_info": {
   "codemirror_mode": {
    "name": "ipython",
    "version": 3
   },
   "file_extension": ".py",
   "mimetype": "text/x-python",
   "name": "python",
   "nbconvert_exporter": "python",
   "pygments_lexer": "ipython3",
   "version": "3.9.12"
  }
 },
 "nbformat": 4,
 "nbformat_minor": 5
}
