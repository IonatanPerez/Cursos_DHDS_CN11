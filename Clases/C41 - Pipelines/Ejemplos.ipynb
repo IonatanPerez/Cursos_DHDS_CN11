{
 "cells": [
  {
   "cell_type": "markdown",
   "metadata": {},
   "source": [
    "# Clases\n",
    "\n",
    "Vamos a hacer una revision rapida de lo que es una clase."
   ]
  },
  {
   "cell_type": "code",
   "execution_count": 1,
   "metadata": {},
   "outputs": [],
   "source": [
    "from datetime import datetime\n",
    "\n",
    "class Animal():\n",
    "\n",
    "    def __init__(self):\n",
    "        self.born_time = datetime.now()\n",
    "\n",
    "\n"
   ]
  },
  {
   "cell_type": "code",
   "execution_count": 2,
   "metadata": {},
   "outputs": [
    {
     "data": {
      "text/plain": [
       "datetime.datetime(2022, 5, 9, 17, 9, 25, 826607)"
      ]
     },
     "execution_count": 2,
     "metadata": {},
     "output_type": "execute_result"
    }
   ],
   "source": [
    "perro = Animal()\n",
    "\n",
    "perro.born_time"
   ]
  },
  {
   "cell_type": "code",
   "execution_count": 3,
   "metadata": {},
   "outputs": [],
   "source": [
    "from datetime import datetime\n",
    "\n",
    "class Animal():\n",
    "\n",
    "    def __init__(self):\n",
    "        self.born_time = datetime.now()\n",
    "\n",
    "    def edad(self):\n",
    "        return datetime.now() - self.born_time"
   ]
  },
  {
   "cell_type": "code",
   "execution_count": 4,
   "metadata": {},
   "outputs": [
    {
     "name": "stdout",
     "output_type": "stream",
     "text": [
      "2022-05-09 17:09:25.826607\n",
      "2022-05-09 17:09:26.057626\n"
     ]
    }
   ],
   "source": [
    "perro2 = Animal()\n",
    "\n",
    "print (perro.born_time)\n",
    "print (perro2.born_time)\n"
   ]
  },
  {
   "cell_type": "code",
   "execution_count": 5,
   "metadata": {},
   "outputs": [
    {
     "name": "stdout",
     "output_type": "stream",
     "text": [
      "0:00:00.187015\n"
     ]
    }
   ],
   "source": [
    "#print (perro.edad())\n",
    "print (perro2.edad())"
   ]
  },
  {
   "cell_type": "code",
   "execution_count": 38,
   "metadata": {},
   "outputs": [],
   "source": [
    "from datetime import datetime\n",
    "\n",
    "class Animal():\n",
    "\n",
    "    def __init__(self):\n",
    "        self.born_time = datetime.now()\n",
    "\n",
    "    def calculo_edad(self):\n",
    "        return datetime.now() - self.born_time\n",
    "\n",
    "    def edad(self,unidad=\"s\"):\n",
    "        if not unidad in [\"s\",\"m\",\"h\"]:\n",
    "            raise TypeError(\"Las únicas unidades soportadas son: s por segundos, m por minutos, h por horas.\")\n",
    "        if unidad == \"s\":\n",
    "            print (f\"{self.calculo_edad().seconds} segundos\")\n",
    "        if unidad == \"m\":\n",
    "            delta = self.calculo_edad()\n",
    "            mins = delta.seconds // 60\n",
    "            segundos = delta.seconds % 60\n",
    "            print (f\"{mins} minutos, {segundos} segundos\")\n",
    "        if unidad == \"h\":\n",
    "            delta = self.calculo_edad()\n",
    "            horas = delta.seconds // 3600\n",
    "            minutos_restantes = delta.seconds % 3600\n",
    "            mins = minutos_restantes // 60\n",
    "            segundos = minutos_restantes % 60\n",
    "            print (f\"{horas} horas, {mins} minutos, {segundos} segundos\")\n",
    "\n",
    "\n",
    "\n",
    "perro3 = Animal()"
   ]
  },
  {
   "cell_type": "code",
   "execution_count": 59,
   "metadata": {},
   "outputs": [],
   "source": [
    "from datetime import datetime\n",
    "\n",
    "class Animal():\n",
    "\n",
    "    def __init__(self):\n",
    "        self.born_time = datetime.now()\n",
    "\n",
    "    def calculo_edad(self):\n",
    "        return datetime.now() - self.born_time\n",
    "\n",
    "    def edad(self,unidad=\"s\"):\n",
    "        if not unidad in [\"s\",\"m\",\"h\"]:\n",
    "            raise TypeError(\"Las únicas unidades soportadas son: s por segundos, m por minutos, h por horas.\")\n",
    "        if unidad == \"s\":\n",
    "            print (f\"{self.calculo_edad().seconds} segundos\")\n",
    "        if unidad == \"m\":\n",
    "            delta = self.calculo_edad()\n",
    "            mins = delta.seconds // 60\n",
    "            segundos = delta.seconds % 60\n",
    "            print (f\"{mins} minutos, {segundos} segundos\")\n",
    "        if unidad == \"h\":\n",
    "            delta = self.calculo_edad()\n",
    "            horas = delta.seconds // 3600\n",
    "            minutos_restantes = delta.seconds % 3600\n",
    "            mins = minutos_restantes // 60\n",
    "            segundos = minutos_restantes % 60\n",
    "            print (f\"{horas} horas, {mins} minutos, {segundos} segundos\")\n",
    "\n",
    "    def conocer_tipo_oreja(self):\n",
    "        if not hasattr(self,\"tipo_oreja\"):\n",
    "            print (\"Este animal no tiene orejas.\")\n",
    "        else:\n",
    "            print (f\"Este animal tiene orejas de tipo {self.tipo_oreja}\")\n",
    "\n",
    "animal_desconocido = Animal()"
   ]
  },
  {
   "cell_type": "code",
   "execution_count": 44,
   "metadata": {},
   "outputs": [
    {
     "name": "stdout",
     "output_type": "stream",
     "text": [
      "Este animal no tiene orejas.\n"
     ]
    }
   ],
   "source": [
    "animal_desconocido.conocer_tipo_oreja()"
   ]
  },
  {
   "cell_type": "code",
   "execution_count": 52,
   "metadata": {},
   "outputs": [],
   "source": [
    "class Gato(Animal):\n",
    "    pass\n",
    "\n",
    "gato1 = Gato()"
   ]
  },
  {
   "cell_type": "code",
   "execution_count": 50,
   "metadata": {},
   "outputs": [
    {
     "name": "stdout",
     "output_type": "stream",
     "text": [
      "1 segundos\n"
     ]
    }
   ],
   "source": [
    "gato1.edad()"
   ]
  },
  {
   "cell_type": "code",
   "execution_count": 53,
   "metadata": {},
   "outputs": [],
   "source": [
    "class Gato(Animal):\n",
    "    def __init__(self,nombre=None):\n",
    "        self.nombre = nombre\n",
    "        self.tipo_oreja = \"Puntiaguda\"\n",
    "\n",
    "\n",
    "gato2 = Gato()"
   ]
  },
  {
   "cell_type": "code",
   "execution_count": 54,
   "metadata": {},
   "outputs": [
    {
     "ename": "AttributeError",
     "evalue": "'Gato' object has no attribute 'born_time'",
     "output_type": "error",
     "traceback": [
      "\u001b[1;31m---------------------------------------------------------------------------\u001b[0m",
      "\u001b[1;31mAttributeError\u001b[0m                            Traceback (most recent call last)",
      "\u001b[1;32m~\\AppData\\Local\\Temp/ipykernel_8264/230947233.py\u001b[0m in \u001b[0;36m<module>\u001b[1;34m\u001b[0m\n\u001b[1;32m----> 1\u001b[1;33m \u001b[0mgato2\u001b[0m\u001b[1;33m.\u001b[0m\u001b[0medad\u001b[0m\u001b[1;33m(\u001b[0m\u001b[1;33m)\u001b[0m\u001b[1;33m\u001b[0m\u001b[1;33m\u001b[0m\u001b[0m\n\u001b[0m",
      "\u001b[1;32m~\\AppData\\Local\\Temp/ipykernel_8264/2213185256.py\u001b[0m in \u001b[0;36medad\u001b[1;34m(self, unidad)\u001b[0m\n\u001b[0;32m     13\u001b[0m             \u001b[1;32mraise\u001b[0m \u001b[0mTypeError\u001b[0m\u001b[1;33m(\u001b[0m\u001b[1;34m\"Las únicas unidades soportadas son: s por segundos, m por minutos, h por horas.\"\u001b[0m\u001b[1;33m)\u001b[0m\u001b[1;33m\u001b[0m\u001b[1;33m\u001b[0m\u001b[0m\n\u001b[0;32m     14\u001b[0m         \u001b[1;32mif\u001b[0m \u001b[0munidad\u001b[0m \u001b[1;33m==\u001b[0m \u001b[1;34m\"s\"\u001b[0m\u001b[1;33m:\u001b[0m\u001b[1;33m\u001b[0m\u001b[1;33m\u001b[0m\u001b[0m\n\u001b[1;32m---> 15\u001b[1;33m             \u001b[0mprint\u001b[0m \u001b[1;33m(\u001b[0m\u001b[1;34mf\"{self.calculo_edad().seconds} segundos\"\u001b[0m\u001b[1;33m)\u001b[0m\u001b[1;33m\u001b[0m\u001b[1;33m\u001b[0m\u001b[0m\n\u001b[0m\u001b[0;32m     16\u001b[0m         \u001b[1;32mif\u001b[0m \u001b[0munidad\u001b[0m \u001b[1;33m==\u001b[0m \u001b[1;34m\"m\"\u001b[0m\u001b[1;33m:\u001b[0m\u001b[1;33m\u001b[0m\u001b[1;33m\u001b[0m\u001b[0m\n\u001b[0;32m     17\u001b[0m             \u001b[0mdelta\u001b[0m \u001b[1;33m=\u001b[0m \u001b[0mself\u001b[0m\u001b[1;33m.\u001b[0m\u001b[0mcalculo_edad\u001b[0m\u001b[1;33m(\u001b[0m\u001b[1;33m)\u001b[0m\u001b[1;33m\u001b[0m\u001b[1;33m\u001b[0m\u001b[0m\n",
      "\u001b[1;32m~\\AppData\\Local\\Temp/ipykernel_8264/2213185256.py\u001b[0m in \u001b[0;36mcalculo_edad\u001b[1;34m(self)\u001b[0m\n\u001b[0;32m      7\u001b[0m \u001b[1;33m\u001b[0m\u001b[0m\n\u001b[0;32m      8\u001b[0m     \u001b[1;32mdef\u001b[0m \u001b[0mcalculo_edad\u001b[0m\u001b[1;33m(\u001b[0m\u001b[0mself\u001b[0m\u001b[1;33m)\u001b[0m\u001b[1;33m:\u001b[0m\u001b[1;33m\u001b[0m\u001b[1;33m\u001b[0m\u001b[0m\n\u001b[1;32m----> 9\u001b[1;33m         \u001b[1;32mreturn\u001b[0m \u001b[0mdatetime\u001b[0m\u001b[1;33m.\u001b[0m\u001b[0mnow\u001b[0m\u001b[1;33m(\u001b[0m\u001b[1;33m)\u001b[0m \u001b[1;33m-\u001b[0m \u001b[0mself\u001b[0m\u001b[1;33m.\u001b[0m\u001b[0mborn_time\u001b[0m\u001b[1;33m\u001b[0m\u001b[1;33m\u001b[0m\u001b[0m\n\u001b[0m\u001b[0;32m     10\u001b[0m \u001b[1;33m\u001b[0m\u001b[0m\n\u001b[0;32m     11\u001b[0m     \u001b[1;32mdef\u001b[0m \u001b[0medad\u001b[0m\u001b[1;33m(\u001b[0m\u001b[0mself\u001b[0m\u001b[1;33m,\u001b[0m\u001b[0munidad\u001b[0m\u001b[1;33m=\u001b[0m\u001b[1;34m\"s\"\u001b[0m\u001b[1;33m)\u001b[0m\u001b[1;33m:\u001b[0m\u001b[1;33m\u001b[0m\u001b[1;33m\u001b[0m\u001b[0m\n",
      "\u001b[1;31mAttributeError\u001b[0m: 'Gato' object has no attribute 'born_time'"
     ]
    }
   ],
   "source": [
    "gato2.edad()"
   ]
  },
  {
   "cell_type": "code",
   "execution_count": 60,
   "metadata": {},
   "outputs": [],
   "source": [
    "class Gato(Animal):\n",
    "    def __init__(self,nombre=None):\n",
    "        super().__init__()\n",
    "        self.nombre = nombre\n",
    "        self.tipo_oreja = \"Puntiaguda\"\n",
    "\n",
    "gato3 = Gato()"
   ]
  },
  {
   "cell_type": "code",
   "execution_count": 61,
   "metadata": {},
   "outputs": [
    {
     "name": "stdout",
     "output_type": "stream",
     "text": [
      "1 segundos\n",
      "Este animal tiene orejas de tipo Puntiaguda\n"
     ]
    }
   ],
   "source": [
    "gato3.edad()\n",
    "gato3.conocer_tipo_oreja()"
   ]
  },
  {
   "cell_type": "code",
   "execution_count": 66,
   "metadata": {},
   "outputs": [
    {
     "data": {
      "text/plain": [
       "{'born_time': datetime.datetime(2022, 5, 9, 17, 27, 44, 359369),\n",
       " 'nombre': None,\n",
       " 'tipo_oreja': 'Puntiaguda'}"
      ]
     },
     "execution_count": 66,
     "metadata": {},
     "output_type": "execute_result"
    }
   ],
   "source": [
    "dir (gato3)\n",
    "gato3.__dict__"
   ]
  }
 ],
 "metadata": {
  "kernelspec": {
   "display_name": "base",
   "language": "python",
   "name": "python3"
  },
  "language_info": {
   "codemirror_mode": {
    "name": "ipython",
    "version": 3
   },
   "file_extension": ".py",
   "mimetype": "text/x-python",
   "name": "python",
   "nbconvert_exporter": "python",
   "pygments_lexer": "ipython3",
   "version": "3.9.12 (main, Apr  4 2022, 05:22:27) [MSC v.1916 64 bit (AMD64)]"
  },
  "orig_nbformat": 4,
  "vscode": {
   "interpreter": {
    "hash": "499a1cf83386e9cdb50680be6c4b00d5e02a649406be4f417a406efedf754313"
   }
  }
 },
 "nbformat": 4,
 "nbformat_minor": 2
}
