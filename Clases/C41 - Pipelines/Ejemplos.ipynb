{
 "cells": [
  {
   "cell_type": "code",
   "execution_count": 5,
   "metadata": {},
   "outputs": [],
   "source": [
    "def saludo(nombre):\n",
    "    print (f'Hola {nombre}')"
   ]
  },
  {
   "cell_type": "code",
   "execution_count": 7,
   "metadata": {},
   "outputs": [
    {
     "name": "stdout",
     "output_type": "stream",
     "text": [
      "Hola Ionatan\n"
     ]
    }
   ],
   "source": [
    "saludo('Ionatan')"
   ]
  },
  {
   "cell_type": "code",
   "execution_count": 1,
   "metadata": {},
   "outputs": [],
   "source": [
    "lista = []\n",
    "def saludo_con_memoria(nombre):\n",
    "    lista.append(nombre)\n",
    "    print (f'Hola {nombre}')\n",
    "    print (f'Ya salude a {len(lista)} personas')"
   ]
  },
  {
   "cell_type": "code",
   "execution_count": 3,
   "metadata": {},
   "outputs": [
    {
     "name": "stdout",
     "output_type": "stream",
     "text": [
      "Hola Ionatan\n",
      "Ya salude a 5 personas\n",
      "Hola Julieta\n",
      "Ya salude a 4 personas\n"
     ]
    }
   ],
   "source": [
    "saludo_con_memoria('Ionatan')\n",
    "lista = [1,2,3]\n",
    "saludo_con_memoria('Julieta')"
   ]
  },
  {
   "cell_type": "code",
   "execution_count": 37,
   "metadata": {},
   "outputs": [],
   "source": [
    "import datetime\n",
    "class Saludo_con_memoria():\n",
    "    \n",
    "    def __init__(self) -> None:\n",
    "        self.fecha_creacion = datetime.datetime.now()\n",
    "        print ('Estas creando un objeto de tipo Saludo')\n",
    "        self.lista_saludados = []\n",
    "\n",
    "    def saludar_persona(self, nombre_persona):\n",
    "        print (f'Hola {nombre_persona}.')\n",
    "        self.lista_saludados.append(nombre_persona)\n",
    "        print (f'Ya salude a {len(self.lista_saludados)} personas.')"
   ]
  },
  {
   "cell_type": "code",
   "execution_count": 27,
   "metadata": {},
   "outputs": [
    {
     "data": {
      "text/plain": [
       "datetime.datetime(2023, 1, 6, 19, 28, 38, 967232)"
      ]
     },
     "execution_count": 27,
     "metadata": {},
     "output_type": "execute_result"
    }
   ],
   "source": []
  },
  {
   "cell_type": "code",
   "execution_count": 39,
   "metadata": {},
   "outputs": [
    {
     "name": "stdout",
     "output_type": "stream",
     "text": [
      "Estas creando un objeto de tipo Saludo\n",
      "Hola Ionatan.\n",
      "Ya salude a 1 personas.\n"
     ]
    }
   ],
   "source": [
    "saludo1 = Saludo_con_memoria()\n",
    "saludo1.saludar_persona('Ionatan')"
   ]
  },
  {
   "cell_type": "code",
   "execution_count": 40,
   "metadata": {},
   "outputs": [
    {
     "name": "stdout",
     "output_type": "stream",
     "text": [
      "Hola Juelieta.\n",
      "Ya salude a 2 personas.\n"
     ]
    }
   ],
   "source": [
    "saludo1.saludar_persona('Juelieta')"
   ]
  },
  {
   "cell_type": "code",
   "execution_count": 41,
   "metadata": {},
   "outputs": [
    {
     "name": "stdout",
     "output_type": "stream",
     "text": [
      "Estas creando un objeto de tipo Saludo\n"
     ]
    }
   ],
   "source": [
    "saludo2 = Saludo_con_memoria()\n"
   ]
  },
  {
   "cell_type": "code",
   "execution_count": 42,
   "metadata": {},
   "outputs": [
    {
     "name": "stdout",
     "output_type": "stream",
     "text": [
      "Hola Tomas.\n",
      "Ya salude a 1 personas.\n"
     ]
    }
   ],
   "source": [
    "saludo2.saludar_persona('Tomas')"
   ]
  },
  {
   "cell_type": "code",
   "execution_count": 43,
   "metadata": {},
   "outputs": [
    {
     "name": "stdout",
     "output_type": "stream",
     "text": [
      "Hola Tomas.\n",
      "Ya salude a 3 personas.\n"
     ]
    }
   ],
   "source": [
    "saludo1.saludar_persona('Tomas')"
   ]
  },
  {
   "cell_type": "code",
   "execution_count": 44,
   "metadata": {},
   "outputs": [
    {
     "data": {
      "text/plain": [
       "['Ionatan', 'Juelieta', 'Tomas']"
      ]
     },
     "execution_count": 44,
     "metadata": {},
     "output_type": "execute_result"
    }
   ],
   "source": [
    "saludo1.lista_saludados"
   ]
  },
  {
   "cell_type": "code",
   "execution_count": 45,
   "metadata": {},
   "outputs": [
    {
     "data": {
      "text/plain": [
       "['Tomas']"
      ]
     },
     "execution_count": 45,
     "metadata": {},
     "output_type": "execute_result"
    }
   ],
   "source": [
    "saludo2.lista_saludados"
   ]
  },
  {
   "cell_type": "code",
   "execution_count": 14,
   "metadata": {},
   "outputs": [],
   "source": [
    "saludo.lista = 'Sobre escribir la lista!!'"
   ]
  },
  {
   "cell_type": "code",
   "execution_count": 15,
   "metadata": {},
   "outputs": [
    {
     "data": {
      "text/plain": [
       "'Sobre escribir la lista!!'"
      ]
     },
     "execution_count": 15,
     "metadata": {},
     "output_type": "execute_result"
    }
   ],
   "source": [
    "saludo.lista"
   ]
  },
  {
   "cell_type": "code",
   "execution_count": 16,
   "metadata": {},
   "outputs": [],
   "source": [
    "saludos2 = Saludo_con_memoria()"
   ]
  },
  {
   "cell_type": "code",
   "execution_count": 17,
   "metadata": {},
   "outputs": [
    {
     "data": {
      "text/plain": [
       "[]"
      ]
     },
     "execution_count": 17,
     "metadata": {},
     "output_type": "execute_result"
    }
   ],
   "source": [
    "saludos2.lista"
   ]
  },
  {
   "cell_type": "markdown",
   "metadata": {},
   "source": [
    "# Clases\n",
    "\n",
    "Vamos a hacer una revision rapida de lo que es una clase."
   ]
  },
  {
   "cell_type": "code",
   "execution_count": 46,
   "metadata": {},
   "outputs": [],
   "source": [
    "from datetime import datetime\n",
    "\n",
    "class Animal():\n",
    "\n",
    "    def __init__(self):\n",
    "        self.born_time = datetime.now()\n",
    "\n",
    "\n"
   ]
  },
  {
   "cell_type": "code",
   "execution_count": 47,
   "metadata": {},
   "outputs": [
    {
     "data": {
      "text/plain": [
<<<<<<< HEAD
       "datetime.datetime(2023, 1, 30, 19, 36, 24, 272489)"
=======
       "datetime.datetime(2023, 1, 6, 19, 44, 22, 115084)"
>>>>>>> dcb4fa3ce9eba424f50cadb9f739386efc9030d8
      ]
     },
     "execution_count": 47,
     "metadata": {},
     "output_type": "execute_result"
    }
   ],
   "source": [
    "perro = Animal()\n",
    "\n",
    "perro.born_time"
   ]
  },
  {
   "cell_type": "code",
   "execution_count": 48,
   "metadata": {},
   "outputs": [],
   "source": [
    "from datetime import datetime\n",
    "\n",
    "class Animal():\n",
    "\n",
    "    def __init__(self):\n",
    "        self.born_time = datetime.now()\n",
    "\n",
    "    def edad(self):\n",
    "        return datetime.now() - self.born_time"
   ]
  },
  {
   "cell_type": "code",
   "execution_count": 49,
   "metadata": {},
   "outputs": [
    {
     "name": "stdout",
     "output_type": "stream",
     "text": [
<<<<<<< HEAD
      "2023-01-30 19:36:24.272489\n",
      "2023-01-30 19:36:24.556481\n"
=======
      "2023-01-06 19:44:22.115084\n",
      "2023-01-06 19:44:49.608620\n"
>>>>>>> dcb4fa3ce9eba424f50cadb9f739386efc9030d8
     ]
    }
   ],
   "source": [
    "perro2 = Animal()\n",
    "\n",
    "print (perro.born_time)\n",
    "print (perro2.born_time)\n"
   ]
  },
  {
   "cell_type": "code",
   "execution_count": 52,
   "metadata": {},
   "outputs": [
    {
     "name": "stdout",
     "output_type": "stream",
     "text": [
<<<<<<< HEAD
      "0:00:00.134006\n"
=======
      "0:00:24.085510\n"
>>>>>>> dcb4fa3ce9eba424f50cadb9f739386efc9030d8
     ]
    }
   ],
   "source": [
    "#print (perro.edad())\n",
    "print (perro2.edad())"
   ]
  },
  {
   "cell_type": "code",
<<<<<<< HEAD
   "execution_count": 6,
=======
   "execution_count": 53,
>>>>>>> dcb4fa3ce9eba424f50cadb9f739386efc9030d8
   "metadata": {},
   "outputs": [],
   "source": [
    "from datetime import datetime\n",
    "\n",
    "class Animal():\n",
    "\n",
    "    def __init__(self):\n",
    "        self.born_time = datetime.now()\n",
    "\n",
    "    def calculo_edad(self):\n",
    "        return datetime.now() - self.born_time\n",
    "\n",
    "    def edad(self,unidad=\"s\"):\n",
    "        if not unidad in [\"s\",\"m\",\"h\"]:\n",
    "            raise TypeError(\"Las únicas unidades soportadas son: s por segundos, m por minutos, h por horas.\")\n",
    "        if unidad == \"s\":\n",
    "            print (f\"{self.calculo_edad().seconds} segundos\")\n",
    "        if unidad == \"m\":\n",
    "            delta = self.calculo_edad()\n",
    "            mins = delta.seconds // 60\n",
    "            segundos = delta.seconds % 60\n",
    "            print (f\"{mins} minutos, {segundos} segundos\")\n",
    "        if unidad == \"h\":\n",
    "            delta = self.calculo_edad()\n",
    "            horas = delta.seconds // 3600\n",
    "            minutos_restantes = delta.seconds % 3600\n",
    "            mins = minutos_restantes // 60\n",
    "            segundos = minutos_restantes % 60\n",
    "            print (f\"{horas} horas, {mins} minutos, {segundos} segundos\")\n",
    "\n",
    "\n",
    "\n",
    "perro3 = Animal()"
   ]
  },
  {
   "cell_type": "code",
<<<<<<< HEAD
   "execution_count": 7,
=======
   "execution_count": 55,
   "metadata": {},
   "outputs": [
    {
     "name": "stdout",
     "output_type": "stream",
     "text": [
      "0 minutos, 28 segundos\n"
     ]
    }
   ],
   "source": [
    "perro3.edad(unidad='m')"
   ]
  },
  {
   "cell_type": "code",
   "execution_count": 57,
>>>>>>> dcb4fa3ce9eba424f50cadb9f739386efc9030d8
   "metadata": {},
   "outputs": [],
   "source": [
    "from datetime import datetime\n",
    "\n",
    "class Animal():\n",
    "\n",
    "    def __init__(self):\n",
    "        self.born_time = datetime.now()\n",
    "\n",
    "    def calculo_edad(self):\n",
    "        return datetime.now() - self.born_time\n",
    "\n",
    "    def edad(self,unidad=\"s\"):\n",
    "        if not unidad in [\"s\",\"m\",\"h\"]:\n",
    "            raise TypeError(\"Las únicas unidades soportadas son: s por segundos, m por minutos, h por horas.\")\n",
    "        if unidad == \"s\":\n",
    "            print (f\"{self.calculo_edad().seconds} segundos\")\n",
    "        if unidad == \"m\":\n",
    "            delta = self.calculo_edad()\n",
    "            mins = delta.seconds // 60\n",
    "            segundos = delta.seconds % 60\n",
    "            print (f\"{mins} minutos, {segundos} segundos\")\n",
    "        if unidad == \"h\":\n",
    "            delta = self.calculo_edad()\n",
    "            horas = delta.seconds // 3600\n",
    "            minutos_restantes = delta.seconds % 3600\n",
    "            mins = minutos_restantes // 60\n",
    "            segundos = minutos_restantes % 60\n",
    "            print (f\"{horas} horas, {mins} minutos, {segundos} segundos\")\n",
    "\n",
    "    def conocer_tipo_oreja(self):\n",
    "        if not hasattr(self,\"tipo_oreja\"):\n",
    "            print (\"Este animal no tiene orejas.\")\n",
    "        else:\n",
    "            print (f\"Este animal tiene orejas de tipo {self.tipo_oreja}\")\n",
    "\n",
    "animal_desconocido = Animal()"
   ]
  },
  {
   "cell_type": "code",
<<<<<<< HEAD
   "execution_count": 8,
=======
   "execution_count": 58,
>>>>>>> dcb4fa3ce9eba424f50cadb9f739386efc9030d8
   "metadata": {},
   "outputs": [
    {
     "name": "stdout",
     "output_type": "stream",
     "text": [
      "Este animal no tiene orejas.\n"
     ]
    }
   ],
   "source": [
    "animal_desconocido.conocer_tipo_oreja()"
   ]
  },
  {
   "cell_type": "code",
<<<<<<< HEAD
   "execution_count": 9,
=======
   "execution_count": 59,
>>>>>>> dcb4fa3ce9eba424f50cadb9f739386efc9030d8
   "metadata": {},
   "outputs": [],
   "source": [
    "class Gato(Animal):\n",
    "    pass\n",
    "\n",
    "gato1 = Gato()"
   ]
  },
  {
   "cell_type": "code",
<<<<<<< HEAD
   "execution_count": 10,
=======
   "execution_count": 60,
>>>>>>> dcb4fa3ce9eba424f50cadb9f739386efc9030d8
   "metadata": {},
   "outputs": [
    {
     "name": "stdout",
     "output_type": "stream",
     "text": [
<<<<<<< HEAD
      "0 segundos\n"
=======
      "5 segundos\n"
>>>>>>> dcb4fa3ce9eba424f50cadb9f739386efc9030d8
     ]
    }
   ],
   "source": [
    "gato1.edad()"
   ]
  },
  {
   "cell_type": "code",
<<<<<<< HEAD
   "execution_count": 11,
=======
   "execution_count": 61,
>>>>>>> dcb4fa3ce9eba424f50cadb9f739386efc9030d8
   "metadata": {},
   "outputs": [],
   "source": [
    "class Gato(Animal):\n",
    "    def __init__(self,nombre=None):\n",
    "        self.nombre = nombre\n",
    "        self.tipo_oreja = \"Puntiaguda\"\n",
    "\n",
    "\n",
    "gato2 = Gato()"
   ]
  },
  {
   "cell_type": "code",
<<<<<<< HEAD
   "execution_count": 12,
=======
   "execution_count": 62,
>>>>>>> dcb4fa3ce9eba424f50cadb9f739386efc9030d8
   "metadata": {},
   "outputs": [
    {
     "ename": "AttributeError",
     "evalue": "'Gato' object has no attribute 'born_time'",
     "output_type": "error",
     "traceback": [
      "\u001b[1;31m---------------------------------------------------------------------------\u001b[0m",
      "\u001b[1;31mAttributeError\u001b[0m                            Traceback (most recent call last)",
<<<<<<< HEAD
      "\u001b[1;32me:\\Trabajos\\DH\\Cursos_DHDS_CN13\\Clases\\C41 - Pipelines\\Ejemplos.ipynb Cell 13\u001b[0m in \u001b[0;36m<cell line: 1>\u001b[1;34m()\u001b[0m\n\u001b[1;32m----> <a href='vscode-notebook-cell:/e%3A/Trabajos/DH/Cursos_DHDS_CN13/Clases/C41%20-%20Pipelines/Ejemplos.ipynb#X15sZmlsZQ%3D%3D?line=0'>1</a>\u001b[0m gato2\u001b[39m.\u001b[39;49medad()\n",
      "\u001b[1;32me:\\Trabajos\\DH\\Cursos_DHDS_CN13\\Clases\\C41 - Pipelines\\Ejemplos.ipynb Cell 13\u001b[0m in \u001b[0;36mAnimal.edad\u001b[1;34m(self, unidad)\u001b[0m\n\u001b[0;32m     <a href='vscode-notebook-cell:/e%3A/Trabajos/DH/Cursos_DHDS_CN13/Clases/C41%20-%20Pipelines/Ejemplos.ipynb#X15sZmlsZQ%3D%3D?line=12'>13</a>\u001b[0m     \u001b[39mraise\u001b[39;00m \u001b[39mTypeError\u001b[39;00m(\u001b[39m\"\u001b[39m\u001b[39mLas únicas unidades soportadas son: s por segundos, m por minutos, h por horas.\u001b[39m\u001b[39m\"\u001b[39m)\n\u001b[0;32m     <a href='vscode-notebook-cell:/e%3A/Trabajos/DH/Cursos_DHDS_CN13/Clases/C41%20-%20Pipelines/Ejemplos.ipynb#X15sZmlsZQ%3D%3D?line=13'>14</a>\u001b[0m \u001b[39mif\u001b[39;00m unidad \u001b[39m==\u001b[39m \u001b[39m\"\u001b[39m\u001b[39ms\u001b[39m\u001b[39m\"\u001b[39m:\n\u001b[1;32m---> <a href='vscode-notebook-cell:/e%3A/Trabajos/DH/Cursos_DHDS_CN13/Clases/C41%20-%20Pipelines/Ejemplos.ipynb#X15sZmlsZQ%3D%3D?line=14'>15</a>\u001b[0m     \u001b[39mprint\u001b[39m (\u001b[39mf\u001b[39m\u001b[39m\"\u001b[39m\u001b[39m{\u001b[39;00m\u001b[39mself\u001b[39m\u001b[39m.\u001b[39mcalculo_edad()\u001b[39m.\u001b[39mseconds\u001b[39m}\u001b[39;00m\u001b[39m segundos\u001b[39m\u001b[39m\"\u001b[39m)\n\u001b[0;32m     <a href='vscode-notebook-cell:/e%3A/Trabajos/DH/Cursos_DHDS_CN13/Clases/C41%20-%20Pipelines/Ejemplos.ipynb#X15sZmlsZQ%3D%3D?line=15'>16</a>\u001b[0m \u001b[39mif\u001b[39;00m unidad \u001b[39m==\u001b[39m \u001b[39m\"\u001b[39m\u001b[39mm\u001b[39m\u001b[39m\"\u001b[39m:\n\u001b[0;32m     <a href='vscode-notebook-cell:/e%3A/Trabajos/DH/Cursos_DHDS_CN13/Clases/C41%20-%20Pipelines/Ejemplos.ipynb#X15sZmlsZQ%3D%3D?line=16'>17</a>\u001b[0m     delta \u001b[39m=\u001b[39m \u001b[39mself\u001b[39m\u001b[39m.\u001b[39mcalculo_edad()\n",
      "\u001b[1;32me:\\Trabajos\\DH\\Cursos_DHDS_CN13\\Clases\\C41 - Pipelines\\Ejemplos.ipynb Cell 13\u001b[0m in \u001b[0;36mAnimal.calculo_edad\u001b[1;34m(self)\u001b[0m\n\u001b[0;32m      <a href='vscode-notebook-cell:/e%3A/Trabajos/DH/Cursos_DHDS_CN13/Clases/C41%20-%20Pipelines/Ejemplos.ipynb#X15sZmlsZQ%3D%3D?line=7'>8</a>\u001b[0m \u001b[39mdef\u001b[39;00m \u001b[39mcalculo_edad\u001b[39m(\u001b[39mself\u001b[39m):\n\u001b[1;32m----> <a href='vscode-notebook-cell:/e%3A/Trabajos/DH/Cursos_DHDS_CN13/Clases/C41%20-%20Pipelines/Ejemplos.ipynb#X15sZmlsZQ%3D%3D?line=8'>9</a>\u001b[0m     \u001b[39mreturn\u001b[39;00m datetime\u001b[39m.\u001b[39mnow() \u001b[39m-\u001b[39m \u001b[39mself\u001b[39;49m\u001b[39m.\u001b[39;49mborn_time\n",
=======
      "\u001b[1;32m~\\AppData\\Local\\Temp/ipykernel_10848/230947233.py\u001b[0m in \u001b[0;36m<module>\u001b[1;34m\u001b[0m\n\u001b[1;32m----> 1\u001b[1;33m \u001b[0mgato2\u001b[0m\u001b[1;33m.\u001b[0m\u001b[0medad\u001b[0m\u001b[1;33m(\u001b[0m\u001b[1;33m)\u001b[0m\u001b[1;33m\u001b[0m\u001b[1;33m\u001b[0m\u001b[0m\n\u001b[0m",
      "\u001b[1;32m~\\AppData\\Local\\Temp/ipykernel_10848/592584062.py\u001b[0m in \u001b[0;36medad\u001b[1;34m(self, unidad)\u001b[0m\n\u001b[0;32m     13\u001b[0m             \u001b[1;32mraise\u001b[0m \u001b[0mTypeError\u001b[0m\u001b[1;33m(\u001b[0m\u001b[1;34m\"Las únicas unidades soportadas son: s por segundos, m por minutos, h por horas.\"\u001b[0m\u001b[1;33m)\u001b[0m\u001b[1;33m\u001b[0m\u001b[1;33m\u001b[0m\u001b[0m\n\u001b[0;32m     14\u001b[0m         \u001b[1;32mif\u001b[0m \u001b[0munidad\u001b[0m \u001b[1;33m==\u001b[0m \u001b[1;34m\"s\"\u001b[0m\u001b[1;33m:\u001b[0m\u001b[1;33m\u001b[0m\u001b[1;33m\u001b[0m\u001b[0m\n\u001b[1;32m---> 15\u001b[1;33m             \u001b[0mprint\u001b[0m \u001b[1;33m(\u001b[0m\u001b[1;34mf\"{self.calculo_edad().seconds} segundos\"\u001b[0m\u001b[1;33m)\u001b[0m\u001b[1;33m\u001b[0m\u001b[1;33m\u001b[0m\u001b[0m\n\u001b[0m\u001b[0;32m     16\u001b[0m         \u001b[1;32mif\u001b[0m \u001b[0munidad\u001b[0m \u001b[1;33m==\u001b[0m \u001b[1;34m\"m\"\u001b[0m\u001b[1;33m:\u001b[0m\u001b[1;33m\u001b[0m\u001b[1;33m\u001b[0m\u001b[0m\n\u001b[0;32m     17\u001b[0m             \u001b[0mdelta\u001b[0m \u001b[1;33m=\u001b[0m \u001b[0mself\u001b[0m\u001b[1;33m.\u001b[0m\u001b[0mcalculo_edad\u001b[0m\u001b[1;33m(\u001b[0m\u001b[1;33m)\u001b[0m\u001b[1;33m\u001b[0m\u001b[1;33m\u001b[0m\u001b[0m\n",
      "\u001b[1;32m~\\AppData\\Local\\Temp/ipykernel_10848/592584062.py\u001b[0m in \u001b[0;36mcalculo_edad\u001b[1;34m(self)\u001b[0m\n\u001b[0;32m      7\u001b[0m \u001b[1;33m\u001b[0m\u001b[0m\n\u001b[0;32m      8\u001b[0m     \u001b[1;32mdef\u001b[0m \u001b[0mcalculo_edad\u001b[0m\u001b[1;33m(\u001b[0m\u001b[0mself\u001b[0m\u001b[1;33m)\u001b[0m\u001b[1;33m:\u001b[0m\u001b[1;33m\u001b[0m\u001b[1;33m\u001b[0m\u001b[0m\n\u001b[1;32m----> 9\u001b[1;33m         \u001b[1;32mreturn\u001b[0m \u001b[0mdatetime\u001b[0m\u001b[1;33m.\u001b[0m\u001b[0mnow\u001b[0m\u001b[1;33m(\u001b[0m\u001b[1;33m)\u001b[0m \u001b[1;33m-\u001b[0m \u001b[0mself\u001b[0m\u001b[1;33m.\u001b[0m\u001b[0mborn_time\u001b[0m\u001b[1;33m\u001b[0m\u001b[1;33m\u001b[0m\u001b[0m\n\u001b[0m\u001b[0;32m     10\u001b[0m \u001b[1;33m\u001b[0m\u001b[0m\n\u001b[0;32m     11\u001b[0m     \u001b[1;32mdef\u001b[0m \u001b[0medad\u001b[0m\u001b[1;33m(\u001b[0m\u001b[0mself\u001b[0m\u001b[1;33m,\u001b[0m\u001b[0munidad\u001b[0m\u001b[1;33m=\u001b[0m\u001b[1;34m\"s\"\u001b[0m\u001b[1;33m)\u001b[0m\u001b[1;33m:\u001b[0m\u001b[1;33m\u001b[0m\u001b[1;33m\u001b[0m\u001b[0m\n",
>>>>>>> dcb4fa3ce9eba424f50cadb9f739386efc9030d8
      "\u001b[1;31mAttributeError\u001b[0m: 'Gato' object has no attribute 'born_time'"
     ]
    }
   ],
   "source": [
    "gato2.edad()"
   ]
  },
  {
   "cell_type": "code",
<<<<<<< HEAD
   "execution_count": null,
=======
   "execution_count": 63,
>>>>>>> dcb4fa3ce9eba424f50cadb9f739386efc9030d8
   "metadata": {},
   "outputs": [],
   "source": [
    "class Gato(Animal):\n",
    "    def __init__(self,nombre=None):\n",
    "        super().__init__()\n",
    "        self.nombre = nombre\n",
    "        self.tipo_oreja = \"Puntiaguda\"\n",
    "\n",
    "gato3 = Gato()"
   ]
  },
  {
   "cell_type": "code",
<<<<<<< HEAD
   "execution_count": null,
=======
   "execution_count": 64,
>>>>>>> dcb4fa3ce9eba424f50cadb9f739386efc9030d8
   "metadata": {},
   "outputs": [
    {
     "name": "stdout",
     "output_type": "stream",
     "text": [
      "2 segundos\n",
      "Este animal tiene orejas de tipo Puntiaguda\n"
     ]
    }
   ],
   "source": [
    "gato3.edad()\n",
    "gato3.conocer_tipo_oreja()"
   ]
  },
  {
   "cell_type": "code",
<<<<<<< HEAD
   "execution_count": null,
=======
   "execution_count": 65,
>>>>>>> dcb4fa3ce9eba424f50cadb9f739386efc9030d8
   "metadata": {},
   "outputs": [
    {
     "data": {
      "text/plain": [
       "{'born_time': datetime.datetime(2023, 1, 6, 19, 53, 23, 950706),\n",
       " 'nombre': None,\n",
       " 'tipo_oreja': 'Puntiaguda'}"
      ]
     },
     "execution_count": 65,
     "metadata": {},
     "output_type": "execute_result"
    }
   ],
   "source": [
    "dir (gato3)\n",
    "gato3.__dict__"
   ]
  },
  {
   "cell_type": "code",
   "execution_count": 66,
   "metadata": {},
   "outputs": [],
   "source": [
    "gato = Gato()"
   ]
  },
  {
   "cell_type": "code",
   "execution_count": null,
   "metadata": {},
   "outputs": [],
   "source": []
  },
  {
   "cell_type": "code",
   "execution_count": null,
   "metadata": {},
   "outputs": [],
   "source": []
  }
 ],
 "metadata": {
  "kernelspec": {
   "display_name": "base",
   "language": "python",
   "name": "python3"
  },
  "language_info": {
   "codemirror_mode": {
    "name": "ipython",
    "version": 3
   },
   "file_extension": ".py",
   "mimetype": "text/x-python",
   "name": "python",
   "nbconvert_exporter": "python",
   "pygments_lexer": "ipython3",
   "version": "3.9.7 (default, Sep 16 2021, 16:59:28) [MSC v.1916 64 bit (AMD64)]"
  },
  "orig_nbformat": 4,
  "vscode": {
   "interpreter": {
    "hash": "499a1cf83386e9cdb50680be6c4b00d5e02a649406be4f417a406efedf754313"
   }
  }
 },
 "nbformat": 4,
 "nbformat_minor": 2
}
