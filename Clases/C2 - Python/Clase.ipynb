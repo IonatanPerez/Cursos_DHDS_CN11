{
 "cells": [
  {
   "cell_type": "code",
   "execution_count": null,
   "id": "3bd44c6e-40ac-4ed6-9941-1498216afaed",
   "metadata": {},
   "outputs": [],
   "source": []
  },
  {
   "cell_type": "markdown",
   "id": "810f3845-bb11-4a0d-86a3-c9aee3f7b32f",
   "metadata": {},
   "source": [
    "# Esto es un titulo\n",
    "\n",
    "## Esto es un subtitulo \n",
    "\n",
    "Explico lo que voy a hacer en esta parte del trabajo o la clase"
   ]
  },
  {
   "cell_type": "code",
   "execution_count": 1,
   "id": "c4f2f358-29a1-4085-b8e5-7513d24c45f1",
   "metadata": {},
   "outputs": [
    {
     "name": "stdout",
     "output_type": "stream",
     "text": [
      "4\n",
      "6\n",
      "7\n"
     ]
    }
   ],
   "source": [
    "print (2 + 2)\n",
    "print (2 + 4)\n",
    "print (2 + 5)"
   ]
  },
  {
   "cell_type": "code",
   "execution_count": 2,
   "id": "0113ab65-da80-4a3e-b52a-f15fa87a88ba",
   "metadata": {},
   "outputs": [
    {
     "data": {
      "text/plain": [
       "3"
      ]
     },
     "execution_count": 2,
     "metadata": {},
     "output_type": "execute_result"
    }
   ],
   "source": [
    "# Queremos daber si un numero es par, por ejemplo si el 15 es par\n",
    "\n",
    "# // hace la division entera\n",
    "\n",
    "15//6\n",
    "\n",
    "# el simbolo % da el resto de la division entrea\n",
    "\n",
    "15%6\n"
   ]
  },
  {
   "cell_type": "code",
   "execution_count": 3,
   "id": "ffd5827c-3d8f-409d-8896-7c8d65f256f5",
   "metadata": {},
   "outputs": [
    {
     "name": "stdin",
     "output_type": "stream",
     "text": [
      " 13\n"
     ]
    },
    {
     "name": "stdout",
     "output_type": "stream",
     "text": [
      "El numero 13 no es par\n"
     ]
    }
   ],
   "source": [
    "# Vamos a hacer un codigo que se fije si un numero es par o no\n",
    "\n",
    "numero = input()\n",
    "if int(numero)%2 == 0:\n",
    "    print (f'El numero {numero} es par')\n",
    "else:\n",
    "    print (f'El numero {numero} no es par')"
   ]
  },
  {
   "cell_type": "markdown",
   "id": "9aa13117-71e0-4968-aa18-d0810109c3ed",
   "metadata": {},
   "source": [
    "# Vamos a plantear un problema\n",
    "\n",
    "Tenemos una base de datos y queremos generar un mensaje personalizado a cada registro informando que tienen el vencimiento de un servicio. Vamos a facalizarnos en generar el mensaje, no en enviarlo. Usamos solo 5 registros para que hacerlo a mano tenga sentido, pero la idea es automatizarlo."
   ]
  },
  {
   "cell_type": "markdown",
   "id": "278c196b-55a5-4ffa-88ff-83a5ed3ca83d",
   "metadata": {},
   "source": [
    "# Datos\n",
    "\n",
    "![Datos](Ejemplo_datos.png)"
   ]
  },
  {
   "cell_type": "code",
   "execution_count": 4,
   "id": "747abadd-735c-4578-a22e-d4deadf7d67e",
   "metadata": {},
   "outputs": [
    {
     "name": "stdout",
     "output_type": "stream",
     "text": [
      "Sr. Romildo Ricardo Lopez, tiene una deuda con Claro que vence el 12/03/22\n"
     ]
    }
   ],
   "source": [
    "print ('Sr. Romildo Ricardo Lopez, tiene una deuda con Claro que vence el 12/03/22')"
   ]
  },
  {
   "cell_type": "code",
   "execution_count": 5,
   "id": "eb50256f-8d05-45e0-a01d-4dfa48787fe2",
   "metadata": {},
   "outputs": [
    {
     "name": "stdout",
     "output_type": "stream",
     "text": [
      "Sr. Romildo Ricardo Lopez, tiene una deuda con Claro que vence el 12/03/22\n"
     ]
    }
   ],
   "source": [
    "# Primer nivel de abstraccion\n",
    "\n",
    "# Datos especificos\n",
    "titulo = \"Sr.\"\n",
    "nombre = \"Romildo\"\n",
    "segundo = \"Ricardo\"\n",
    "apellido = \"Lopez\"\n",
    "servicio = \"Claro\"\n",
    "vencimiento = \"12/03/22\"\n",
    "\n",
    "# texto que queremos armar\n",
    "print (f'{titulo} {nombre} {segundo} {apellido}, tiene una deuda con {servicio} que vence el {vencimiento}')"
   ]
  },
  {
   "cell_type": "code",
   "execution_count": 6,
   "id": "23123e8b-d979-448e-ad05-5bfe51cb638a",
   "metadata": {},
   "outputs": [],
   "source": [
    "def generar_mensaje(titulo, nombre, segundo, apellido, servicio, vencimiento):\n",
    "    print (f'{titulo} {nombre} {segundo} {apellido}, tiene una deuda con {servicio} que vence el {vencimiento}')\n",
    " "
   ]
  },
  {
   "cell_type": "code",
   "execution_count": 10,
   "id": "605d59cc-dfc8-4a93-ba9a-a63ae841c9b1",
   "metadata": {},
   "outputs": [
    {
     "name": "stdout",
     "output_type": "stream",
     "text": [
      "Sr. Romildo Ricardo Lopez, tiene una deuda con Claro que vence el 12/03/22\n",
      "Sra. Maria Ines Gonzales, tiene una deuda con Edenor que vence el 04/09/22\n",
      "Sr. Danilo Gugiari, tiene una deuda con Edenor que vence el 04/09/22\n"
     ]
    }
   ],
   "source": [
    "# Persona 1\n",
    "titulo = \"Sr.\"\n",
    "nombre = \"Romildo\"\n",
    "segundo = \"Ricardo\"\n",
    "apellido = \"Lopez\"\n",
    "servicio = \"Claro\"\n",
    "vencimiento = \"12/03/22\"\n",
    "\n",
    "generar_mensaje(titulo,nombre,segundo,apellido, servicio, vencimiento)\n",
    "\n",
    "# Persona 2\n",
    "titulo = \"Sra.\"\n",
    "nombre = \"Maria\"\n",
    "segundo = \"Ines\"\n",
    "apellido = \"Gonzales\"\n",
    "servicio = \"Edenor\"\n",
    "vencimiento = \"04/09/22\"\n",
    "\n",
    "generar_mensaje(titulo,nombre,segundo,apellido, servicio, vencimiento)\n",
    "\n",
    "# Persona 3\n",
    "titulo = \"Sr.\"\n",
    "nombre = \"Danilo\"\n",
    "segundo = \"\" # No es lo mismo que None aunque tengan el mismo valor de verdad False (ahora vamos a ver porque hacemos notar esto)\n",
    "apellido = \"Gugiari\"\n",
    "servicio = \"Edenor\"\n",
    "vencimiento = \"04/09/22\"\n",
    "\n",
    "generar_mensaje(titulo,nombre,segundo,apellido, servicio, vencimiento)"
   ]
  },
  {
   "cell_type": "code",
   "execution_count": 33,
   "id": "ef80ce7c-59ad-44d7-9339-a2567da6751f",
   "metadata": {},
   "outputs": [],
   "source": [
    "def generar_mensaje(titulo, nombre, segundo, apellido, servicio, vencimiento):\n",
    "    if segundo:\n",
    "        nombre_completo = nombre + ' ' + segundo\n",
    "    else:\n",
    "        nombre_completo = nombre\n",
    "    print (f'{titulo} {nombre_completo} {apellido}, tiene una deuda con {servicio} que vence el {vencimiento}')"
   ]
  },
  {
   "cell_type": "markdown",
   "id": "5478707f-a59e-4133-a9d9-01eddc9af77b",
   "metadata": {},
   "source": [
    "Vamos a ver como hacer para no ir poniendo uno a uno los datos"
   ]
  },
  {
   "cell_type": "code",
   "execution_count": 17,
   "id": "de3ce76e-c2f1-453e-bcfb-a32516336a96",
   "metadata": {},
   "outputs": [
    {
     "name": "stdout",
     "output_type": "stream",
     "text": [
      "Romildo\n",
      "Maria\n",
      "Danilo\n",
      "Romina\n",
      "Micaela\n",
      "Ricardo\n",
      "Ines\n",
      "\n",
      "Camila\n",
      "\n"
     ]
    }
   ],
   "source": [
    "# Carguemos todos los nombre\n",
    "\n",
    "nombres = [\"Romildo\", \"Maria\", \"Danilo\", \"Romina\", \"Micaela\"] # Notar que use una \"s\" para indicar que son muchos (es una lista). Es muy importante usar nombres de variables que sean claros e indicativos, nunca un \"pepe\".\n",
    "\n",
    "for nombre in nombres:\n",
    "    print (nombre)\n",
    "    \n",
    "# Podemos hacer lo mismo para los segundos nombres\n",
    "\n",
    "segundos = [\"Ricardo\", \"Ines\", \"\", \"Camila\", \"\"] # Es importante para preservar la consistencia de los datos poner \"\" donde no hay segundo nombre pero si hay un registro.\n",
    "\n",
    "for segundo in segundos:\n",
    "    print (segundo)"
   ]
  },
  {
   "cell_type": "code",
   "execution_count": 18,
   "id": "b01777fb-8e82-4f73-bd8f-acf1558b53df",
   "metadata": {},
   "outputs": [
    {
     "name": "stdout",
     "output_type": "stream",
     "text": [
      "Romildo Ricardo\n",
      "Maria Ines\n",
      "Danilo \n",
      "Romina Camila\n",
      "Micaela \n"
     ]
    }
   ],
   "source": [
    "for nombre, segundo in zip(nombres, segundos):\n",
    "    print (nombre, segundo)"
   ]
  },
  {
   "cell_type": "code",
   "execution_count": 21,
   "id": "914a2508-a103-41c9-9648-3431c3aa7856",
   "metadata": {},
   "outputs": [
    {
     "name": "stdout",
     "output_type": "stream",
     "text": [
      "Ricardo Romildo\n",
      "Ines Maria\n",
      " Danilo\n",
      "Camila Romina\n",
      " Micaela\n"
     ]
    }
   ],
   "source": [
    "for segundo, nombre in zip(nombres, segundos):\n",
    "    print (nombre, segundo)"
   ]
  },
  {
   "cell_type": "code",
   "execution_count": 23,
   "id": "91f4f4e8-91e9-4c2a-87e8-8db04c4296f1",
   "metadata": {},
   "outputs": [
    {
     "name": "stdout",
     "output_type": "stream",
     "text": [
      "Hola Romildo Ricardo, tenemos un mensaje para usted pero se lo vamos a mandar en otro momento que nos cueste menos trabajo.\n",
      "Hola Maria Ines, tenemos un mensaje para usted pero se lo vamos a mandar en otro momento que nos cueste menos trabajo.\n",
      "Hola Danilo , tenemos un mensaje para usted pero se lo vamos a mandar en otro momento que nos cueste menos trabajo.\n",
      "Hola Romina Camila, tenemos un mensaje para usted pero se lo vamos a mandar en otro momento que nos cueste menos trabajo.\n",
      "Hola Micaela , tenemos un mensaje para usted pero se lo vamos a mandar en otro momento que nos cueste menos trabajo.\n"
     ]
    }
   ],
   "source": [
    "# Vamos a hacer una funcion que salude a las personas\n",
    "def mensaje_simple(nombre, segundo):\n",
    "    print (f\"Hola {nombre} {segundo}, tenemos un mensaje para usted pero se lo vamos a mandar en otro momento que nos cueste menos trabajo.\")\n",
    "\n",
    "for nombre, segundo in zip(nombres, segundos):\n",
    "    mensaje_simple(nombre,segundo)\n",
    "    "
   ]
  },
  {
   "cell_type": "markdown",
   "id": "c5412735-dfdd-47ad-b027-b4c1f6c501c9",
   "metadata": {},
   "source": [
    "Podriamos seguir cargando los datos como listas, pero no es una buena idea, porque es muy poco claro al haber muchas listas que es cada lista salvo por los nombres de las variables. Hay maneras mas utiles, claras y elegantes de manipular datos con significado. Diccionarios."
   ]
  },
  {
   "cell_type": "code",
   "execution_count": 25,
   "id": "258c8576-925d-4b7d-9bda-69fe3ec6f541",
   "metadata": {},
   "outputs": [],
   "source": [
    "# Cual seria la esencia de los diccionarios\n",
    "\n",
    "persona1 = {}\n",
    "\n",
    "persona1[\"nombre\"] = \"Romildo\"\n",
    "persona1[\"titulo\"] = \"Sr.\"\n",
    "persona1['servicio'] = 'Claro'\n",
    "persona1['vencimiento'] = '12/03/22'\n",
    "persona1['apellido'] = 'Lopez'\n",
    "persona1['segundo'] = 'Ricardo'\n",
    "\n",
    "\n",
    "\n",
    "persona2 = {'titulo': 'Sra.', 'nombre': 'Maria', 'segundo': 'Ines', 'apellido': 'Gonzales', 'servicio': 'Edenor', 'vencimiento': '04/09/22'}"
   ]
  },
  {
   "cell_type": "code",
   "execution_count": 29,
   "id": "fa1eea47-f0cf-4186-9559-6bb2468cc475",
   "metadata": {},
   "outputs": [
    {
     "name": "stdout",
     "output_type": "stream",
     "text": [
      "Hola Sra. Maria\n"
     ]
    }
   ],
   "source": [
    "persona1['apellido']\n",
    "\n",
    "print (f\"Hola {persona2['titulo']} {persona2['nombre']}\")\n",
    "#print (f\"Hola {persona2[\"titulo\"]} {persona2[\"nombre\"]}\")"
   ]
  },
  {
   "cell_type": "code",
   "execution_count": 34,
   "id": "9c3f88a6-0d29-4777-9367-5223a0fef8b6",
   "metadata": {},
   "outputs": [
    {
     "name": "stdout",
     "output_type": "stream",
     "text": [
      "Sr. Romildo Ricardo Lopez, tiene una deuda con Claro que vence el 12/03/22\n"
     ]
    }
   ],
   "source": [
    "generar_mensaje(**persona1)"
   ]
  },
  {
   "cell_type": "markdown",
   "id": "15d7d6cd-9caf-4f95-8aca-7247b677e6da",
   "metadata": {},
   "source": [
    "A esta altura empezamos a tener mas de una funcion que nos definimos que nos pueden resultar utiles. Cuando empieza a pasar esto es buena idea separar las funciones que funcionan (que ya probamos y hacen lo que queremos) del cuerpo del codigo donde probamos cosas o procesamos los datos.\n",
    "\n",
    "Para eso vamos a crear un archivo mensajes.py (el nombre es arbitrario pero es importante que sea .py) con el siguiente codigo:\n",
    "\n",
    "```\n",
    "def generar_mensaje(titulo, nombre, segundo, apellido, servicio, vencimiento):\n",
    "    if segundo: # Aca el \"\" tiene valor False, si hay contenido en el str entonces tiene valor True. Magias de Python que es super flexible.\n",
    "        nombre_completo = nombre + \" \" + segundo\n",
    "    else:\n",
    "        nombre_completo = nombre\n",
    "    print (f'{titulo} {nombre_completo} {apellido}, tiene una deuda con {servicio} que vence el {vencimiento}')\n",
    "\n",
    "\n",
    "def mensaje_simple(nombre, segundo):\n",
    "    print (f\"Hola {nombre} {segundo}, tenemos un mensaje para usted pero se lo vamos a mandar en otro momento que nos cueste menos trabajo.\")\n",
    "```"
   ]
  },
  {
   "cell_type": "code",
   "execution_count": 49,
   "id": "4934bf8f-4f00-4549-93c6-837a2f59b687",
   "metadata": {},
   "outputs": [],
   "source": [
    "import pandas\n",
    "import utils   "
   ]
  },
  {
   "cell_type": "code",
   "execution_count": 38,
   "id": "1fe17524-f57f-4f25-993b-51fb6f602d7e",
   "metadata": {},
   "outputs": [],
   "source": [
    "datos = pandas.read_csv(\"C2-Ejemplo.csv\")"
   ]
  },
  {
   "cell_type": "code",
   "execution_count": 39,
   "id": "b1dec6e3-18bb-4bb8-9068-8a9047ed3297",
   "metadata": {},
   "outputs": [
    {
     "name": "stdout",
     "output_type": "stream",
     "text": [
      "  Titulo   Nombre Segundo nombre  Apellido  Servicio Fecha de vencimiento\n",
      "0    Sr.  Romildo        Ricardo     Lopez     Claro             12/03/22\n",
      "1   Sra.    Maria           Ines  Gonzales    Edenor             04/09/22\n",
      "2    Sr.   Danilo            NaN   Gugiari    Edenor             04/09/22\n",
      "3   Sra.   Romina         Camila     Perez  Movistar             09/10/22\n",
      "4   Sra.  Micaela            NaN     Vilas  Movistar             08/10/22\n"
     ]
    }
   ],
   "source": [
    "print (datos)"
   ]
  },
  {
   "cell_type": "code",
   "execution_count": 40,
   "id": "4b97542e-17cd-4ba2-b0ee-102f55031dcd",
   "metadata": {},
   "outputs": [
    {
     "data": {
      "text/html": [
       "<div>\n",
       "<style scoped>\n",
       "    .dataframe tbody tr th:only-of-type {\n",
       "        vertical-align: middle;\n",
       "    }\n",
       "\n",
       "    .dataframe tbody tr th {\n",
       "        vertical-align: top;\n",
       "    }\n",
       "\n",
       "    .dataframe thead th {\n",
       "        text-align: right;\n",
       "    }\n",
       "</style>\n",
       "<table border=\"1\" class=\"dataframe\">\n",
       "  <thead>\n",
       "    <tr style=\"text-align: right;\">\n",
       "      <th></th>\n",
       "      <th>Titulo</th>\n",
       "      <th>Nombre</th>\n",
       "      <th>Segundo nombre</th>\n",
       "      <th>Apellido</th>\n",
       "      <th>Servicio</th>\n",
       "      <th>Fecha de vencimiento</th>\n",
       "    </tr>\n",
       "  </thead>\n",
       "  <tbody>\n",
       "    <tr>\n",
       "      <th>0</th>\n",
       "      <td>Sr.</td>\n",
       "      <td>Romildo</td>\n",
       "      <td>Ricardo</td>\n",
       "      <td>Lopez</td>\n",
       "      <td>Claro</td>\n",
       "      <td>12/03/22</td>\n",
       "    </tr>\n",
       "    <tr>\n",
       "      <th>1</th>\n",
       "      <td>Sra.</td>\n",
       "      <td>Maria</td>\n",
       "      <td>Ines</td>\n",
       "      <td>Gonzales</td>\n",
       "      <td>Edenor</td>\n",
       "      <td>04/09/22</td>\n",
       "    </tr>\n",
       "    <tr>\n",
       "      <th>2</th>\n",
       "      <td>Sr.</td>\n",
       "      <td>Danilo</td>\n",
       "      <td>NaN</td>\n",
       "      <td>Gugiari</td>\n",
       "      <td>Edenor</td>\n",
       "      <td>04/09/22</td>\n",
       "    </tr>\n",
       "    <tr>\n",
       "      <th>3</th>\n",
       "      <td>Sra.</td>\n",
       "      <td>Romina</td>\n",
       "      <td>Camila</td>\n",
       "      <td>Perez</td>\n",
       "      <td>Movistar</td>\n",
       "      <td>09/10/22</td>\n",
       "    </tr>\n",
       "    <tr>\n",
       "      <th>4</th>\n",
       "      <td>Sra.</td>\n",
       "      <td>Micaela</td>\n",
       "      <td>NaN</td>\n",
       "      <td>Vilas</td>\n",
       "      <td>Movistar</td>\n",
       "      <td>08/10/22</td>\n",
       "    </tr>\n",
       "  </tbody>\n",
       "</table>\n",
       "</div>"
      ],
      "text/plain": [
       "  Titulo   Nombre Segundo nombre  Apellido  Servicio Fecha de vencimiento\n",
       "0    Sr.  Romildo        Ricardo     Lopez     Claro             12/03/22\n",
       "1   Sra.    Maria           Ines  Gonzales    Edenor             04/09/22\n",
       "2    Sr.   Danilo            NaN   Gugiari    Edenor             04/09/22\n",
       "3   Sra.   Romina         Camila     Perez  Movistar             09/10/22\n",
       "4   Sra.  Micaela            NaN     Vilas  Movistar             08/10/22"
      ]
     },
     "metadata": {},
     "output_type": "display_data"
    }
   ],
   "source": [
    "display (datos)"
   ]
  },
  {
   "cell_type": "code",
   "execution_count": 43,
   "id": "9d6acdaa-977d-46fa-bb79-b5021c92df76",
   "metadata": {},
   "outputs": [
    {
     "data": {
      "text/plain": [
       "0    Romildo\n",
       "1      Maria\n",
       "2     Danilo\n",
       "3     Romina\n",
       "4    Micaela\n",
       "Name: Nombre, dtype: object"
      ]
     },
     "execution_count": 43,
     "metadata": {},
     "output_type": "execute_result"
    }
   ],
   "source": [
    "datos['Nombre']"
   ]
  },
  {
   "cell_type": "code",
   "execution_count": 46,
   "id": "79810bb3-7394-4d4f-9698-d94bc6242624",
   "metadata": {},
   "outputs": [
    {
     "name": "stdout",
     "output_type": "stream",
     "text": [
      "Romildo\n",
      "Maria\n",
      "Danilo\n",
      "Romina\n",
      "Micaela\n"
     ]
    }
   ],
   "source": [
    "for index, contenido in datos.iterrows():\n",
    "    print (contenido['Nombre'])"
   ]
  },
  {
   "cell_type": "code",
   "execution_count": 52,
   "id": "67a410d6-f68d-472c-a203-18d76df91ddb",
   "metadata": {},
   "outputs": [
    {
     "name": "stdout",
     "output_type": "stream",
     "text": [
      "Sr. Romildo Ricardo Lopez, tiene una deuda con Claro que vence el 12/03/22\n",
      "Sra. Maria Ines Gonzales, tiene una deuda con Edenor que vence el 04/09/22\n"
     ]
    },
    {
     "ename": "TypeError",
     "evalue": "can only concatenate str (not \"float\") to str",
     "output_type": "error",
     "traceback": [
      "\u001b[1;31m---------------------------------------------------------------------------\u001b[0m",
      "\u001b[1;31mTypeError\u001b[0m                                 Traceback (most recent call last)",
      "Input \u001b[1;32mIn [52]\u001b[0m, in \u001b[0;36m<cell line: 1>\u001b[1;34m()\u001b[0m\n\u001b[0;32m      1\u001b[0m \u001b[38;5;28;01mfor\u001b[39;00m index, contenido \u001b[38;5;129;01min\u001b[39;00m datos\u001b[38;5;241m.\u001b[39miterrows():\n\u001b[1;32m----> 2\u001b[0m     \u001b[43mutils\u001b[49m\u001b[38;5;241;43m.\u001b[39;49m\u001b[43mgenerar_mensaje\u001b[49m\u001b[43m(\u001b[49m\u001b[38;5;241;43m*\u001b[39;49m\u001b[38;5;241;43m*\u001b[39;49m\u001b[43mcontenido\u001b[49m\u001b[43m)\u001b[49m\n",
      "File \u001b[1;32mD:\\Trabajos\\DH\\Cursos_DHDS_CN13\\Clases\\C2 - Python\\utils.py:5\u001b[0m, in \u001b[0;36mgenerar_mensaje\u001b[1;34m(titulo, nombre, segundo, apellido, servicio, vencimiento)\u001b[0m\n\u001b[0;32m      3\u001b[0m \u001b[38;5;28;01mdef\u001b[39;00m \u001b[38;5;21mgenerar_mensaje\u001b[39m(titulo, nombre, segundo, apellido, servicio, vencimiento):\n\u001b[0;32m      4\u001b[0m     \u001b[38;5;28;01mif\u001b[39;00m segundo: \u001b[38;5;66;03m# Aca el \"\" tiene valor False, si hay contenido en el str entonces tiene valor True. Magias de Python que es super flexible.\u001b[39;00m\n\u001b[1;32m----> 5\u001b[0m         nombre_completo \u001b[38;5;241m=\u001b[39m \u001b[43mnombre\u001b[49m\u001b[43m \u001b[49m\u001b[38;5;241;43m+\u001b[39;49m\u001b[43m \u001b[49m\u001b[38;5;124;43m\"\u001b[39;49m\u001b[38;5;124;43m \u001b[39;49m\u001b[38;5;124;43m\"\u001b[39;49m\u001b[43m \u001b[49m\u001b[38;5;241;43m+\u001b[39;49m\u001b[43m \u001b[49m\u001b[43msegundo\u001b[49m\n\u001b[0;32m      6\u001b[0m     \u001b[38;5;28;01melse\u001b[39;00m:\n\u001b[0;32m      7\u001b[0m         nombre_completo \u001b[38;5;241m=\u001b[39m nombre\n",
      "\u001b[1;31mTypeError\u001b[0m: can only concatenate str (not \"float\") to str"
     ]
    }
   ],
   "source": [
    "for index, contenido in datos.iterrows():\n",
    "    utils.generar_mensaje(**contenido)"
   ]
  },
  {
   "cell_type": "code",
   "execution_count": 51,
   "id": "f1523aca-26e8-42ee-9f44-80470ae85cef",
   "metadata": {},
   "outputs": [
    {
     "data": {
      "text/html": [
       "<div>\n",
       "<style scoped>\n",
       "    .dataframe tbody tr th:only-of-type {\n",
       "        vertical-align: middle;\n",
       "    }\n",
       "\n",
       "    .dataframe tbody tr th {\n",
       "        vertical-align: top;\n",
       "    }\n",
       "\n",
       "    .dataframe thead th {\n",
       "        text-align: right;\n",
       "    }\n",
       "</style>\n",
       "<table border=\"1\" class=\"dataframe\">\n",
       "  <thead>\n",
       "    <tr style=\"text-align: right;\">\n",
       "      <th></th>\n",
       "      <th>titulo</th>\n",
       "      <th>nombre</th>\n",
       "      <th>segundo</th>\n",
       "      <th>apellido</th>\n",
       "      <th>servicio</th>\n",
       "      <th>vencimiento</th>\n",
       "    </tr>\n",
       "  </thead>\n",
       "  <tbody>\n",
       "    <tr>\n",
       "      <th>0</th>\n",
       "      <td>Sr.</td>\n",
       "      <td>Romildo</td>\n",
       "      <td>Ricardo</td>\n",
       "      <td>Lopez</td>\n",
       "      <td>Claro</td>\n",
       "      <td>12/03/22</td>\n",
       "    </tr>\n",
       "    <tr>\n",
       "      <th>1</th>\n",
       "      <td>Sra.</td>\n",
       "      <td>Maria</td>\n",
       "      <td>Ines</td>\n",
       "      <td>Gonzales</td>\n",
       "      <td>Edenor</td>\n",
       "      <td>04/09/22</td>\n",
       "    </tr>\n",
       "    <tr>\n",
       "      <th>2</th>\n",
       "      <td>Sr.</td>\n",
       "      <td>Danilo</td>\n",
       "      <td>NaN</td>\n",
       "      <td>Gugiari</td>\n",
       "      <td>Edenor</td>\n",
       "      <td>04/09/22</td>\n",
       "    </tr>\n",
       "    <tr>\n",
       "      <th>3</th>\n",
       "      <td>Sra.</td>\n",
       "      <td>Romina</td>\n",
       "      <td>Camila</td>\n",
       "      <td>Perez</td>\n",
       "      <td>Movistar</td>\n",
       "      <td>09/10/22</td>\n",
       "    </tr>\n",
       "    <tr>\n",
       "      <th>4</th>\n",
       "      <td>Sra.</td>\n",
       "      <td>Micaela</td>\n",
       "      <td>NaN</td>\n",
       "      <td>Vilas</td>\n",
       "      <td>Movistar</td>\n",
       "      <td>08/10/22</td>\n",
       "    </tr>\n",
       "  </tbody>\n",
       "</table>\n",
       "</div>"
      ],
      "text/plain": [
       "  titulo   nombre  segundo  apellido  servicio vencimiento\n",
       "0    Sr.  Romildo  Ricardo     Lopez     Claro    12/03/22\n",
       "1   Sra.    Maria     Ines  Gonzales    Edenor    04/09/22\n",
       "2    Sr.   Danilo      NaN   Gugiari    Edenor    04/09/22\n",
       "3   Sra.   Romina   Camila     Perez  Movistar    09/10/22\n",
       "4   Sra.  Micaela      NaN     Vilas  Movistar    08/10/22"
      ]
     },
     "metadata": {},
     "output_type": "display_data"
    }
   ],
   "source": [
    "datos = datos.rename(columns = {'Titulo':'titulo','Nombre':'nombre','Segundo nombre':'segundo','Apellido':'apellido','Servicio':'servicio','Fecha de vencimiento':'vencimiento'})\n",
    "display (datos)"
   ]
  },
  {
   "cell_type": "code",
   "execution_count": 59,
   "id": "9602bd94-932f-4caf-a56f-bb5d6ca73fd8",
   "metadata": {},
   "outputs": [],
   "source": [
    "def generar_mensaje_test(titulo, nombre, segundo, apellido, servicio, vencimiento):\n",
    "    #print (segundo)\n",
    "    #print (type(segundo))\n",
    "    #if segundo:\n",
    "    if segundo and type(segundo) == str: # Aca el \"\" tiene valor False, si hay contenido en el str entonces tiene valor True. Magias de Python que es super flexible.\n",
    "        nombre_completo = nombre + \" \" + segundo\n",
    "    else:\n",
    "        nombre_completo = nombre\n",
    "    print (f'{titulo} {nombre_completo} {apellido}, tiene una deuda con {servicio} que vence el {vencimiento}')\n"
   ]
  },
  {
   "cell_type": "code",
   "execution_count": 61,
   "id": "ef5d7300-078e-45c9-aa92-edd87cab1569",
   "metadata": {},
   "outputs": [
    {
     "name": "stdout",
     "output_type": "stream",
     "text": [
      "Sr. Romildo Ricardo Lopez, tiene una deuda con Claro que vence el 12/03/22\n",
      "Sra. Maria Ines Gonzales, tiene una deuda con Edenor que vence el 04/09/22\n",
      "Sr. Danilo Gugiari, tiene una deuda con Edenor que vence el 04/09/22\n",
      "Sra. Romina Camila Perez, tiene una deuda con Movistar que vence el 09/10/22\n",
      "Sra. Micaela Vilas, tiene una deuda con Movistar que vence el 08/10/22\n"
     ]
    }
   ],
   "source": [
    "for index, hola in datos.iterrows():\n",
    "    generar_mensaje_test(**hola)"
   ]
  }
 ],
 "metadata": {
  "kernelspec": {
   "display_name": "Python 3 (ipykernel)",
   "language": "python",
   "name": "python3"
  },
  "language_info": {
   "codemirror_mode": {
    "name": "ipython",
    "version": 3
   },
   "file_extension": ".py",
   "mimetype": "text/x-python",
   "name": "python",
   "nbconvert_exporter": "python",
   "pygments_lexer": "ipython3",
   "version": "3.8.13"
  }
 },
 "nbformat": 4,
 "nbformat_minor": 5
}
